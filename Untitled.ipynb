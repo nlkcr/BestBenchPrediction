{
 "cells": [
  {
   "cell_type": "markdown",
   "id": "e8117ea9-31f3-4d19-8f38-b4f7c6e69cd8",
   "metadata": {},
   "source": [
    "# İmporting some useful libraries #"
   ]
  },
  {
   "cell_type": "code",
   "execution_count": 1,
   "id": "2182cbe4-3558-4f7c-abd5-11e1f0529f84",
   "metadata": {},
   "outputs": [],
   "source": [
    "import pandas as pd\n",
    "import numpy as np\n",
    "testxdf = pd.read_csv(\"X_test.csv\")\n",
    "testydf = pd.read_csv(\"y_test.csv\")\n",
    "trainxdf = pd.read_csv(\"X_train.csv\")\n",
    "trainydf = pd.read_csv(\"y_train.csv\")"
   ]
  },
  {
   "cell_type": "code",
   "execution_count": 2,
   "id": "0e0dde47-b66d-4920-b433-9a6383c9f595",
   "metadata": {},
   "outputs": [],
   "source": [
    "import matplotlib.pyplot as plt\n",
    "import seaborn as sns"
   ]
  },
  {
   "cell_type": "markdown",
   "id": "28d71071-d706-48b5-a34f-434f58923efd",
   "metadata": {},
   "source": [
    "## Concating datasets in a single dataset ##"
   ]
  },
  {
   "cell_type": "code",
   "execution_count": 3,
   "id": "9f2d3fc6-45d4-49ee-8271-4086d9abc46e",
   "metadata": {},
   "outputs": [
    {
     "data": {
      "text/html": [
       "<div>\n",
       "<style scoped>\n",
       "    .dataframe tbody tr th:only-of-type {\n",
       "        vertical-align: middle;\n",
       "    }\n",
       "\n",
       "    .dataframe tbody tr th {\n",
       "        vertical-align: top;\n",
       "    }\n",
       "\n",
       "    .dataframe thead th {\n",
       "        text-align: right;\n",
       "    }\n",
       "</style>\n",
       "<table border=\"1\" class=\"dataframe\">\n",
       "  <thead>\n",
       "    <tr style=\"text-align: right;\">\n",
       "      <th></th>\n",
       "      <th>playerId</th>\n",
       "      <th>Name</th>\n",
       "      <th>Sex</th>\n",
       "      <th>Equipment</th>\n",
       "      <th>Age</th>\n",
       "      <th>BodyweightKg</th>\n",
       "      <th>BestSquatKg</th>\n",
       "      <th>BestDeadliftKg</th>\n",
       "    </tr>\n",
       "  </thead>\n",
       "  <tbody>\n",
       "    <tr>\n",
       "      <th>0</th>\n",
       "      <td>2308.0</td>\n",
       "      <td>Peter Neeves</td>\n",
       "      <td>M</td>\n",
       "      <td>Wraps</td>\n",
       "      <td>30.0</td>\n",
       "      <td>89.81</td>\n",
       "      <td>179.17</td>\n",
       "      <td>192.78</td>\n",
       "    </tr>\n",
       "    <tr>\n",
       "      <th>1</th>\n",
       "      <td>22404.0</td>\n",
       "      <td>Josh Padilla</td>\n",
       "      <td>M</td>\n",
       "      <td>Raw</td>\n",
       "      <td>27.0</td>\n",
       "      <td>74.95</td>\n",
       "      <td>125.00</td>\n",
       "      <td>165.00</td>\n",
       "    </tr>\n",
       "    <tr>\n",
       "      <th>2</th>\n",
       "      <td>23397.0</td>\n",
       "      <td>Luke Dreier</td>\n",
       "      <td>M</td>\n",
       "      <td>Wraps</td>\n",
       "      <td>30.0</td>\n",
       "      <td>122.61</td>\n",
       "      <td>290.00</td>\n",
       "      <td>317.50</td>\n",
       "    </tr>\n",
       "    <tr>\n",
       "      <th>3</th>\n",
       "      <td>25058.0</td>\n",
       "      <td>Jacob New</td>\n",
       "      <td>M</td>\n",
       "      <td>Raw</td>\n",
       "      <td>20.0</td>\n",
       "      <td>88.00</td>\n",
       "      <td>187.50</td>\n",
       "      <td>240.00</td>\n",
       "    </tr>\n",
       "    <tr>\n",
       "      <th>4</th>\n",
       "      <td>2664.0</td>\n",
       "      <td>Jesse Burdick</td>\n",
       "      <td>M</td>\n",
       "      <td>Wraps</td>\n",
       "      <td>30.0</td>\n",
       "      <td>122.00</td>\n",
       "      <td>235.01</td>\n",
       "      <td>275.01</td>\n",
       "    </tr>\n",
       "    <tr>\n",
       "      <th>...</th>\n",
       "      <td>...</td>\n",
       "      <td>...</td>\n",
       "      <td>...</td>\n",
       "      <td>...</td>\n",
       "      <td>...</td>\n",
       "      <td>...</td>\n",
       "      <td>...</td>\n",
       "      <td>...</td>\n",
       "    </tr>\n",
       "    <tr>\n",
       "      <th>11095</th>\n",
       "      <td>3104.0</td>\n",
       "      <td>Dimitrios Rallis</td>\n",
       "      <td>M</td>\n",
       "      <td>Wraps</td>\n",
       "      <td>28.0</td>\n",
       "      <td>98.20</td>\n",
       "      <td>270.00</td>\n",
       "      <td>315.00</td>\n",
       "    </tr>\n",
       "    <tr>\n",
       "      <th>11096</th>\n",
       "      <td>10239.0</td>\n",
       "      <td>Amber Skewes</td>\n",
       "      <td>F</td>\n",
       "      <td>Raw</td>\n",
       "      <td>36.0</td>\n",
       "      <td>58.80</td>\n",
       "      <td>92.50</td>\n",
       "      <td>137.50</td>\n",
       "    </tr>\n",
       "    <tr>\n",
       "      <th>11097</th>\n",
       "      <td>29044.0</td>\n",
       "      <td>Brandon Mose</td>\n",
       "      <td>M</td>\n",
       "      <td>Raw</td>\n",
       "      <td>22.5</td>\n",
       "      <td>82.62</td>\n",
       "      <td>250.00</td>\n",
       "      <td>311.00</td>\n",
       "    </tr>\n",
       "    <tr>\n",
       "      <th>11098</th>\n",
       "      <td>29947.0</td>\n",
       "      <td>Missy Lavoie</td>\n",
       "      <td>F</td>\n",
       "      <td>Wraps</td>\n",
       "      <td>28.0</td>\n",
       "      <td>74.30</td>\n",
       "      <td>105.00</td>\n",
       "      <td>152.50</td>\n",
       "    </tr>\n",
       "    <tr>\n",
       "      <th>11099</th>\n",
       "      <td>1647.0</td>\n",
       "      <td>Alexandra Dahlgren</td>\n",
       "      <td>F</td>\n",
       "      <td>Raw</td>\n",
       "      <td>22.0</td>\n",
       "      <td>55.80</td>\n",
       "      <td>105.00</td>\n",
       "      <td>145.00</td>\n",
       "    </tr>\n",
       "  </tbody>\n",
       "</table>\n",
       "<p>11100 rows × 8 columns</p>\n",
       "</div>"
      ],
      "text/plain": [
       "       playerId                Name Sex Equipment   Age  BodyweightKg  \\\n",
       "0        2308.0        Peter Neeves   M     Wraps  30.0         89.81   \n",
       "1       22404.0        Josh Padilla   M       Raw  27.0         74.95   \n",
       "2       23397.0         Luke Dreier   M     Wraps  30.0        122.61   \n",
       "3       25058.0           Jacob New   M       Raw  20.0         88.00   \n",
       "4        2664.0       Jesse Burdick   M     Wraps  30.0        122.00   \n",
       "...         ...                 ...  ..       ...   ...           ...   \n",
       "11095    3104.0    Dimitrios Rallis   M     Wraps  28.0         98.20   \n",
       "11096   10239.0        Amber Skewes   F       Raw  36.0         58.80   \n",
       "11097   29044.0        Brandon Mose   M       Raw  22.5         82.62   \n",
       "11098   29947.0        Missy Lavoie   F     Wraps  28.0         74.30   \n",
       "11099    1647.0  Alexandra Dahlgren   F       Raw  22.0         55.80   \n",
       "\n",
       "       BestSquatKg  BestDeadliftKg  \n",
       "0           179.17          192.78  \n",
       "1           125.00          165.00  \n",
       "2           290.00          317.50  \n",
       "3           187.50          240.00  \n",
       "4           235.01          275.01  \n",
       "...            ...             ...  \n",
       "11095       270.00          315.00  \n",
       "11096        92.50          137.50  \n",
       "11097       250.00          311.00  \n",
       "11098       105.00          152.50  \n",
       "11099       105.00          145.00  \n",
       "\n",
       "[11100 rows x 8 columns]"
      ]
     },
     "execution_count": 3,
     "metadata": {},
     "output_type": "execute_result"
    }
   ],
   "source": [
    "testxdf"
   ]
  },
  {
   "cell_type": "code",
   "execution_count": 4,
   "id": "5242d768-9f89-4d1c-8fa7-6cc2e178add8",
   "metadata": {},
   "outputs": [],
   "source": [
    "testydf = testydf[[\"BestBenchKg\"]]"
   ]
  },
  {
   "cell_type": "code",
   "execution_count": 5,
   "id": "4b075e77-ec7b-4d17-87e9-0d88866827df",
   "metadata": {},
   "outputs": [],
   "source": [
    "testDF = pd.concat([testxdf,testydf],axis=1)"
   ]
  },
  {
   "cell_type": "code",
   "execution_count": 6,
   "id": "b25f681c-668f-459b-bd05-af22237d5202",
   "metadata": {},
   "outputs": [
    {
     "data": {
      "text/html": [
       "<div>\n",
       "<style scoped>\n",
       "    .dataframe tbody tr th:only-of-type {\n",
       "        vertical-align: middle;\n",
       "    }\n",
       "\n",
       "    .dataframe tbody tr th {\n",
       "        vertical-align: top;\n",
       "    }\n",
       "\n",
       "    .dataframe thead th {\n",
       "        text-align: right;\n",
       "    }\n",
       "</style>\n",
       "<table border=\"1\" class=\"dataframe\">\n",
       "  <thead>\n",
       "    <tr style=\"text-align: right;\">\n",
       "      <th></th>\n",
       "      <th>playerId</th>\n",
       "      <th>Name</th>\n",
       "      <th>Sex</th>\n",
       "      <th>Equipment</th>\n",
       "      <th>Age</th>\n",
       "      <th>BodyweightKg</th>\n",
       "      <th>BestSquatKg</th>\n",
       "      <th>BestDeadliftKg</th>\n",
       "      <th>BestBenchKg</th>\n",
       "    </tr>\n",
       "  </thead>\n",
       "  <tbody>\n",
       "    <tr>\n",
       "      <th>0</th>\n",
       "      <td>2308.0</td>\n",
       "      <td>Peter Neeves</td>\n",
       "      <td>M</td>\n",
       "      <td>Wraps</td>\n",
       "      <td>30.0</td>\n",
       "      <td>89.81</td>\n",
       "      <td>179.17</td>\n",
       "      <td>192.78</td>\n",
       "      <td>97.52</td>\n",
       "    </tr>\n",
       "    <tr>\n",
       "      <th>1</th>\n",
       "      <td>22404.0</td>\n",
       "      <td>Josh Padilla</td>\n",
       "      <td>M</td>\n",
       "      <td>Raw</td>\n",
       "      <td>27.0</td>\n",
       "      <td>74.95</td>\n",
       "      <td>125.00</td>\n",
       "      <td>165.00</td>\n",
       "      <td>75.00</td>\n",
       "    </tr>\n",
       "    <tr>\n",
       "      <th>2</th>\n",
       "      <td>23397.0</td>\n",
       "      <td>Luke Dreier</td>\n",
       "      <td>M</td>\n",
       "      <td>Wraps</td>\n",
       "      <td>30.0</td>\n",
       "      <td>122.61</td>\n",
       "      <td>290.00</td>\n",
       "      <td>317.50</td>\n",
       "      <td>190.00</td>\n",
       "    </tr>\n",
       "    <tr>\n",
       "      <th>3</th>\n",
       "      <td>25058.0</td>\n",
       "      <td>Jacob New</td>\n",
       "      <td>M</td>\n",
       "      <td>Raw</td>\n",
       "      <td>20.0</td>\n",
       "      <td>88.00</td>\n",
       "      <td>187.50</td>\n",
       "      <td>240.00</td>\n",
       "      <td>117.50</td>\n",
       "    </tr>\n",
       "    <tr>\n",
       "      <th>4</th>\n",
       "      <td>2664.0</td>\n",
       "      <td>Jesse Burdick</td>\n",
       "      <td>M</td>\n",
       "      <td>Wraps</td>\n",
       "      <td>30.0</td>\n",
       "      <td>122.00</td>\n",
       "      <td>235.01</td>\n",
       "      <td>275.01</td>\n",
       "      <td>145.01</td>\n",
       "    </tr>\n",
       "    <tr>\n",
       "      <th>...</th>\n",
       "      <td>...</td>\n",
       "      <td>...</td>\n",
       "      <td>...</td>\n",
       "      <td>...</td>\n",
       "      <td>...</td>\n",
       "      <td>...</td>\n",
       "      <td>...</td>\n",
       "      <td>...</td>\n",
       "      <td>...</td>\n",
       "    </tr>\n",
       "    <tr>\n",
       "      <th>11095</th>\n",
       "      <td>3104.0</td>\n",
       "      <td>Dimitrios Rallis</td>\n",
       "      <td>M</td>\n",
       "      <td>Wraps</td>\n",
       "      <td>28.0</td>\n",
       "      <td>98.20</td>\n",
       "      <td>270.00</td>\n",
       "      <td>315.00</td>\n",
       "      <td>160.00</td>\n",
       "    </tr>\n",
       "    <tr>\n",
       "      <th>11096</th>\n",
       "      <td>10239.0</td>\n",
       "      <td>Amber Skewes</td>\n",
       "      <td>F</td>\n",
       "      <td>Raw</td>\n",
       "      <td>36.0</td>\n",
       "      <td>58.80</td>\n",
       "      <td>92.50</td>\n",
       "      <td>137.50</td>\n",
       "      <td>57.50</td>\n",
       "    </tr>\n",
       "    <tr>\n",
       "      <th>11097</th>\n",
       "      <td>29044.0</td>\n",
       "      <td>Brandon Mose</td>\n",
       "      <td>M</td>\n",
       "      <td>Raw</td>\n",
       "      <td>22.5</td>\n",
       "      <td>82.62</td>\n",
       "      <td>250.00</td>\n",
       "      <td>311.00</td>\n",
       "      <td>175.00</td>\n",
       "    </tr>\n",
       "    <tr>\n",
       "      <th>11098</th>\n",
       "      <td>29947.0</td>\n",
       "      <td>Missy Lavoie</td>\n",
       "      <td>F</td>\n",
       "      <td>Wraps</td>\n",
       "      <td>28.0</td>\n",
       "      <td>74.30</td>\n",
       "      <td>105.00</td>\n",
       "      <td>152.50</td>\n",
       "      <td>70.00</td>\n",
       "    </tr>\n",
       "    <tr>\n",
       "      <th>11099</th>\n",
       "      <td>1647.0</td>\n",
       "      <td>Alexandra Dahlgren</td>\n",
       "      <td>F</td>\n",
       "      <td>Raw</td>\n",
       "      <td>22.0</td>\n",
       "      <td>55.80</td>\n",
       "      <td>105.00</td>\n",
       "      <td>145.00</td>\n",
       "      <td>55.00</td>\n",
       "    </tr>\n",
       "  </tbody>\n",
       "</table>\n",
       "<p>11100 rows × 9 columns</p>\n",
       "</div>"
      ],
      "text/plain": [
       "       playerId                Name Sex Equipment   Age  BodyweightKg  \\\n",
       "0        2308.0        Peter Neeves   M     Wraps  30.0         89.81   \n",
       "1       22404.0        Josh Padilla   M       Raw  27.0         74.95   \n",
       "2       23397.0         Luke Dreier   M     Wraps  30.0        122.61   \n",
       "3       25058.0           Jacob New   M       Raw  20.0         88.00   \n",
       "4        2664.0       Jesse Burdick   M     Wraps  30.0        122.00   \n",
       "...         ...                 ...  ..       ...   ...           ...   \n",
       "11095    3104.0    Dimitrios Rallis   M     Wraps  28.0         98.20   \n",
       "11096   10239.0        Amber Skewes   F       Raw  36.0         58.80   \n",
       "11097   29044.0        Brandon Mose   M       Raw  22.5         82.62   \n",
       "11098   29947.0        Missy Lavoie   F     Wraps  28.0         74.30   \n",
       "11099    1647.0  Alexandra Dahlgren   F       Raw  22.0         55.80   \n",
       "\n",
       "       BestSquatKg  BestDeadliftKg  BestBenchKg  \n",
       "0           179.17          192.78        97.52  \n",
       "1           125.00          165.00        75.00  \n",
       "2           290.00          317.50       190.00  \n",
       "3           187.50          240.00       117.50  \n",
       "4           235.01          275.01       145.01  \n",
       "...            ...             ...          ...  \n",
       "11095       270.00          315.00       160.00  \n",
       "11096        92.50          137.50        57.50  \n",
       "11097       250.00          311.00       175.00  \n",
       "11098       105.00          152.50        70.00  \n",
       "11099       105.00          145.00        55.00  \n",
       "\n",
       "[11100 rows x 9 columns]"
      ]
     },
     "execution_count": 6,
     "metadata": {},
     "output_type": "execute_result"
    }
   ],
   "source": [
    "testDF"
   ]
  },
  {
   "cell_type": "code",
   "execution_count": 7,
   "id": "18d55701-e07a-4d2b-b29c-2c0a783443fb",
   "metadata": {},
   "outputs": [],
   "source": [
    "trainydf = trainydf[[\"BestBenchKg\"]]"
   ]
  },
  {
   "cell_type": "code",
   "execution_count": 8,
   "id": "a6484c68-cac9-4635-80a5-a4e852429fb7",
   "metadata": {},
   "outputs": [],
   "source": [
    "traindf = pd.concat([trainxdf,trainydf],axis=1)"
   ]
  },
  {
   "cell_type": "code",
   "execution_count": 9,
   "id": "a4a2e363-988a-4a5c-85c2-fdea7f9afde9",
   "metadata": {},
   "outputs": [],
   "source": [
    "df = pd.concat([testDF,traindf],axis=0)"
   ]
  },
  {
   "cell_type": "markdown",
   "id": "5a94de6d-b790-4180-883a-4d07e0a66ef7",
   "metadata": {},
   "source": [
    "## Analyzing the dataset ##"
   ]
  },
  {
   "cell_type": "code",
   "execution_count": 10,
   "id": "12ace352-1ea5-4c6a-8343-f1d6e1e47c02",
   "metadata": {},
   "outputs": [
    {
     "data": {
      "text/html": [
       "<div>\n",
       "<style scoped>\n",
       "    .dataframe tbody tr th:only-of-type {\n",
       "        vertical-align: middle;\n",
       "    }\n",
       "\n",
       "    .dataframe tbody tr th {\n",
       "        vertical-align: top;\n",
       "    }\n",
       "\n",
       "    .dataframe thead th {\n",
       "        text-align: right;\n",
       "    }\n",
       "</style>\n",
       "<table border=\"1\" class=\"dataframe\">\n",
       "  <thead>\n",
       "    <tr style=\"text-align: right;\">\n",
       "      <th></th>\n",
       "      <th>count</th>\n",
       "      <th>mean</th>\n",
       "      <th>std</th>\n",
       "      <th>min</th>\n",
       "      <th>25%</th>\n",
       "      <th>50%</th>\n",
       "      <th>75%</th>\n",
       "      <th>max</th>\n",
       "    </tr>\n",
       "  </thead>\n",
       "  <tbody>\n",
       "    <tr>\n",
       "      <th>playerId</th>\n",
       "      <td>30000.0</td>\n",
       "      <td>14999.500000</td>\n",
       "      <td>8660.398374</td>\n",
       "      <td>0.0</td>\n",
       "      <td>7499.75</td>\n",
       "      <td>14999.50</td>\n",
       "      <td>22499.25</td>\n",
       "      <td>29999.0</td>\n",
       "    </tr>\n",
       "    <tr>\n",
       "      <th>Age</th>\n",
       "      <td>29580.0</td>\n",
       "      <td>29.678786</td>\n",
       "      <td>11.576102</td>\n",
       "      <td>7.0</td>\n",
       "      <td>21.50</td>\n",
       "      <td>26.50</td>\n",
       "      <td>35.00</td>\n",
       "      <td>89.5</td>\n",
       "    </tr>\n",
       "    <tr>\n",
       "      <th>BodyweightKg</th>\n",
       "      <td>30000.0</td>\n",
       "      <td>85.359097</td>\n",
       "      <td>22.881926</td>\n",
       "      <td>24.1</td>\n",
       "      <td>68.05</td>\n",
       "      <td>82.10</td>\n",
       "      <td>98.88</td>\n",
       "      <td>242.4</td>\n",
       "    </tr>\n",
       "    <tr>\n",
       "      <th>BestDeadliftKg</th>\n",
       "      <td>30000.0</td>\n",
       "      <td>201.114296</td>\n",
       "      <td>62.369995</td>\n",
       "      <td>18.1</td>\n",
       "      <td>147.50</td>\n",
       "      <td>204.12</td>\n",
       "      <td>247.50</td>\n",
       "      <td>420.5</td>\n",
       "    </tr>\n",
       "    <tr>\n",
       "      <th>BestBenchKg</th>\n",
       "      <td>30000.0</td>\n",
       "      <td>116.507738</td>\n",
       "      <td>52.355810</td>\n",
       "      <td>-280.0</td>\n",
       "      <td>72.50</td>\n",
       "      <td>115.00</td>\n",
       "      <td>150.00</td>\n",
       "      <td>425.0</td>\n",
       "    </tr>\n",
       "  </tbody>\n",
       "</table>\n",
       "</div>"
      ],
      "text/plain": [
       "                  count          mean          std    min      25%       50%  \\\n",
       "playerId        30000.0  14999.500000  8660.398374    0.0  7499.75  14999.50   \n",
       "Age             29580.0     29.678786    11.576102    7.0    21.50     26.50   \n",
       "BodyweightKg    30000.0     85.359097    22.881926   24.1    68.05     82.10   \n",
       "BestDeadliftKg  30000.0    201.114296    62.369995   18.1   147.50    204.12   \n",
       "BestBenchKg     30000.0    116.507738    52.355810 -280.0    72.50    115.00   \n",
       "\n",
       "                     75%      max  \n",
       "playerId        22499.25  29999.0  \n",
       "Age                35.00     89.5  \n",
       "BodyweightKg       98.88    242.4  \n",
       "BestDeadliftKg    247.50    420.5  \n",
       "BestBenchKg       150.00    425.0  "
      ]
     },
     "execution_count": 10,
     "metadata": {},
     "output_type": "execute_result"
    }
   ],
   "source": [
    "df.describe().T"
   ]
  },
  {
   "cell_type": "code",
   "execution_count": 11,
   "id": "41c25e68-855a-4fb4-8e5d-6a46f4a91177",
   "metadata": {},
   "outputs": [
    {
     "data": {
      "text/html": [
       "<div>\n",
       "<style scoped>\n",
       "    .dataframe tbody tr th:only-of-type {\n",
       "        vertical-align: middle;\n",
       "    }\n",
       "\n",
       "    .dataframe tbody tr th {\n",
       "        vertical-align: top;\n",
       "    }\n",
       "\n",
       "    .dataframe thead th {\n",
       "        text-align: right;\n",
       "    }\n",
       "</style>\n",
       "<table border=\"1\" class=\"dataframe\">\n",
       "  <thead>\n",
       "    <tr style=\"text-align: right;\">\n",
       "      <th></th>\n",
       "      <th>count</th>\n",
       "      <th>mean</th>\n",
       "      <th>std</th>\n",
       "      <th>min</th>\n",
       "      <th>25%</th>\n",
       "      <th>50%</th>\n",
       "      <th>75%</th>\n",
       "      <th>max</th>\n",
       "    </tr>\n",
       "  </thead>\n",
       "  <tbody>\n",
       "    <tr>\n",
       "      <th>playerId</th>\n",
       "      <td>30000.0</td>\n",
       "      <td>14999.500000</td>\n",
       "      <td>8660.398374</td>\n",
       "      <td>0.0</td>\n",
       "      <td>7499.75</td>\n",
       "      <td>14999.50</td>\n",
       "      <td>22499.25</td>\n",
       "      <td>29999.0</td>\n",
       "    </tr>\n",
       "    <tr>\n",
       "      <th>Age</th>\n",
       "      <td>29580.0</td>\n",
       "      <td>29.678786</td>\n",
       "      <td>11.576102</td>\n",
       "      <td>7.0</td>\n",
       "      <td>21.50</td>\n",
       "      <td>26.50</td>\n",
       "      <td>35.00</td>\n",
       "      <td>89.5</td>\n",
       "    </tr>\n",
       "    <tr>\n",
       "      <th>BodyweightKg</th>\n",
       "      <td>30000.0</td>\n",
       "      <td>85.359097</td>\n",
       "      <td>22.881926</td>\n",
       "      <td>24.1</td>\n",
       "      <td>68.05</td>\n",
       "      <td>82.10</td>\n",
       "      <td>98.88</td>\n",
       "      <td>242.4</td>\n",
       "    </tr>\n",
       "    <tr>\n",
       "      <th>BestDeadliftKg</th>\n",
       "      <td>30000.0</td>\n",
       "      <td>201.114296</td>\n",
       "      <td>62.369995</td>\n",
       "      <td>18.1</td>\n",
       "      <td>147.50</td>\n",
       "      <td>204.12</td>\n",
       "      <td>247.50</td>\n",
       "      <td>420.5</td>\n",
       "    </tr>\n",
       "    <tr>\n",
       "      <th>BestBenchKg</th>\n",
       "      <td>30000.0</td>\n",
       "      <td>116.507738</td>\n",
       "      <td>52.355810</td>\n",
       "      <td>-280.0</td>\n",
       "      <td>72.50</td>\n",
       "      <td>115.00</td>\n",
       "      <td>150.00</td>\n",
       "      <td>425.0</td>\n",
       "    </tr>\n",
       "  </tbody>\n",
       "</table>\n",
       "</div>"
      ],
      "text/plain": [
       "                  count          mean          std    min      25%       50%  \\\n",
       "playerId        30000.0  14999.500000  8660.398374    0.0  7499.75  14999.50   \n",
       "Age             29580.0     29.678786    11.576102    7.0    21.50     26.50   \n",
       "BodyweightKg    30000.0     85.359097    22.881926   24.1    68.05     82.10   \n",
       "BestDeadliftKg  30000.0    201.114296    62.369995   18.1   147.50    204.12   \n",
       "BestBenchKg     30000.0    116.507738    52.355810 -280.0    72.50    115.00   \n",
       "\n",
       "                     75%      max  \n",
       "playerId        22499.25  29999.0  \n",
       "Age                35.00     89.5  \n",
       "BodyweightKg       98.88    242.4  \n",
       "BestDeadliftKg    247.50    420.5  \n",
       "BestBenchKg       150.00    425.0  "
      ]
     },
     "execution_count": 11,
     "metadata": {},
     "output_type": "execute_result"
    }
   ],
   "source": [
    "df.describe().T"
   ]
  },
  {
   "cell_type": "code",
   "execution_count": 12,
   "id": "96f1e79c-6406-49c6-8450-b5fd1d61d80c",
   "metadata": {},
   "outputs": [
    {
     "name": "stdout",
     "output_type": "stream",
     "text": [
      "<class 'pandas.core.frame.DataFrame'>\n",
      "Int64Index: 30000 entries, 0 to 18899\n",
      "Data columns (total 9 columns):\n",
      " #   Column          Non-Null Count  Dtype  \n",
      "---  ------          --------------  -----  \n",
      " 0   playerId        30000 non-null  float64\n",
      " 1   Name            30000 non-null  object \n",
      " 2   Sex             30000 non-null  object \n",
      " 3   Equipment       30000 non-null  object \n",
      " 4   Age             29580 non-null  float64\n",
      " 5   BodyweightKg    30000 non-null  float64\n",
      " 6   BestSquatKg     30000 non-null  object \n",
      " 7   BestDeadliftKg  30000 non-null  float64\n",
      " 8   BestBenchKg     30000 non-null  float64\n",
      "dtypes: float64(5), object(4)\n",
      "memory usage: 2.3+ MB\n"
     ]
    }
   ],
   "source": [
    "df.info()"
   ]
  },
  {
   "cell_type": "code",
   "execution_count": 13,
   "id": "0d63621b-614e-4147-8b57-10e4142f788f",
   "metadata": {},
   "outputs": [],
   "source": [
    "df = df.reset_index()"
   ]
  },
  {
   "cell_type": "code",
   "execution_count": 14,
   "id": "07c4b0d2-7a0f-4cd4-b4e4-d3b29242aa60",
   "metadata": {},
   "outputs": [],
   "source": [
    "df.drop(\"index\",inplace=True,axis=1)"
   ]
  },
  {
   "cell_type": "code",
   "execution_count": 15,
   "id": "6ad0517f-cca0-47ab-8fe4-3379311c7123",
   "metadata": {},
   "outputs": [
    {
     "data": {
      "text/plain": [
       "playerId            0\n",
       "Name                0\n",
       "Sex                 0\n",
       "Equipment           0\n",
       "Age               420\n",
       "BodyweightKg        0\n",
       "BestSquatKg         0\n",
       "BestDeadliftKg      0\n",
       "BestBenchKg         0\n",
       "dtype: int64"
      ]
     },
     "execution_count": 15,
     "metadata": {},
     "output_type": "execute_result"
    }
   ],
   "source": [
    "df.isnull().sum()"
   ]
  },
  {
   "cell_type": "code",
   "execution_count": 16,
   "id": "30b1f83a-cf50-4347-8e2e-36915912e486",
   "metadata": {},
   "outputs": [
    {
     "ename": "ValueError",
     "evalue": "The truth value of a Series is ambiguous. Use a.empty, a.bool(), a.item(), a.any() or a.all().",
     "output_type": "error",
     "traceback": [
      "\u001b[1;31m---------------------------------------------------------------------------\u001b[0m",
      "\u001b[1;31mValueError\u001b[0m                                Traceback (most recent call last)",
      "\u001b[1;32m~\\AppData\\Local\\Temp/ipykernel_32408/1783825286.py\u001b[0m in \u001b[0;36m<module>\u001b[1;34m\u001b[0m\n\u001b[1;32m----> 1\u001b[1;33m \u001b[1;32mif\u001b[0m \u001b[1;33m(\u001b[0m\u001b[0mdf\u001b[0m\u001b[1;33m.\u001b[0m\u001b[0mBestBenchKg\u001b[0m\u001b[1;33m<\u001b[0m\u001b[1;36m0\u001b[0m\u001b[1;33m)\u001b[0m\u001b[1;33m:\u001b[0m\u001b[1;33m\u001b[0m\u001b[1;33m\u001b[0m\u001b[0m\n\u001b[0m\u001b[0;32m      2\u001b[0m     \u001b[0mdf\u001b[0m\u001b[1;33m.\u001b[0m\u001b[0mBestBenchKg\u001b[0m\u001b[1;33m.\u001b[0m\u001b[0mapply\u001b[0m\u001b[1;33m(\u001b[0m\u001b[1;32mlambda\u001b[0m \u001b[0mx\u001b[0m \u001b[1;33m:\u001b[0m\u001b[0mx\u001b[0m \u001b[1;33m*\u001b[0m \u001b[1;33m-\u001b[0m\u001b[1;36m1\u001b[0m\u001b[1;33m)\u001b[0m\u001b[1;33m\u001b[0m\u001b[1;33m\u001b[0m\u001b[0m\n",
      "\u001b[1;32m~\\anaconda3\\lib\\site-packages\\pandas\\core\\generic.py\u001b[0m in \u001b[0;36m__nonzero__\u001b[1;34m(self)\u001b[0m\n\u001b[0;32m   1535\u001b[0m     \u001b[1;33m@\u001b[0m\u001b[0mfinal\u001b[0m\u001b[1;33m\u001b[0m\u001b[1;33m\u001b[0m\u001b[0m\n\u001b[0;32m   1536\u001b[0m     \u001b[1;32mdef\u001b[0m \u001b[0m__nonzero__\u001b[0m\u001b[1;33m(\u001b[0m\u001b[0mself\u001b[0m\u001b[1;33m)\u001b[0m\u001b[1;33m:\u001b[0m\u001b[1;33m\u001b[0m\u001b[1;33m\u001b[0m\u001b[0m\n\u001b[1;32m-> 1537\u001b[1;33m         raise ValueError(\n\u001b[0m\u001b[0;32m   1538\u001b[0m             \u001b[1;34mf\"The truth value of a {type(self).__name__} is ambiguous. \"\u001b[0m\u001b[1;33m\u001b[0m\u001b[1;33m\u001b[0m\u001b[0m\n\u001b[0;32m   1539\u001b[0m             \u001b[1;34m\"Use a.empty, a.bool(), a.item(), a.any() or a.all().\"\u001b[0m\u001b[1;33m\u001b[0m\u001b[1;33m\u001b[0m\u001b[0m\n",
      "\u001b[1;31mValueError\u001b[0m: The truth value of a Series is ambiguous. Use a.empty, a.bool(), a.item(), a.any() or a.all()."
     ]
    }
   ],
   "source": [
    "if (df.BestBenchKg<0):\n",
    "    df.BestBenchKg.apply(lambda x :x * -1)"
   ]
  },
  {
   "cell_type": "code",
   "execution_count": 17,
   "id": "72824acd-fcc1-4697-838c-16979a2518d6",
   "metadata": {},
   "outputs": [],
   "source": [
    "### We need to fix the observations with negative weight of bench presses\n",
    "newBenchs=[]\n",
    "for i in df.BestBenchKg:\n",
    "    if i<0:\n",
    "        newBenchs.append(i*-1)\n",
    "    else:\n",
    "        newBenchs.append(i)\n",
    "df.BestBenchKg = np.array(newBenchs)"
   ]
  },
  {
   "cell_type": "code",
   "execution_count": 18,
   "id": "1a3c159e-278d-4da0-b327-c91eec5e59b9",
   "metadata": {},
   "outputs": [],
   "source": [
    "newSquat=[]\n",
    "for i in list(df.BestSquatKg.values):\n",
    "    newSquat.append(str(i).split(\".\")[0])\n",
    "df.BestSquatKg = np.array(newSquat)    \n",
    "df.BestSquatKg = df.BestSquatKg.astype(float)"
   ]
  },
  {
   "cell_type": "code",
   "execution_count": 19,
   "id": "7a50a547-7e63-421e-b0c9-dc966e50926b",
   "metadata": {},
   "outputs": [],
   "source": [
    "newSq = []\n",
    "for i in df.BestSquatKg:\n",
    "    if i<0:\n",
    "        newSq.append(i*-1)\n",
    "    else:\n",
    "        newSq.append(i)\n",
    "df.BestSquatKg = np.array(newSq)"
   ]
  },
  {
   "cell_type": "code",
   "execution_count": 20,
   "id": "4e82746b-2f97-4848-8eb5-b0eb64aa0b0b",
   "metadata": {},
   "outputs": [],
   "source": [
    "# we need to deal with the na values in Age\n",
    "df.Age = df.Age.fillna(value =np.mean(df.Age))\n",
    "df.Age = df.Age.astype(int)"
   ]
  },
  {
   "cell_type": "code",
   "execution_count": null,
   "id": "14050f6b-9e29-4090-bb78-2e02c1d877a6",
   "metadata": {},
   "outputs": [],
   "source": []
  },
  {
   "cell_type": "code",
   "execution_count": 21,
   "id": "c73ca2ec-7053-4c5c-a4c1-06d1d122989b",
   "metadata": {},
   "outputs": [],
   "source": [
    "## Before continuing, we will need to change the types of playerId and BestSquatKg to integer and float"
   ]
  },
  {
   "cell_type": "code",
   "execution_count": 22,
   "id": "c0cf02a4-4772-4276-ba7d-4b9267069b25",
   "metadata": {},
   "outputs": [],
   "source": [
    "df.playerId = df.playerId.astype(int)"
   ]
  },
  {
   "cell_type": "code",
   "execution_count": null,
   "id": "1165e821-c4c2-416e-8ac3-3d08404bcd4f",
   "metadata": {},
   "outputs": [],
   "source": []
  },
  {
   "cell_type": "code",
   "execution_count": null,
   "id": "b98ca1a2-7d14-40b8-be0a-c706a0b0659d",
   "metadata": {},
   "outputs": [],
   "source": []
  },
  {
   "cell_type": "code",
   "execution_count": null,
   "id": "bd3eedde-7753-4a24-a8c6-0c19f8c31fd8",
   "metadata": {},
   "outputs": [],
   "source": []
  },
  {
   "cell_type": "code",
   "execution_count": null,
   "id": "18aeadab-016b-401a-afaa-91fc4d6b39e4",
   "metadata": {},
   "outputs": [],
   "source": []
  },
  {
   "cell_type": "code",
   "execution_count": 23,
   "id": "429f402f-37f4-4d91-89a8-7b6173047bd0",
   "metadata": {},
   "outputs": [
    {
     "data": {
      "image/png": "[encoded data removed]",
      "text/plain": [
       "<Figure size 720x720 with 4 Axes>"
      ]
     },
     "metadata": {
      "needs_background": "light"
     },
     "output_type": "display_data"
    }
   ],
   "source": [
    "## We need to look the distribution of numerical features\n",
    "plt.rcParams[\"figure.figsize\"] = (10,10)\n",
    "fig,ax = plt.subplots(2, 2, squeeze=False)\n",
    "sns.boxplot(data = df[[\"Age\"]], ax = ax[0,0])\n",
    "sns.boxplot(data = df[[\"BestSquatKg\",\"BestDeadliftKg\"]], ax = ax[1,0])\n",
    "sns.boxplot(data = df[[\"BestBenchKg\"]], ax = ax[0,1])\n",
    "sns.boxplot(data = df[[\"BodyweightKg\"]], ax = ax[1,1])\n",
    "plt.show()\n"
   ]
  },
  {
   "cell_type": "code",
   "execution_count": 24,
   "id": "ef9951d8-bc12-4ee9-bd63-3fd0448733b2",
   "metadata": {},
   "outputs": [
    {
     "name": "stderr",
     "output_type": "stream",
     "text": [
      "C:\\Users\\acer\\anaconda3\\lib\\site-packages\\seaborn\\distributions.py:2619: FutureWarning: `distplot` is a deprecated function and will be removed in a future version. Please adapt your code to use either `displot` (a figure-level function with similar flexibility) or `kdeplot` (an axes-level function for kernel density plots).\n",
      "  warnings.warn(msg, FutureWarning)\n",
      "C:\\Users\\acer\\anaconda3\\lib\\site-packages\\seaborn\\distributions.py:2619: FutureWarning: `distplot` is a deprecated function and will be removed in a future version. Please adapt your code to use either `displot` (a figure-level function with similar flexibility) or `kdeplot` (an axes-level function for kernel density plots).\n",
      "  warnings.warn(msg, FutureWarning)\n",
      "C:\\Users\\acer\\anaconda3\\lib\\site-packages\\seaborn\\distributions.py:2619: FutureWarning: `distplot` is a deprecated function and will be removed in a future version. Please adapt your code to use either `displot` (a figure-level function with similar flexibility) or `kdeplot` (an axes-level function for kernel density plots).\n",
      "  warnings.warn(msg, FutureWarning)\n",
      "C:\\Users\\acer\\anaconda3\\lib\\site-packages\\seaborn\\distributions.py:2619: FutureWarning: `distplot` is a deprecated function and will be removed in a future version. Please adapt your code to use either `displot` (a figure-level function with similar flexibility) or `kdeplot` (an axes-level function for kernel density plots).\n",
      "  warnings.warn(msg, FutureWarning)\n"
     ]
    },
    {
     "data": {
      "image/png": "[encoded data removed]",
      "text/plain": [
       "<Figure size 1440x1440 with 4 Axes>"
      ]
     },
     "metadata": {
      "needs_background": "light"
     },
     "output_type": "display_data"
    }
   ],
   "source": [
    "plt.rcParams[\"figure.figsize\"] = (20,20)\n",
    "fig,ax = plt.subplots(2, 2, squeeze=False)\n",
    "sns.distplot(df[[\"Age\"]], ax = ax[0,0],hist=False)\n",
    "sns.distplot(df[[\"BestSquatKg\",\"BestDeadliftKg\"]], ax = ax[1,0],hist=False)\n",
    "sns.distplot(df[[\"BestBenchKg\"]], ax = ax[0,1],hist=False)\n",
    "sns.distplot(df[[\"BodyweightKg\"]], ax = ax[1,1],hist=False)\n",
    "plt.show()\n"
   ]
  },
  {
   "cell_type": "code",
   "execution_count": 25,
   "id": "c549118c-886d-4ac0-965e-9eb0ad8d6516",
   "metadata": {},
   "outputs": [
    {
     "data": {
      "text/plain": [
       "423"
      ]
     },
     "execution_count": 25,
     "metadata": {},
     "output_type": "execute_result"
    }
   ],
   "source": [
    "len(df[df.Age<15])"
   ]
  },
  {
   "cell_type": "code",
   "execution_count": 26,
   "id": "4ec115bf-1ff8-4b73-b8e9-c805504ce384",
   "metadata": {},
   "outputs": [
    {
     "ename": "NameError",
     "evalue": "name 'high' is not defined",
     "output_type": "error",
     "traceback": [
      "\u001b[1;31m---------------------------------------------------------------------------\u001b[0m",
      "\u001b[1;31mNameError\u001b[0m                                 Traceback (most recent call last)",
      "\u001b[1;32m~\\AppData\\Local\\Temp/ipykernel_32408/2612922314.py\u001b[0m in \u001b[0;36m<module>\u001b[1;34m\u001b[0m\n\u001b[1;32m----> 1\u001b[1;33m \u001b[0mhigh\u001b[0m\u001b[1;33m\u001b[0m\u001b[1;33m\u001b[0m\u001b[0m\n\u001b[0m",
      "\u001b[1;31mNameError\u001b[0m: name 'high' is not defined"
     ]
    }
   ],
   "source": [
    "high"
   ]
  },
  {
   "cell_type": "code",
   "execution_count": 27,
   "id": "04512941-a74e-4c1f-9dee-2370a1e85c31",
   "metadata": {},
   "outputs": [],
   "source": [
    "df.loc[df.Age<15,\"Age\"]=14\n",
    "df.loc[df.Age>64,\"Age\"]=65"
   ]
  },
  {
   "cell_type": "code",
   "execution_count": 28,
   "id": "7719b03a-e884-4414-ab7a-3db4b78d0185",
   "metadata": {},
   "outputs": [
    {
     "data": {
      "text/html": [
       "<div>\n",
       "<style scoped>\n",
       "    .dataframe tbody tr th:only-of-type {\n",
       "        vertical-align: middle;\n",
       "    }\n",
       "\n",
       "    .dataframe tbody tr th {\n",
       "        vertical-align: top;\n",
       "    }\n",
       "\n",
       "    .dataframe thead th {\n",
       "        text-align: right;\n",
       "    }\n",
       "</style>\n",
       "<table border=\"1\" class=\"dataframe\">\n",
       "  <thead>\n",
       "    <tr style=\"text-align: right;\">\n",
       "      <th></th>\n",
       "      <th>count</th>\n",
       "      <th>mean</th>\n",
       "      <th>std</th>\n",
       "      <th>min</th>\n",
       "      <th>25%</th>\n",
       "      <th>50%</th>\n",
       "      <th>75%</th>\n",
       "      <th>max</th>\n",
       "    </tr>\n",
       "  </thead>\n",
       "  <tbody>\n",
       "    <tr>\n",
       "      <th>playerId</th>\n",
       "      <td>30000.0</td>\n",
       "      <td>14999.500000</td>\n",
       "      <td>8660.398374</td>\n",
       "      <td>0.0</td>\n",
       "      <td>7499.75</td>\n",
       "      <td>14999.50</td>\n",
       "      <td>22499.25</td>\n",
       "      <td>29999.0</td>\n",
       "    </tr>\n",
       "    <tr>\n",
       "      <th>Age</th>\n",
       "      <td>30000.0</td>\n",
       "      <td>29.414500</td>\n",
       "      <td>11.242931</td>\n",
       "      <td>14.0</td>\n",
       "      <td>21.00</td>\n",
       "      <td>26.00</td>\n",
       "      <td>34.00</td>\n",
       "      <td>65.0</td>\n",
       "    </tr>\n",
       "    <tr>\n",
       "      <th>BodyweightKg</th>\n",
       "      <td>30000.0</td>\n",
       "      <td>85.359097</td>\n",
       "      <td>22.881926</td>\n",
       "      <td>24.1</td>\n",
       "      <td>68.05</td>\n",
       "      <td>82.10</td>\n",
       "      <td>98.88</td>\n",
       "      <td>242.4</td>\n",
       "    </tr>\n",
       "    <tr>\n",
       "      <th>BestSquatKg</th>\n",
       "      <td>30000.0</td>\n",
       "      <td>179.001033</td>\n",
       "      <td>69.319356</td>\n",
       "      <td>13.0</td>\n",
       "      <td>125.00</td>\n",
       "      <td>175.00</td>\n",
       "      <td>222.00</td>\n",
       "      <td>532.0</td>\n",
       "    </tr>\n",
       "    <tr>\n",
       "      <th>BestDeadliftKg</th>\n",
       "      <td>30000.0</td>\n",
       "      <td>201.114296</td>\n",
       "      <td>62.369995</td>\n",
       "      <td>18.1</td>\n",
       "      <td>147.50</td>\n",
       "      <td>204.12</td>\n",
       "      <td>247.50</td>\n",
       "      <td>420.5</td>\n",
       "    </tr>\n",
       "    <tr>\n",
       "      <th>BestBenchKg</th>\n",
       "      <td>30000.0</td>\n",
       "      <td>116.957666</td>\n",
       "      <td>51.342817</td>\n",
       "      <td>9.1</td>\n",
       "      <td>72.50</td>\n",
       "      <td>115.00</td>\n",
       "      <td>150.00</td>\n",
       "      <td>425.0</td>\n",
       "    </tr>\n",
       "  </tbody>\n",
       "</table>\n",
       "</div>"
      ],
      "text/plain": [
       "                  count          mean          std   min      25%       50%  \\\n",
       "playerId        30000.0  14999.500000  8660.398374   0.0  7499.75  14999.50   \n",
       "Age             30000.0     29.414500    11.242931  14.0    21.00     26.00   \n",
       "BodyweightKg    30000.0     85.359097    22.881926  24.1    68.05     82.10   \n",
       "BestSquatKg     30000.0    179.001033    69.319356  13.0   125.00    175.00   \n",
       "BestDeadliftKg  30000.0    201.114296    62.369995  18.1   147.50    204.12   \n",
       "BestBenchKg     30000.0    116.957666    51.342817   9.1    72.50    115.00   \n",
       "\n",
       "                     75%      max  \n",
       "playerId        22499.25  29999.0  \n",
       "Age                34.00     65.0  \n",
       "BodyweightKg       98.88    242.4  \n",
       "BestSquatKg       222.00    532.0  \n",
       "BestDeadliftKg    247.50    420.5  \n",
       "BestBenchKg       150.00    425.0  "
      ]
     },
     "execution_count": 28,
     "metadata": {},
     "output_type": "execute_result"
    }
   ],
   "source": [
    "df.describe().T"
   ]
  },
  {
   "cell_type": "code",
   "execution_count": null,
   "id": "73383e8b-35da-4ee6-a38f-5a80df01b9e7",
   "metadata": {},
   "outputs": [],
   "source": []
  },
  {
   "cell_type": "code",
   "execution_count": null,
   "id": "8498315f-e1d3-479d-8943-6dbb584222f6",
   "metadata": {},
   "outputs": [],
   "source": []
  },
  {
   "cell_type": "code",
   "execution_count": null,
   "id": "27959142-d139-472c-9a6f-16e2d41f60bf",
   "metadata": {},
   "outputs": [],
   "source": []
  },
  {
   "cell_type": "code",
   "execution_count": 29,
   "id": "61b1f407-9d46-4a24-a21a-52d621f4235a",
   "metadata": {},
   "outputs": [
    {
     "data": {
      "text/plain": [
       "'for i in df.select_dtypes(include=numerics):\\n    Q1 = df[i].quantile(0.25)\\n    Q3 = df[i].quantile(0.75)\\n    IQR = Q3-Q1\\n    low= Q1-(1.5*IQR)\\n    high = Q3 + (1.5*IQR)\\n    ind =df[(df[i]<low)].index\\n    df.loc[ind,i]=low\\n    ind =df[(df[i]<high)].index\\n    df.loc[ind,i]=high'"
      ]
     },
     "execution_count": 29,
     "metadata": {},
     "output_type": "execute_result"
    }
   ],
   "source": [
    "\"\"\"for i in df.select_dtypes(include=numerics):\n",
    "    Q1 = df[i].quantile(0.25)\n",
    "    Q3 = df[i].quantile(0.75)\n",
    "    IQR = Q3-Q1\n",
    "    low= Q1-(1.5*IQR)\n",
    "    high = Q3 + (1.5*IQR)\n",
    "    ind =df[(df[i]<low)].index\n",
    "    df.loc[ind,i]=low\n",
    "    ind =df[(df[i]<high)].index\n",
    "    df.loc[ind,i]=high\"\"\"\n"
   ]
  },
  {
   "cell_type": "code",
   "execution_count": 30,
   "id": "b075a627-3a60-4c20-a757-2f96c3bc4a46",
   "metadata": {},
   "outputs": [
    {
     "data": {
      "text/plain": [
       "319.0"
      ]
     },
     "execution_count": 30,
     "metadata": {},
     "output_type": "execute_result"
    }
   ],
   "source": [
    "Q1 = df[\"BestSquatKg\"].quantile(0.25)\n",
    "Q3 = df[\"BestSquatKg\"].quantile(0.75)\n",
    "IQR = Q3-Q1\n",
    "low= Q1-IQR\n",
    "high = Q3 + IQR\n",
    "\"\"\"ind =df[(df[\"BestSquatKg\"]<low)].index\n",
    "df.loc[ind,\"BestSquatKg\"]=low\n",
    "ind =df[(df[\"BestSquatKg\"]<high)].index\n",
    "df.loc[ind,\"BestSquatKg\"]=hig\"\"\"\n",
    "high"
   ]
  },
  {
   "cell_type": "code",
   "execution_count": 31,
   "id": "27869054-2669-4d92-8029-1d809ca7d3b2",
   "metadata": {},
   "outputs": [
    {
     "data": {
      "text/plain": [
       "28.0"
      ]
     },
     "execution_count": 31,
     "metadata": {},
     "output_type": "execute_result"
    }
   ],
   "source": [
    "low"
   ]
  },
  {
   "cell_type": "code",
   "execution_count": 32,
   "id": "cedc7c12-2429-4306-8597-36fb222ef323",
   "metadata": {},
   "outputs": [],
   "source": [
    "df.loc[df.BestSquatKg>high,\"BestSquatKg\"]=320\n",
    "df.loc[df.BestSquatKg<low,\"BestSquatKg\"]=low"
   ]
  },
  {
   "cell_type": "code",
   "execution_count": 33,
   "id": "6fa4c106-df7a-4e5d-8193-f7a35b5ef8b4",
   "metadata": {},
   "outputs": [
    {
     "data": {
      "text/html": [
       "<div>\n",
       "<style scoped>\n",
       "    .dataframe tbody tr th:only-of-type {\n",
       "        vertical-align: middle;\n",
       "    }\n",
       "\n",
       "    .dataframe tbody tr th {\n",
       "        vertical-align: top;\n",
       "    }\n",
       "\n",
       "    .dataframe thead th {\n",
       "        text-align: right;\n",
       "    }\n",
       "</style>\n",
       "<table border=\"1\" class=\"dataframe\">\n",
       "  <thead>\n",
       "    <tr style=\"text-align: right;\">\n",
       "      <th></th>\n",
       "      <th>count</th>\n",
       "      <th>mean</th>\n",
       "      <th>std</th>\n",
       "      <th>min</th>\n",
       "      <th>25%</th>\n",
       "      <th>50%</th>\n",
       "      <th>75%</th>\n",
       "      <th>max</th>\n",
       "    </tr>\n",
       "  </thead>\n",
       "  <tbody>\n",
       "    <tr>\n",
       "      <th>playerId</th>\n",
       "      <td>30000.0</td>\n",
       "      <td>14999.500000</td>\n",
       "      <td>8660.398374</td>\n",
       "      <td>0.0</td>\n",
       "      <td>7499.75</td>\n",
       "      <td>14999.50</td>\n",
       "      <td>22499.25</td>\n",
       "      <td>29999.0</td>\n",
       "    </tr>\n",
       "    <tr>\n",
       "      <th>Age</th>\n",
       "      <td>30000.0</td>\n",
       "      <td>29.414500</td>\n",
       "      <td>11.242931</td>\n",
       "      <td>14.0</td>\n",
       "      <td>21.00</td>\n",
       "      <td>26.00</td>\n",
       "      <td>34.00</td>\n",
       "      <td>65.0</td>\n",
       "    </tr>\n",
       "    <tr>\n",
       "      <th>BodyweightKg</th>\n",
       "      <td>30000.0</td>\n",
       "      <td>85.359097</td>\n",
       "      <td>22.881926</td>\n",
       "      <td>24.1</td>\n",
       "      <td>68.05</td>\n",
       "      <td>82.10</td>\n",
       "      <td>98.88</td>\n",
       "      <td>242.4</td>\n",
       "    </tr>\n",
       "    <tr>\n",
       "      <th>BestSquatKg</th>\n",
       "      <td>30000.0</td>\n",
       "      <td>177.640033</td>\n",
       "      <td>65.686491</td>\n",
       "      <td>28.0</td>\n",
       "      <td>125.00</td>\n",
       "      <td>175.00</td>\n",
       "      <td>222.00</td>\n",
       "      <td>320.0</td>\n",
       "    </tr>\n",
       "    <tr>\n",
       "      <th>BestDeadliftKg</th>\n",
       "      <td>30000.0</td>\n",
       "      <td>201.114296</td>\n",
       "      <td>62.369995</td>\n",
       "      <td>18.1</td>\n",
       "      <td>147.50</td>\n",
       "      <td>204.12</td>\n",
       "      <td>247.50</td>\n",
       "      <td>420.5</td>\n",
       "    </tr>\n",
       "    <tr>\n",
       "      <th>BestBenchKg</th>\n",
       "      <td>30000.0</td>\n",
       "      <td>116.957666</td>\n",
       "      <td>51.342817</td>\n",
       "      <td>9.1</td>\n",
       "      <td>72.50</td>\n",
       "      <td>115.00</td>\n",
       "      <td>150.00</td>\n",
       "      <td>425.0</td>\n",
       "    </tr>\n",
       "  </tbody>\n",
       "</table>\n",
       "</div>"
      ],
      "text/plain": [
       "                  count          mean          std   min      25%       50%  \\\n",
       "playerId        30000.0  14999.500000  8660.398374   0.0  7499.75  14999.50   \n",
       "Age             30000.0     29.414500    11.242931  14.0    21.00     26.00   \n",
       "BodyweightKg    30000.0     85.359097    22.881926  24.1    68.05     82.10   \n",
       "BestSquatKg     30000.0    177.640033    65.686491  28.0   125.00    175.00   \n",
       "BestDeadliftKg  30000.0    201.114296    62.369995  18.1   147.50    204.12   \n",
       "BestBenchKg     30000.0    116.957666    51.342817   9.1    72.50    115.00   \n",
       "\n",
       "                     75%      max  \n",
       "playerId        22499.25  29999.0  \n",
       "Age                34.00     65.0  \n",
       "BodyweightKg       98.88    242.4  \n",
       "BestSquatKg       222.00    320.0  \n",
       "BestDeadliftKg    247.50    420.5  \n",
       "BestBenchKg       150.00    425.0  "
      ]
     },
     "execution_count": 33,
     "metadata": {},
     "output_type": "execute_result"
    }
   ],
   "source": [
    "df.describe().T"
   ]
  },
  {
   "cell_type": "code",
   "execution_count": 34,
   "id": "a0cd7755-2796-4e72-899c-2160aba9e5d4",
   "metadata": {},
   "outputs": [],
   "source": [
    "Q1 = df[\"BodyweightKg\"].quantile(0.25)\n",
    "Q3 = df[\"BodyweightKg\"].quantile(0.75)\n",
    "IQR = Q3-Q1\n",
    "low= Q1-IQR\n",
    "high = Q3 + IQR"
   ]
  },
  {
   "cell_type": "code",
   "execution_count": 35,
   "id": "de9c4261-dabf-49ea-ad08-c327e675a2e5",
   "metadata": {},
   "outputs": [
    {
     "data": {
      "text/plain": [
       "37.22"
      ]
     },
     "execution_count": 35,
     "metadata": {},
     "output_type": "execute_result"
    }
   ],
   "source": [
    "low"
   ]
  },
  {
   "cell_type": "code",
   "execution_count": 36,
   "id": "c21eb0fd-b607-4dc7-8fe0-c1ee0a1f1c9e",
   "metadata": {},
   "outputs": [],
   "source": [
    "df.loc[df.BodyweightKg<40,\"BodyweightKg\"]=40\n",
    "df.loc[df.BodyweightKg>200,\"BodyweightKg\"]=200"
   ]
  },
  {
   "cell_type": "code",
   "execution_count": 37,
   "id": "81e69a11-c286-421c-b2f5-f819c1f5841b",
   "metadata": {},
   "outputs": [
    {
     "data": {
      "text/html": [
       "<div>\n",
       "<style scoped>\n",
       "    .dataframe tbody tr th:only-of-type {\n",
       "        vertical-align: middle;\n",
       "    }\n",
       "\n",
       "    .dataframe tbody tr th {\n",
       "        vertical-align: top;\n",
       "    }\n",
       "\n",
       "    .dataframe thead th {\n",
       "        text-align: right;\n",
       "    }\n",
       "</style>\n",
       "<table border=\"1\" class=\"dataframe\">\n",
       "  <thead>\n",
       "    <tr style=\"text-align: right;\">\n",
       "      <th></th>\n",
       "      <th>count</th>\n",
       "      <th>mean</th>\n",
       "      <th>std</th>\n",
       "      <th>min</th>\n",
       "      <th>25%</th>\n",
       "      <th>50%</th>\n",
       "      <th>75%</th>\n",
       "      <th>max</th>\n",
       "    </tr>\n",
       "  </thead>\n",
       "  <tbody>\n",
       "    <tr>\n",
       "      <th>playerId</th>\n",
       "      <td>30000.0</td>\n",
       "      <td>14999.500000</td>\n",
       "      <td>8660.398374</td>\n",
       "      <td>0.0</td>\n",
       "      <td>7499.75</td>\n",
       "      <td>14999.50</td>\n",
       "      <td>22499.25</td>\n",
       "      <td>29999.0</td>\n",
       "    </tr>\n",
       "    <tr>\n",
       "      <th>Age</th>\n",
       "      <td>30000.0</td>\n",
       "      <td>29.414500</td>\n",
       "      <td>11.242931</td>\n",
       "      <td>14.0</td>\n",
       "      <td>21.00</td>\n",
       "      <td>26.00</td>\n",
       "      <td>34.00</td>\n",
       "      <td>65.0</td>\n",
       "    </tr>\n",
       "    <tr>\n",
       "      <th>BodyweightKg</th>\n",
       "      <td>30000.0</td>\n",
       "      <td>85.362984</td>\n",
       "      <td>22.855404</td>\n",
       "      <td>40.0</td>\n",
       "      <td>68.05</td>\n",
       "      <td>82.10</td>\n",
       "      <td>98.88</td>\n",
       "      <td>200.0</td>\n",
       "    </tr>\n",
       "    <tr>\n",
       "      <th>BestSquatKg</th>\n",
       "      <td>30000.0</td>\n",
       "      <td>177.640033</td>\n",
       "      <td>65.686491</td>\n",
       "      <td>28.0</td>\n",
       "      <td>125.00</td>\n",
       "      <td>175.00</td>\n",
       "      <td>222.00</td>\n",
       "      <td>320.0</td>\n",
       "    </tr>\n",
       "    <tr>\n",
       "      <th>BestDeadliftKg</th>\n",
       "      <td>30000.0</td>\n",
       "      <td>201.114296</td>\n",
       "      <td>62.369995</td>\n",
       "      <td>18.1</td>\n",
       "      <td>147.50</td>\n",
       "      <td>204.12</td>\n",
       "      <td>247.50</td>\n",
       "      <td>420.5</td>\n",
       "    </tr>\n",
       "    <tr>\n",
       "      <th>BestBenchKg</th>\n",
       "      <td>30000.0</td>\n",
       "      <td>116.957666</td>\n",
       "      <td>51.342817</td>\n",
       "      <td>9.1</td>\n",
       "      <td>72.50</td>\n",
       "      <td>115.00</td>\n",
       "      <td>150.00</td>\n",
       "      <td>425.0</td>\n",
       "    </tr>\n",
       "  </tbody>\n",
       "</table>\n",
       "</div>"
      ],
      "text/plain": [
       "                  count          mean          std   min      25%       50%  \\\n",
       "playerId        30000.0  14999.500000  8660.398374   0.0  7499.75  14999.50   \n",
       "Age             30000.0     29.414500    11.242931  14.0    21.00     26.00   \n",
       "BodyweightKg    30000.0     85.362984    22.855404  40.0    68.05     82.10   \n",
       "BestSquatKg     30000.0    177.640033    65.686491  28.0   125.00    175.00   \n",
       "BestDeadliftKg  30000.0    201.114296    62.369995  18.1   147.50    204.12   \n",
       "BestBenchKg     30000.0    116.957666    51.342817   9.1    72.50    115.00   \n",
       "\n",
       "                     75%      max  \n",
       "playerId        22499.25  29999.0  \n",
       "Age                34.00     65.0  \n",
       "BodyweightKg       98.88    200.0  \n",
       "BestSquatKg       222.00    320.0  \n",
       "BestDeadliftKg    247.50    420.5  \n",
       "BestBenchKg       150.00    425.0  "
      ]
     },
     "execution_count": 37,
     "metadata": {},
     "output_type": "execute_result"
    }
   ],
   "source": [
    "df.describe().T"
   ]
  },
  {
   "cell_type": "code",
   "execution_count": 38,
   "id": "642241eb-73dc-4199-8647-65d1bd3a42f1",
   "metadata": {},
   "outputs": [
    {
     "data": {
      "text/plain": [
       "47.5"
      ]
     },
     "execution_count": 38,
     "metadata": {},
     "output_type": "execute_result"
    }
   ],
   "source": [
    "Q1 = df[\"BestDeadliftKg\"].quantile(0.25)\n",
    "Q3 = df[\"BestDeadliftKg\"].quantile(0.75)\n",
    "IQR = Q3-Q1\n",
    "low= Q1-IQR\n",
    "high = Q3 + IQR\n",
    "low"
   ]
  },
  {
   "cell_type": "code",
   "execution_count": 39,
   "id": "31d229c4-8af7-4697-99db-cbaca67875a2",
   "metadata": {},
   "outputs": [],
   "source": [
    "df.loc[df.BestDeadliftKg<low,\"BestDeadliftKg\"]=45\n",
    "df.loc[df.BestDeadliftKg>high,\"BestDeadliftKg\"]=350"
   ]
  },
  {
   "cell_type": "code",
   "execution_count": 40,
   "id": "ad587d86-552b-4e08-8956-578647241b49",
   "metadata": {},
   "outputs": [
    {
     "data": {
      "text/plain": [
       "-5.0"
      ]
     },
     "execution_count": 40,
     "metadata": {},
     "output_type": "execute_result"
    }
   ],
   "source": [
    "Q1 = df[\"BestBenchKg\"].quantile(0.25)\n",
    "Q3 = df[\"BestBenchKg\"].quantile(0.75)\n",
    "IQR = Q3-Q1\n",
    "low= Q1-IQR\n",
    "high = Q3 + IQR\n",
    "low"
   ]
  },
  {
   "cell_type": "code",
   "execution_count": 41,
   "id": "3f53dc5b-db8d-47fd-bde1-bb254466995d",
   "metadata": {},
   "outputs": [
    {
     "data": {
      "text/html": [
       "<div>\n",
       "<style scoped>\n",
       "    .dataframe tbody tr th:only-of-type {\n",
       "        vertical-align: middle;\n",
       "    }\n",
       "\n",
       "    .dataframe tbody tr th {\n",
       "        vertical-align: top;\n",
       "    }\n",
       "\n",
       "    .dataframe thead th {\n",
       "        text-align: right;\n",
       "    }\n",
       "</style>\n",
       "<table border=\"1\" class=\"dataframe\">\n",
       "  <thead>\n",
       "    <tr style=\"text-align: right;\">\n",
       "      <th></th>\n",
       "      <th>playerId</th>\n",
       "      <th>Name</th>\n",
       "      <th>Sex</th>\n",
       "      <th>Equipment</th>\n",
       "      <th>Age</th>\n",
       "      <th>BodyweightKg</th>\n",
       "      <th>BestSquatKg</th>\n",
       "      <th>BestDeadliftKg</th>\n",
       "      <th>BestBenchKg</th>\n",
       "    </tr>\n",
       "  </thead>\n",
       "  <tbody>\n",
       "    <tr>\n",
       "      <th>43</th>\n",
       "      <td>19592</td>\n",
       "      <td>Carl Yngvar Christensen</td>\n",
       "      <td>M</td>\n",
       "      <td>Single-ply</td>\n",
       "      <td>23</td>\n",
       "      <td>168.02</td>\n",
       "      <td>320.0</td>\n",
       "      <td>350.0</td>\n",
       "      <td>350.00</td>\n",
       "    </tr>\n",
       "    <tr>\n",
       "      <th>140</th>\n",
       "      <td>6580</td>\n",
       "      <td>Fredrik Svensson</td>\n",
       "      <td>M</td>\n",
       "      <td>Single-ply</td>\n",
       "      <td>33</td>\n",
       "      <td>147.30</td>\n",
       "      <td>320.0</td>\n",
       "      <td>322.5</td>\n",
       "      <td>355.00</td>\n",
       "    </tr>\n",
       "    <tr>\n",
       "      <th>262</th>\n",
       "      <td>28680</td>\n",
       "      <td>Oleg Gagin</td>\n",
       "      <td>M</td>\n",
       "      <td>Single-ply</td>\n",
       "      <td>36</td>\n",
       "      <td>171.80</td>\n",
       "      <td>320.0</td>\n",
       "      <td>300.0</td>\n",
       "      <td>285.00</td>\n",
       "    </tr>\n",
       "    <tr>\n",
       "      <th>309</th>\n",
       "      <td>12799</td>\n",
       "      <td>Vasiliy Omelchenko</td>\n",
       "      <td>M</td>\n",
       "      <td>Single-ply</td>\n",
       "      <td>35</td>\n",
       "      <td>120.05</td>\n",
       "      <td>320.0</td>\n",
       "      <td>350.0</td>\n",
       "      <td>275.00</td>\n",
       "    </tr>\n",
       "    <tr>\n",
       "      <th>383</th>\n",
       "      <td>21716</td>\n",
       "      <td>Viktor Testsov</td>\n",
       "      <td>M</td>\n",
       "      <td>Single-ply</td>\n",
       "      <td>23</td>\n",
       "      <td>143.20</td>\n",
       "      <td>320.0</td>\n",
       "      <td>350.0</td>\n",
       "      <td>370.00</td>\n",
       "    </tr>\n",
       "    <tr>\n",
       "      <th>...</th>\n",
       "      <td>...</td>\n",
       "      <td>...</td>\n",
       "      <td>...</td>\n",
       "      <td>...</td>\n",
       "      <td>...</td>\n",
       "      <td>...</td>\n",
       "      <td>...</td>\n",
       "      <td>...</td>\n",
       "      <td>...</td>\n",
       "    </tr>\n",
       "    <tr>\n",
       "      <th>29223</th>\n",
       "      <td>1062</td>\n",
       "      <td>Kevin Frey</td>\n",
       "      <td>M</td>\n",
       "      <td>Multi-ply</td>\n",
       "      <td>38</td>\n",
       "      <td>134.80</td>\n",
       "      <td>320.0</td>\n",
       "      <td>327.5</td>\n",
       "      <td>305.00</td>\n",
       "    </tr>\n",
       "    <tr>\n",
       "      <th>29430</th>\n",
       "      <td>14098</td>\n",
       "      <td>Ryan Stinn</td>\n",
       "      <td>M</td>\n",
       "      <td>Single-ply</td>\n",
       "      <td>30</td>\n",
       "      <td>131.96</td>\n",
       "      <td>320.0</td>\n",
       "      <td>295.0</td>\n",
       "      <td>267.50</td>\n",
       "    </tr>\n",
       "    <tr>\n",
       "      <th>29463</th>\n",
       "      <td>4777</td>\n",
       "      <td>Viktor Testsov</td>\n",
       "      <td>M</td>\n",
       "      <td>Single-ply</td>\n",
       "      <td>19</td>\n",
       "      <td>123.56</td>\n",
       "      <td>320.0</td>\n",
       "      <td>340.0</td>\n",
       "      <td>315.00</td>\n",
       "    </tr>\n",
       "    <tr>\n",
       "      <th>29467</th>\n",
       "      <td>22677</td>\n",
       "      <td>Shawn Frankl</td>\n",
       "      <td>M</td>\n",
       "      <td>Multi-ply</td>\n",
       "      <td>33</td>\n",
       "      <td>100.00</td>\n",
       "      <td>320.0</td>\n",
       "      <td>350.0</td>\n",
       "      <td>396.89</td>\n",
       "    </tr>\n",
       "    <tr>\n",
       "      <th>29665</th>\n",
       "      <td>6616</td>\n",
       "      <td>John McDonald</td>\n",
       "      <td>M</td>\n",
       "      <td>Single-ply</td>\n",
       "      <td>30</td>\n",
       "      <td>119.20</td>\n",
       "      <td>320.0</td>\n",
       "      <td>307.5</td>\n",
       "      <td>280.00</td>\n",
       "    </tr>\n",
       "  </tbody>\n",
       "</table>\n",
       "<p>346 rows × 9 columns</p>\n",
       "</div>"
      ],
      "text/plain": [
       "       playerId                     Name Sex   Equipment  Age  BodyweightKg  \\\n",
       "43        19592  Carl Yngvar Christensen   M  Single-ply   23        168.02   \n",
       "140        6580         Fredrik Svensson   M  Single-ply   33        147.30   \n",
       "262       28680               Oleg Gagin   M  Single-ply   36        171.80   \n",
       "309       12799       Vasiliy Omelchenko   M  Single-ply   35        120.05   \n",
       "383       21716           Viktor Testsov   M  Single-ply   23        143.20   \n",
       "...         ...                      ...  ..         ...  ...           ...   \n",
       "29223      1062               Kevin Frey   M   Multi-ply   38        134.80   \n",
       "29430     14098               Ryan Stinn   M  Single-ply   30        131.96   \n",
       "29463      4777           Viktor Testsov   M  Single-ply   19        123.56   \n",
       "29467     22677             Shawn Frankl   M   Multi-ply   33        100.00   \n",
       "29665      6616            John McDonald   M  Single-ply   30        119.20   \n",
       "\n",
       "       BestSquatKg  BestDeadliftKg  BestBenchKg  \n",
       "43           320.0           350.0       350.00  \n",
       "140          320.0           322.5       355.00  \n",
       "262          320.0           300.0       285.00  \n",
       "309          320.0           350.0       275.00  \n",
       "383          320.0           350.0       370.00  \n",
       "...            ...             ...          ...  \n",
       "29223        320.0           327.5       305.00  \n",
       "29430        320.0           295.0       267.50  \n",
       "29463        320.0           340.0       315.00  \n",
       "29467        320.0           350.0       396.89  \n",
       "29665        320.0           307.5       280.00  \n",
       "\n",
       "[346 rows x 9 columns]"
      ]
     },
     "execution_count": 41,
     "metadata": {},
     "output_type": "execute_result"
    }
   ],
   "source": [
    "df[df.BestBenchKg>250]"
   ]
  },
  {
   "cell_type": "code",
   "execution_count": 42,
   "id": "f1ece9ed-5be6-4eb9-9c84-37fe468dfeea",
   "metadata": {},
   "outputs": [],
   "source": [
    "df.loc[df.BestBenchKg<22.5,\"BestBenchKg\"]=22.5\n",
    "df.loc[df.BestBenchKg>250,\"BestBenchKg\"]=250"
   ]
  },
  {
   "cell_type": "code",
   "execution_count": 43,
   "id": "c4210543-f60d-4dc9-a050-bd3edc3d8e75",
   "metadata": {},
   "outputs": [
    {
     "data": {
      "text/html": [
       "<div>\n",
       "<style scoped>\n",
       "    .dataframe tbody tr th:only-of-type {\n",
       "        vertical-align: middle;\n",
       "    }\n",
       "\n",
       "    .dataframe tbody tr th {\n",
       "        vertical-align: top;\n",
       "    }\n",
       "\n",
       "    .dataframe thead th {\n",
       "        text-align: right;\n",
       "    }\n",
       "</style>\n",
       "<table border=\"1\" class=\"dataframe\">\n",
       "  <thead>\n",
       "    <tr style=\"text-align: right;\">\n",
       "      <th></th>\n",
       "      <th>count</th>\n",
       "      <th>mean</th>\n",
       "      <th>std</th>\n",
       "      <th>min</th>\n",
       "      <th>25%</th>\n",
       "      <th>50%</th>\n",
       "      <th>75%</th>\n",
       "      <th>max</th>\n",
       "    </tr>\n",
       "  </thead>\n",
       "  <tbody>\n",
       "    <tr>\n",
       "      <th>playerId</th>\n",
       "      <td>30000.0</td>\n",
       "      <td>14999.500000</td>\n",
       "      <td>8660.398374</td>\n",
       "      <td>0.0</td>\n",
       "      <td>7499.75</td>\n",
       "      <td>14999.50</td>\n",
       "      <td>22499.25</td>\n",
       "      <td>29999.0</td>\n",
       "    </tr>\n",
       "    <tr>\n",
       "      <th>Age</th>\n",
       "      <td>30000.0</td>\n",
       "      <td>29.414500</td>\n",
       "      <td>11.242931</td>\n",
       "      <td>14.0</td>\n",
       "      <td>21.00</td>\n",
       "      <td>26.00</td>\n",
       "      <td>34.00</td>\n",
       "      <td>65.0</td>\n",
       "    </tr>\n",
       "    <tr>\n",
       "      <th>BodyweightKg</th>\n",
       "      <td>30000.0</td>\n",
       "      <td>85.362984</td>\n",
       "      <td>22.855404</td>\n",
       "      <td>40.0</td>\n",
       "      <td>68.05</td>\n",
       "      <td>82.10</td>\n",
       "      <td>98.88</td>\n",
       "      <td>200.0</td>\n",
       "    </tr>\n",
       "    <tr>\n",
       "      <th>BestSquatKg</th>\n",
       "      <td>30000.0</td>\n",
       "      <td>177.640033</td>\n",
       "      <td>65.686491</td>\n",
       "      <td>28.0</td>\n",
       "      <td>125.00</td>\n",
       "      <td>175.00</td>\n",
       "      <td>222.00</td>\n",
       "      <td>320.0</td>\n",
       "    </tr>\n",
       "    <tr>\n",
       "      <th>BestDeadliftKg</th>\n",
       "      <td>30000.0</td>\n",
       "      <td>201.027816</td>\n",
       "      <td>62.109510</td>\n",
       "      <td>45.0</td>\n",
       "      <td>147.50</td>\n",
       "      <td>204.12</td>\n",
       "      <td>247.50</td>\n",
       "      <td>350.0</td>\n",
       "    </tr>\n",
       "    <tr>\n",
       "      <th>BestBenchKg</th>\n",
       "      <td>30000.0</td>\n",
       "      <td>116.515997</td>\n",
       "      <td>49.883593</td>\n",
       "      <td>22.5</td>\n",
       "      <td>72.50</td>\n",
       "      <td>115.00</td>\n",
       "      <td>150.00</td>\n",
       "      <td>250.0</td>\n",
       "    </tr>\n",
       "  </tbody>\n",
       "</table>\n",
       "</div>"
      ],
      "text/plain": [
       "                  count          mean          std   min      25%       50%  \\\n",
       "playerId        30000.0  14999.500000  8660.398374   0.0  7499.75  14999.50   \n",
       "Age             30000.0     29.414500    11.242931  14.0    21.00     26.00   \n",
       "BodyweightKg    30000.0     85.362984    22.855404  40.0    68.05     82.10   \n",
       "BestSquatKg     30000.0    177.640033    65.686491  28.0   125.00    175.00   \n",
       "BestDeadliftKg  30000.0    201.027816    62.109510  45.0   147.50    204.12   \n",
       "BestBenchKg     30000.0    116.515997    49.883593  22.5    72.50    115.00   \n",
       "\n",
       "                     75%      max  \n",
       "playerId        22499.25  29999.0  \n",
       "Age                34.00     65.0  \n",
       "BodyweightKg       98.88    200.0  \n",
       "BestSquatKg       222.00    320.0  \n",
       "BestDeadliftKg    247.50    350.0  \n",
       "BestBenchKg       150.00    250.0  "
      ]
     },
     "execution_count": 43,
     "metadata": {},
     "output_type": "execute_result"
    }
   ],
   "source": [
    "df.describe().T"
   ]
  },
  {
   "cell_type": "code",
   "execution_count": 44,
   "id": "87dbb65b-0757-4f7a-9cc8-b528b2dc811d",
   "metadata": {},
   "outputs": [
    {
     "name": "stdout",
     "output_type": "stream",
     "text": [
      "<class 'pandas.core.frame.DataFrame'>\n",
      "RangeIndex: 30000 entries, 0 to 29999\n",
      "Data columns (total 9 columns):\n",
      " #   Column          Non-Null Count  Dtype  \n",
      "---  ------          --------------  -----  \n",
      " 0   playerId        30000 non-null  int32  \n",
      " 1   Name            30000 non-null  object \n",
      " 2   Sex             30000 non-null  object \n",
      " 3   Equipment       30000 non-null  object \n",
      " 4   Age             30000 non-null  int32  \n",
      " 5   BodyweightKg    30000 non-null  float64\n",
      " 6   BestSquatKg     30000 non-null  float64\n",
      " 7   BestDeadliftKg  30000 non-null  float64\n",
      " 8   BestBenchKg     30000 non-null  float64\n",
      "dtypes: float64(4), int32(2), object(3)\n",
      "memory usage: 1.8+ MB\n"
     ]
    }
   ],
   "source": [
    "df.info()"
   ]
  },
  {
   "cell_type": "code",
   "execution_count": 45,
   "id": "aab3ee05-c8b6-4189-a97d-70201b7941f9",
   "metadata": {},
   "outputs": [],
   "source": [
    "### Data Processing & Manipulating ended here."
   ]
  },
  {
   "cell_type": "code",
   "execution_count": 46,
   "id": "e780f9f3-633d-45f8-9954-8b642828442e",
   "metadata": {},
   "outputs": [],
   "source": [
    "df_copied = df.copy()"
   ]
  },
  {
   "cell_type": "code",
   "execution_count": 47,
   "id": "e6e54ab6-5be1-408a-850b-d9b75e052619",
   "metadata": {},
   "outputs": [],
   "source": [
    "df.drop(\"playerId\",axis=1,inplace=True)"
   ]
  },
  {
   "cell_type": "code",
   "execution_count": 48,
   "id": "38be89a1-9fba-4101-852f-62804e6cdf45",
   "metadata": {},
   "outputs": [
    {
     "data": {
      "text/html": [
       "<div>\n",
       "<style scoped>\n",
       "    .dataframe tbody tr th:only-of-type {\n",
       "        vertical-align: middle;\n",
       "    }\n",
       "\n",
       "    .dataframe tbody tr th {\n",
       "        vertical-align: top;\n",
       "    }\n",
       "\n",
       "    .dataframe thead th {\n",
       "        text-align: right;\n",
       "    }\n",
       "</style>\n",
       "<table border=\"1\" class=\"dataframe\">\n",
       "  <thead>\n",
       "    <tr style=\"text-align: right;\">\n",
       "      <th></th>\n",
       "      <th>Name</th>\n",
       "      <th>Sex</th>\n",
       "      <th>Equipment</th>\n",
       "      <th>Age</th>\n",
       "      <th>BodyweightKg</th>\n",
       "      <th>BestSquatKg</th>\n",
       "      <th>BestDeadliftKg</th>\n",
       "      <th>BestBenchKg</th>\n",
       "    </tr>\n",
       "  </thead>\n",
       "  <tbody>\n",
       "    <tr>\n",
       "      <th>0</th>\n",
       "      <td>Peter Neeves</td>\n",
       "      <td>M</td>\n",
       "      <td>Wraps</td>\n",
       "      <td>30</td>\n",
       "      <td>89.81</td>\n",
       "      <td>179.0</td>\n",
       "      <td>192.78</td>\n",
       "      <td>97.52</td>\n",
       "    </tr>\n",
       "    <tr>\n",
       "      <th>1</th>\n",
       "      <td>Josh Padilla</td>\n",
       "      <td>M</td>\n",
       "      <td>Raw</td>\n",
       "      <td>27</td>\n",
       "      <td>74.95</td>\n",
       "      <td>125.0</td>\n",
       "      <td>165.00</td>\n",
       "      <td>75.00</td>\n",
       "    </tr>\n",
       "    <tr>\n",
       "      <th>2</th>\n",
       "      <td>Luke Dreier</td>\n",
       "      <td>M</td>\n",
       "      <td>Wraps</td>\n",
       "      <td>30</td>\n",
       "      <td>122.61</td>\n",
       "      <td>290.0</td>\n",
       "      <td>317.50</td>\n",
       "      <td>190.00</td>\n",
       "    </tr>\n",
       "    <tr>\n",
       "      <th>3</th>\n",
       "      <td>Jacob New</td>\n",
       "      <td>M</td>\n",
       "      <td>Raw</td>\n",
       "      <td>20</td>\n",
       "      <td>88.00</td>\n",
       "      <td>187.0</td>\n",
       "      <td>240.00</td>\n",
       "      <td>117.50</td>\n",
       "    </tr>\n",
       "    <tr>\n",
       "      <th>4</th>\n",
       "      <td>Jesse Burdick</td>\n",
       "      <td>M</td>\n",
       "      <td>Wraps</td>\n",
       "      <td>30</td>\n",
       "      <td>122.00</td>\n",
       "      <td>235.0</td>\n",
       "      <td>275.01</td>\n",
       "      <td>145.01</td>\n",
       "    </tr>\n",
       "    <tr>\n",
       "      <th>...</th>\n",
       "      <td>...</td>\n",
       "      <td>...</td>\n",
       "      <td>...</td>\n",
       "      <td>...</td>\n",
       "      <td>...</td>\n",
       "      <td>...</td>\n",
       "      <td>...</td>\n",
       "      <td>...</td>\n",
       "    </tr>\n",
       "    <tr>\n",
       "      <th>29995</th>\n",
       "      <td>Rachael Podolak</td>\n",
       "      <td>F</td>\n",
       "      <td>Raw</td>\n",
       "      <td>20</td>\n",
       "      <td>65.70</td>\n",
       "      <td>92.0</td>\n",
       "      <td>135.00</td>\n",
       "      <td>55.00</td>\n",
       "    </tr>\n",
       "    <tr>\n",
       "      <th>29996</th>\n",
       "      <td>Daniel Andersen</td>\n",
       "      <td>M</td>\n",
       "      <td>Raw</td>\n",
       "      <td>23</td>\n",
       "      <td>88.85</td>\n",
       "      <td>190.0</td>\n",
       "      <td>230.00</td>\n",
       "      <td>125.00</td>\n",
       "    </tr>\n",
       "    <tr>\n",
       "      <th>29997</th>\n",
       "      <td>Mark Brewer</td>\n",
       "      <td>M</td>\n",
       "      <td>Multi-ply</td>\n",
       "      <td>43</td>\n",
       "      <td>106.78</td>\n",
       "      <td>206.0</td>\n",
       "      <td>229.06</td>\n",
       "      <td>151.95</td>\n",
       "    </tr>\n",
       "    <tr>\n",
       "      <th>29998</th>\n",
       "      <td>Michael Perkins</td>\n",
       "      <td>M</td>\n",
       "      <td>Raw</td>\n",
       "      <td>22</td>\n",
       "      <td>82.00</td>\n",
       "      <td>235.0</td>\n",
       "      <td>272.50</td>\n",
       "      <td>135.00</td>\n",
       "    </tr>\n",
       "    <tr>\n",
       "      <th>29999</th>\n",
       "      <td>Art Reyna</td>\n",
       "      <td>M</td>\n",
       "      <td>Single-ply</td>\n",
       "      <td>15</td>\n",
       "      <td>59.42</td>\n",
       "      <td>130.0</td>\n",
       "      <td>140.00</td>\n",
       "      <td>80.00</td>\n",
       "    </tr>\n",
       "  </tbody>\n",
       "</table>\n",
       "<p>30000 rows × 8 columns</p>\n",
       "</div>"
      ],
      "text/plain": [
       "                  Name Sex   Equipment  Age  BodyweightKg  BestSquatKg  \\\n",
       "0         Peter Neeves   M       Wraps   30         89.81        179.0   \n",
       "1         Josh Padilla   M         Raw   27         74.95        125.0   \n",
       "2          Luke Dreier   M       Wraps   30        122.61        290.0   \n",
       "3            Jacob New   M         Raw   20         88.00        187.0   \n",
       "4        Jesse Burdick   M       Wraps   30        122.00        235.0   \n",
       "...                ...  ..         ...  ...           ...          ...   \n",
       "29995  Rachael Podolak   F         Raw   20         65.70         92.0   \n",
       "29996  Daniel Andersen   M         Raw   23         88.85        190.0   \n",
       "29997      Mark Brewer   M   Multi-ply   43        106.78        206.0   \n",
       "29998  Michael Perkins   M         Raw   22         82.00        235.0   \n",
       "29999        Art Reyna   M  Single-ply   15         59.42        130.0   \n",
       "\n",
       "       BestDeadliftKg  BestBenchKg  \n",
       "0              192.78        97.52  \n",
       "1              165.00        75.00  \n",
       "2              317.50       190.00  \n",
       "3              240.00       117.50  \n",
       "4              275.01       145.01  \n",
       "...               ...          ...  \n",
       "29995          135.00        55.00  \n",
       "29996          230.00       125.00  \n",
       "29997          229.06       151.95  \n",
       "29998          272.50       135.00  \n",
       "29999          140.00        80.00  \n",
       "\n",
       "[30000 rows x 8 columns]"
      ]
     },
     "execution_count": 48,
     "metadata": {},
     "output_type": "execute_result"
    }
   ],
   "source": [
    "df"
   ]
  },
  {
   "cell_type": "code",
   "execution_count": 49,
   "id": "4dbbe8f6-378a-4609-a6f6-10910dd59e18",
   "metadata": {},
   "outputs": [
    {
     "data": {
      "image/png": "[encoded data removed]",
      "text/plain": [
       "<Figure size 720x720 with 4 Axes>"
      ]
     },
     "metadata": {
      "needs_background": "light"
     },
     "output_type": "display_data"
    }
   ],
   "source": [
    "## We need to look the distribution of numerical features\n",
    "plt.rcParams[\"figure.figsize\"] = (10,10)\n",
    "fig,ax = plt.subplots(2, 2, squeeze=False)\n",
    "sns.boxplot(data = df[[\"Age\"]], ax = ax[0,0])\n",
    "sns.boxplot(data = df[[\"BestSquatKg\",\"BestDeadliftKg\"]], ax = ax[1,0])\n",
    "sns.boxplot(data = df[[\"BestBenchKg\"]], ax = ax[0,1])\n",
    "sns.boxplot(data = df[[\"BodyweightKg\"]], ax = ax[1,1])\n",
    "plt.show()\n"
   ]
  },
  {
   "cell_type": "code",
   "execution_count": 50,
   "id": "cb3efb67-c24b-4fab-8f8b-19003bba5d2e",
   "metadata": {},
   "outputs": [
    {
     "name": "stderr",
     "output_type": "stream",
     "text": [
      "C:\\Users\\acer\\anaconda3\\lib\\site-packages\\seaborn\\distributions.py:2619: FutureWarning: `distplot` is a deprecated function and will be removed in a future version. Please adapt your code to use either `displot` (a figure-level function with similar flexibility) or `kdeplot` (an axes-level function for kernel density plots).\n",
      "  warnings.warn(msg, FutureWarning)\n",
      "C:\\Users\\acer\\anaconda3\\lib\\site-packages\\seaborn\\distributions.py:2619: FutureWarning: `distplot` is a deprecated function and will be removed in a future version. Please adapt your code to use either `displot` (a figure-level function with similar flexibility) or `kdeplot` (an axes-level function for kernel density plots).\n",
      "  warnings.warn(msg, FutureWarning)\n",
      "C:\\Users\\acer\\anaconda3\\lib\\site-packages\\seaborn\\distributions.py:2619: FutureWarning: `distplot` is a deprecated function and will be removed in a future version. Please adapt your code to use either `displot` (a figure-level function with similar flexibility) or `kdeplot` (an axes-level function for kernel density plots).\n",
      "  warnings.warn(msg, FutureWarning)\n",
      "C:\\Users\\acer\\anaconda3\\lib\\site-packages\\seaborn\\distributions.py:2619: FutureWarning: `distplot` is a deprecated function and will be removed in a future version. Please adapt your code to use either `displot` (a figure-level function with similar flexibility) or `kdeplot` (an axes-level function for kernel density plots).\n",
      "  warnings.warn(msg, FutureWarning)\n"
     ]
    },
    {
     "data": {
      "image/png": "[encoded data removed]",
      "text/plain": [
       "<Figure size 1440x1440 with 4 Axes>"
      ]
     },
     "metadata": {
      "needs_background": "light"
     },
     "output_type": "display_data"
    }
   ],
   "source": [
    "plt.rcParams[\"figure.figsize\"] = (20,20)\n",
    "fig,ax = plt.subplots(2, 2, squeeze=False)\n",
    "sns.distplot(df[[\"Age\"]], ax = ax[0,0],hist=False)\n",
    "sns.distplot(df[[\"BestSquatKg\",\"BestDeadliftKg\"]], ax = ax[1,0],hist=False)\n",
    "sns.distplot(df[[\"BestBenchKg\"]], ax = ax[0,1],hist=False)\n",
    "sns.distplot(df[[\"BodyweightKg\"]], ax = ax[1,1],hist=False)\n",
    "plt.show()\n"
   ]
  },
  {
   "cell_type": "code",
   "execution_count": 51,
   "id": "402a1eb0-061e-4519-a0d8-5665a7e25a7f",
   "metadata": {},
   "outputs": [
    {
     "data": {
      "text/html": [
       "<div>\n",
       "<style scoped>\n",
       "    .dataframe tbody tr th:only-of-type {\n",
       "        vertical-align: middle;\n",
       "    }\n",
       "\n",
       "    .dataframe tbody tr th {\n",
       "        vertical-align: top;\n",
       "    }\n",
       "\n",
       "    .dataframe thead th {\n",
       "        text-align: right;\n",
       "    }\n",
       "</style>\n",
       "<table border=\"1\" class=\"dataframe\">\n",
       "  <thead>\n",
       "    <tr style=\"text-align: right;\">\n",
       "      <th></th>\n",
       "      <th>count</th>\n",
       "      <th>mean</th>\n",
       "      <th>std</th>\n",
       "      <th>min</th>\n",
       "      <th>25%</th>\n",
       "      <th>50%</th>\n",
       "      <th>75%</th>\n",
       "      <th>max</th>\n",
       "    </tr>\n",
       "  </thead>\n",
       "  <tbody>\n",
       "    <tr>\n",
       "      <th>Age</th>\n",
       "      <td>30000.0</td>\n",
       "      <td>29.414500</td>\n",
       "      <td>11.242931</td>\n",
       "      <td>14.0</td>\n",
       "      <td>21.00</td>\n",
       "      <td>26.00</td>\n",
       "      <td>34.00</td>\n",
       "      <td>65.0</td>\n",
       "    </tr>\n",
       "    <tr>\n",
       "      <th>BodyweightKg</th>\n",
       "      <td>30000.0</td>\n",
       "      <td>85.362984</td>\n",
       "      <td>22.855404</td>\n",
       "      <td>40.0</td>\n",
       "      <td>68.05</td>\n",
       "      <td>82.10</td>\n",
       "      <td>98.88</td>\n",
       "      <td>200.0</td>\n",
       "    </tr>\n",
       "    <tr>\n",
       "      <th>BestSquatKg</th>\n",
       "      <td>30000.0</td>\n",
       "      <td>177.640033</td>\n",
       "      <td>65.686491</td>\n",
       "      <td>28.0</td>\n",
       "      <td>125.00</td>\n",
       "      <td>175.00</td>\n",
       "      <td>222.00</td>\n",
       "      <td>320.0</td>\n",
       "    </tr>\n",
       "    <tr>\n",
       "      <th>BestDeadliftKg</th>\n",
       "      <td>30000.0</td>\n",
       "      <td>201.027816</td>\n",
       "      <td>62.109510</td>\n",
       "      <td>45.0</td>\n",
       "      <td>147.50</td>\n",
       "      <td>204.12</td>\n",
       "      <td>247.50</td>\n",
       "      <td>350.0</td>\n",
       "    </tr>\n",
       "    <tr>\n",
       "      <th>BestBenchKg</th>\n",
       "      <td>30000.0</td>\n",
       "      <td>116.515997</td>\n",
       "      <td>49.883593</td>\n",
       "      <td>22.5</td>\n",
       "      <td>72.50</td>\n",
       "      <td>115.00</td>\n",
       "      <td>150.00</td>\n",
       "      <td>250.0</td>\n",
       "    </tr>\n",
       "  </tbody>\n",
       "</table>\n",
       "</div>"
      ],
      "text/plain": [
       "                  count        mean        std   min     25%     50%     75%  \\\n",
       "Age             30000.0   29.414500  11.242931  14.0   21.00   26.00   34.00   \n",
       "BodyweightKg    30000.0   85.362984  22.855404  40.0   68.05   82.10   98.88   \n",
       "BestSquatKg     30000.0  177.640033  65.686491  28.0  125.00  175.00  222.00   \n",
       "BestDeadliftKg  30000.0  201.027816  62.109510  45.0  147.50  204.12  247.50   \n",
       "BestBenchKg     30000.0  116.515997  49.883593  22.5   72.50  115.00  150.00   \n",
       "\n",
       "                  max  \n",
       "Age              65.0  \n",
       "BodyweightKg    200.0  \n",
       "BestSquatKg     320.0  \n",
       "BestDeadliftKg  350.0  \n",
       "BestBenchKg     250.0  "
      ]
     },
     "execution_count": 51,
     "metadata": {},
     "output_type": "execute_result"
    }
   ],
   "source": [
    "df.describe().T"
   ]
  },
  {
   "cell_type": "code",
   "execution_count": 52,
   "id": "8e44f7d8-5eef-4ef4-ad67-37ee424c5784",
   "metadata": {},
   "outputs": [
    {
     "data": {
      "text/html": [
       "<div>\n",
       "<style scoped>\n",
       "    .dataframe tbody tr th:only-of-type {\n",
       "        vertical-align: middle;\n",
       "    }\n",
       "\n",
       "    .dataframe tbody tr th {\n",
       "        vertical-align: top;\n",
       "    }\n",
       "\n",
       "    .dataframe thead th {\n",
       "        text-align: right;\n",
       "    }\n",
       "</style>\n",
       "<table border=\"1\" class=\"dataframe\">\n",
       "  <thead>\n",
       "    <tr style=\"text-align: right;\">\n",
       "      <th></th>\n",
       "      <th>Name</th>\n",
       "      <th>Sex</th>\n",
       "      <th>Equipment</th>\n",
       "      <th>Age</th>\n",
       "      <th>BodyweightKg</th>\n",
       "      <th>BestSquatKg</th>\n",
       "      <th>BestDeadliftKg</th>\n",
       "      <th>BestBenchKg</th>\n",
       "    </tr>\n",
       "  </thead>\n",
       "  <tbody>\n",
       "    <tr>\n",
       "      <th>0</th>\n",
       "      <td>Peter Neeves</td>\n",
       "      <td>M</td>\n",
       "      <td>Wraps</td>\n",
       "      <td>30</td>\n",
       "      <td>89.81</td>\n",
       "      <td>179.0</td>\n",
       "      <td>192.78</td>\n",
       "      <td>97.52</td>\n",
       "    </tr>\n",
       "    <tr>\n",
       "      <th>1</th>\n",
       "      <td>Josh Padilla</td>\n",
       "      <td>M</td>\n",
       "      <td>Raw</td>\n",
       "      <td>27</td>\n",
       "      <td>74.95</td>\n",
       "      <td>125.0</td>\n",
       "      <td>165.00</td>\n",
       "      <td>75.00</td>\n",
       "    </tr>\n",
       "    <tr>\n",
       "      <th>2</th>\n",
       "      <td>Luke Dreier</td>\n",
       "      <td>M</td>\n",
       "      <td>Wraps</td>\n",
       "      <td>30</td>\n",
       "      <td>122.61</td>\n",
       "      <td>290.0</td>\n",
       "      <td>317.50</td>\n",
       "      <td>190.00</td>\n",
       "    </tr>\n",
       "    <tr>\n",
       "      <th>3</th>\n",
       "      <td>Jacob New</td>\n",
       "      <td>M</td>\n",
       "      <td>Raw</td>\n",
       "      <td>20</td>\n",
       "      <td>88.00</td>\n",
       "      <td>187.0</td>\n",
       "      <td>240.00</td>\n",
       "      <td>117.50</td>\n",
       "    </tr>\n",
       "    <tr>\n",
       "      <th>4</th>\n",
       "      <td>Jesse Burdick</td>\n",
       "      <td>M</td>\n",
       "      <td>Wraps</td>\n",
       "      <td>30</td>\n",
       "      <td>122.00</td>\n",
       "      <td>235.0</td>\n",
       "      <td>275.01</td>\n",
       "      <td>145.01</td>\n",
       "    </tr>\n",
       "    <tr>\n",
       "      <th>...</th>\n",
       "      <td>...</td>\n",
       "      <td>...</td>\n",
       "      <td>...</td>\n",
       "      <td>...</td>\n",
       "      <td>...</td>\n",
       "      <td>...</td>\n",
       "      <td>...</td>\n",
       "      <td>...</td>\n",
       "    </tr>\n",
       "    <tr>\n",
       "      <th>29995</th>\n",
       "      <td>Rachael Podolak</td>\n",
       "      <td>F</td>\n",
       "      <td>Raw</td>\n",
       "      <td>20</td>\n",
       "      <td>65.70</td>\n",
       "      <td>92.0</td>\n",
       "      <td>135.00</td>\n",
       "      <td>55.00</td>\n",
       "    </tr>\n",
       "    <tr>\n",
       "      <th>29996</th>\n",
       "      <td>Daniel Andersen</td>\n",
       "      <td>M</td>\n",
       "      <td>Raw</td>\n",
       "      <td>23</td>\n",
       "      <td>88.85</td>\n",
       "      <td>190.0</td>\n",
       "      <td>230.00</td>\n",
       "      <td>125.00</td>\n",
       "    </tr>\n",
       "    <tr>\n",
       "      <th>29997</th>\n",
       "      <td>Mark Brewer</td>\n",
       "      <td>M</td>\n",
       "      <td>Multi-ply</td>\n",
       "      <td>43</td>\n",
       "      <td>106.78</td>\n",
       "      <td>206.0</td>\n",
       "      <td>229.06</td>\n",
       "      <td>151.95</td>\n",
       "    </tr>\n",
       "    <tr>\n",
       "      <th>29998</th>\n",
       "      <td>Michael Perkins</td>\n",
       "      <td>M</td>\n",
       "      <td>Raw</td>\n",
       "      <td>22</td>\n",
       "      <td>82.00</td>\n",
       "      <td>235.0</td>\n",
       "      <td>272.50</td>\n",
       "      <td>135.00</td>\n",
       "    </tr>\n",
       "    <tr>\n",
       "      <th>29999</th>\n",
       "      <td>Art Reyna</td>\n",
       "      <td>M</td>\n",
       "      <td>Single-ply</td>\n",
       "      <td>15</td>\n",
       "      <td>59.42</td>\n",
       "      <td>130.0</td>\n",
       "      <td>140.00</td>\n",
       "      <td>80.00</td>\n",
       "    </tr>\n",
       "  </tbody>\n",
       "</table>\n",
       "<p>30000 rows × 8 columns</p>\n",
       "</div>"
      ],
      "text/plain": [
       "                  Name Sex   Equipment  Age  BodyweightKg  BestSquatKg  \\\n",
       "0         Peter Neeves   M       Wraps   30         89.81        179.0   \n",
       "1         Josh Padilla   M         Raw   27         74.95        125.0   \n",
       "2          Luke Dreier   M       Wraps   30        122.61        290.0   \n",
       "3            Jacob New   M         Raw   20         88.00        187.0   \n",
       "4        Jesse Burdick   M       Wraps   30        122.00        235.0   \n",
       "...                ...  ..         ...  ...           ...          ...   \n",
       "29995  Rachael Podolak   F         Raw   20         65.70         92.0   \n",
       "29996  Daniel Andersen   M         Raw   23         88.85        190.0   \n",
       "29997      Mark Brewer   M   Multi-ply   43        106.78        206.0   \n",
       "29998  Michael Perkins   M         Raw   22         82.00        235.0   \n",
       "29999        Art Reyna   M  Single-ply   15         59.42        130.0   \n",
       "\n",
       "       BestDeadliftKg  BestBenchKg  \n",
       "0              192.78        97.52  \n",
       "1              165.00        75.00  \n",
       "2              317.50       190.00  \n",
       "3              240.00       117.50  \n",
       "4              275.01       145.01  \n",
       "...               ...          ...  \n",
       "29995          135.00        55.00  \n",
       "29996          230.00       125.00  \n",
       "29997          229.06       151.95  \n",
       "29998          272.50       135.00  \n",
       "29999          140.00        80.00  \n",
       "\n",
       "[30000 rows x 8 columns]"
      ]
     },
     "execution_count": 52,
     "metadata": {},
     "output_type": "execute_result"
    }
   ],
   "source": [
    "df"
   ]
  },
  {
   "cell_type": "code",
   "execution_count": 53,
   "id": "076293b4-7dc3-40dc-a986-ed17f4ba6ff7",
   "metadata": {},
   "outputs": [
    {
     "data": {
      "text/plain": [
       "Index(['M', 'F'], dtype='object')"
      ]
     },
     "execution_count": 53,
     "metadata": {},
     "output_type": "execute_result"
    }
   ],
   "source": [
    "df.Sex.value_counts().keys()"
   ]
  },
  {
   "cell_type": "code",
   "execution_count": 54,
   "id": "dec99127-1506-4350-b472-ed9b39f34b7d",
   "metadata": {},
   "outputs": [
    {
     "data": {
      "text/plain": [
       "<BarContainer object of 2 artists>"
      ]
     },
     "execution_count": 54,
     "metadata": {},
     "output_type": "execute_result"
    },
    {
     "data": {
      "image/png": "[encoded data removed]",
      "text/plain": [
       "<Figure size 720x360 with 1 Axes>"
      ]
     },
     "metadata": {
      "needs_background": "light"
     },
     "output_type": "display_data"
    }
   ],
   "source": [
    "plt.figure(figsize=(10,5))\n",
    "plt.bar(x=df.Sex.value_counts().keys(),height=df.Sex.value_counts().values)"
   ]
  },
  {
   "cell_type": "code",
   "execution_count": 58,
   "id": "06ef4fc0-e44d-4aee-beb3-fccca3f826c1",
   "metadata": {},
   "outputs": [
    {
     "data": {
      "text/plain": [
       "<BarContainer object of 3 artists>"
      ]
     },
     "execution_count": 58,
     "metadata": {},
     "output_type": "execute_result"
    },
    {
     "data": {
      "image/png": "[encoded data removed]",
      "text/plain": [
       "<Figure size 720x360 with 1 Axes>"
      ]
     },
     "metadata": {
      "needs_background": "light"
     },
     "output_type": "display_data"
    }
   ],
   "source": [
    "plt.figure(figsize=(10,5))\n",
    "plt.bar(x=df.Equipment.value_counts().keys(),height=df.Equipment.value_counts().values)"
   ]
  },
  {
   "cell_type": "code",
   "execution_count": 59,
   "id": "74b2c510-3caf-4ac6-9cad-8d17a1f5d618",
   "metadata": {},
   "outputs": [
    {
     "data": {
      "text/plain": [
       "<AxesSubplot:xlabel='Equipment', ylabel='BestSquatKg'>"
      ]
     },
     "execution_count": 59,
     "metadata": {},
     "output_type": "execute_result"
    },
    {
     "data": {
      "image/png": "[encoded data removed]",
      "text/plain": [
       "<Figure size 600x600 with 1 Axes>"
      ]
     },
     "metadata": {
      "needs_background": "light"
     },
     "output_type": "display_data"
    }
   ],
   "source": [
    "plt.figure(dpi=30)\n",
    "sns.barplot(x=df.Equipment,y=df.BestSquatKg)"
   ]
  },
  {
   "cell_type": "code",
   "execution_count": 60,
   "id": "1e85bc45-6f25-4d9f-8b58-38a5adc86548",
   "metadata": {},
   "outputs": [],
   "source": [
    "df.Equipment = df.Equipment.replace([\"Single-ply\",\"Multi-ply\"],\"Ply\")"
   ]
  },
  {
   "cell_type": "code",
   "execution_count": 61,
   "id": "ab997964-ed56-4b75-81cf-de04ba3031a2",
   "metadata": {},
   "outputs": [
    {
     "data": {
      "text/plain": [
       "array(['Wraps', 'Raw', 'Ply'], dtype=object)"
      ]
     },
     "execution_count": 61,
     "metadata": {},
     "output_type": "execute_result"
    }
   ],
   "source": [
    "df.Equipment.unique()"
   ]
  },
  {
   "cell_type": "code",
   "execution_count": 62,
   "id": "d89d4089-c5ee-4980-80c9-0c854d013e88",
   "metadata": {},
   "outputs": [],
   "source": [
    "df.drop(\"Name\",axis=1,inplace=True)"
   ]
  },
  {
   "cell_type": "code",
   "execution_count": null,
   "id": "c1948d98-ea18-45cf-82e6-1e23bfda026d",
   "metadata": {},
   "outputs": [],
   "source": []
  },
  {
   "cell_type": "code",
   "execution_count": 63,
   "id": "f7911a0f-a7d3-4b12-8aa1-a39fe53b777a",
   "metadata": {},
   "outputs": [
    {
     "data": {
      "text/html": [
       "<div>\n",
       "<style scoped>\n",
       "    .dataframe tbody tr th:only-of-type {\n",
       "        vertical-align: middle;\n",
       "    }\n",
       "\n",
       "    .dataframe tbody tr th {\n",
       "        vertical-align: top;\n",
       "    }\n",
       "\n",
       "    .dataframe thead th {\n",
       "        text-align: right;\n",
       "    }\n",
       "</style>\n",
       "<table border=\"1\" class=\"dataframe\">\n",
       "  <thead>\n",
       "    <tr style=\"text-align: right;\">\n",
       "      <th></th>\n",
       "      <th>Sex</th>\n",
       "      <th>Equipment</th>\n",
       "      <th>Age</th>\n",
       "      <th>BodyweightKg</th>\n",
       "      <th>BestSquatKg</th>\n",
       "      <th>BestDeadliftKg</th>\n",
       "      <th>BestBenchKg</th>\n",
       "    </tr>\n",
       "  </thead>\n",
       "  <tbody>\n",
       "    <tr>\n",
       "      <th>0</th>\n",
       "      <td>M</td>\n",
       "      <td>Wraps</td>\n",
       "      <td>30</td>\n",
       "      <td>89.81</td>\n",
       "      <td>179.0</td>\n",
       "      <td>192.78</td>\n",
       "      <td>97.52</td>\n",
       "    </tr>\n",
       "    <tr>\n",
       "      <th>1</th>\n",
       "      <td>M</td>\n",
       "      <td>Raw</td>\n",
       "      <td>27</td>\n",
       "      <td>74.95</td>\n",
       "      <td>125.0</td>\n",
       "      <td>165.00</td>\n",
       "      <td>75.00</td>\n",
       "    </tr>\n",
       "    <tr>\n",
       "      <th>2</th>\n",
       "      <td>M</td>\n",
       "      <td>Wraps</td>\n",
       "      <td>30</td>\n",
       "      <td>122.61</td>\n",
       "      <td>290.0</td>\n",
       "      <td>317.50</td>\n",
       "      <td>190.00</td>\n",
       "    </tr>\n",
       "    <tr>\n",
       "      <th>3</th>\n",
       "      <td>M</td>\n",
       "      <td>Raw</td>\n",
       "      <td>20</td>\n",
       "      <td>88.00</td>\n",
       "      <td>187.0</td>\n",
       "      <td>240.00</td>\n",
       "      <td>117.50</td>\n",
       "    </tr>\n",
       "    <tr>\n",
       "      <th>4</th>\n",
       "      <td>M</td>\n",
       "      <td>Wraps</td>\n",
       "      <td>30</td>\n",
       "      <td>122.00</td>\n",
       "      <td>235.0</td>\n",
       "      <td>275.01</td>\n",
       "      <td>145.01</td>\n",
       "    </tr>\n",
       "  </tbody>\n",
       "</table>\n",
       "</div>"
      ],
      "text/plain": [
       "  Sex Equipment  Age  BodyweightKg  BestSquatKg  BestDeadliftKg  BestBenchKg\n",
       "0   M     Wraps   30         89.81        179.0          192.78        97.52\n",
       "1   M       Raw   27         74.95        125.0          165.00        75.00\n",
       "2   M     Wraps   30        122.61        290.0          317.50       190.00\n",
       "3   M       Raw   20         88.00        187.0          240.00       117.50\n",
       "4   M     Wraps   30        122.00        235.0          275.01       145.01"
      ]
     },
     "execution_count": 63,
     "metadata": {},
     "output_type": "execute_result"
    }
   ],
   "source": [
    "df.head()"
   ]
  },
  {
   "cell_type": "code",
   "execution_count": 64,
   "id": "eaaeb04e-b16b-4dbb-9eab-7b83b60cc5a2",
   "metadata": {},
   "outputs": [],
   "source": [
    "### Our data now can be used for modelization"
   ]
  },
  {
   "cell_type": "markdown",
   "id": "fcd3d8e7-65a3-4a5b-9128-8396badebf12",
   "metadata": {},
   "source": [
    "## Getting Dummies ##"
   ]
  },
  {
   "cell_type": "code",
   "execution_count": 65,
   "id": "89106f7b-911b-45b5-b2e1-852369b09caa",
   "metadata": {},
   "outputs": [],
   "source": [
    "df_dummies = pd.get_dummies(df,drop_first=True)"
   ]
  },
  {
   "cell_type": "code",
   "execution_count": 66,
   "id": "397c6808-16bd-4047-ab1f-f67615a08ef5",
   "metadata": {},
   "outputs": [],
   "source": [
    "from sklearn.model_selection import train_test_split,cross_val_predict,cross_val_score\n",
    "from sklearn.linear_model import Ridge\n",
    "from sklearn.pipeline import Pipeline\n",
    "from sklearn.preprocessing import StandardScaler"
   ]
  },
  {
   "cell_type": "code",
   "execution_count": null,
   "id": "561eb51e-97f9-4a4f-946e-810761735302",
   "metadata": {},
   "outputs": [],
   "source": []
  },
  {
   "cell_type": "code",
   "execution_count": null,
   "id": "0a07f7b0-a9e5-494a-980b-046711cd9322",
   "metadata": {},
   "outputs": [],
   "source": []
  },
  {
   "cell_type": "code",
   "execution_count": 67,
   "id": "7e7decd2-f6fa-430f-b921-f396721a2175",
   "metadata": {},
   "outputs": [],
   "source": [
    "X=df_dummies.drop(\"BestBenchKg\",axis=1)\n",
    "y=df_dummies.BestBenchKg\n",
    "X_train,X_test,y_train,y_test = train_test_split(X,y,train_size=0.8,random_state=42)"
   ]
  },
  {
   "cell_type": "code",
   "execution_count": null,
   "id": "412520eb-0536-4e07-a351-6fddca8a8968",
   "metadata": {},
   "outputs": [],
   "source": []
  },
  {
   "cell_type": "code",
   "execution_count": 68,
   "id": "42e9a6d4-e90c-42ad-8851-0c6ec5e59ba6",
   "metadata": {},
   "outputs": [
    {
     "data": {
      "text/plain": [
       "[327.3853273957546,\n",
       " 327.3853161985621,\n",
       " 327.385328645734,\n",
       " 327.38520943045495,\n",
       " 327.3846563561402,\n",
       " 327.42540343781803]"
      ]
     },
     "execution_count": 68,
     "metadata": {},
     "output_type": "execute_result"
    }
   ],
   "source": [
    "scrs = []\n",
    "for i in [0.01,0.1,0,1,10,100]:\n",
    "    pipe = Pipeline([(\"scaler\", StandardScaler()),((\"regressor\", Ridge(alpha=i)))])\n",
    "    csvscores = cross_val_score(pipe,X_train,y_train,scoring=\"neg_mean_squared_error\",cv=5,n_jobs=-1)\n",
    "    csvscores = csvscores*-1\n",
    "    scrs.append(csvscores.mean())\n",
    "scrs"
   ]
  },
  {
   "cell_type": "code",
   "execution_count": 69,
   "id": "d086a567-b290-4780-ba07-55d121f983d2",
   "metadata": {},
   "outputs": [],
   "source": [
    "sc = np.array(scrs)\n",
    "sc.reshape(-1,1)\n",
    "sc = pd.Series(sc,index = [0.01,0.1,0,1,10,100])"
   ]
  },
  {
   "cell_type": "code",
   "execution_count": 70,
   "id": "a8d8d368-8ae3-4485-90a3-beca199eb97c",
   "metadata": {},
   "outputs": [
    {
     "data": {
      "text/plain": [
       "0.01      327.385327\n",
       "0.10      327.385316\n",
       "0.00      327.385329\n",
       "1.00      327.385209\n",
       "10.00     327.384656\n",
       "100.00    327.425403\n",
       "dtype: float64"
      ]
     },
     "execution_count": 70,
     "metadata": {},
     "output_type": "execute_result"
    }
   ],
   "source": [
    "sc"
   ]
  },
  {
   "cell_type": "code",
   "execution_count": 71,
   "id": "919ea900-ff2f-4872-b940-babf1c9ab487",
   "metadata": {},
   "outputs": [
    {
     "data": {
      "image/png": "[encoded data removed]",
      "text/plain": [
       "<Figure size 1440x1440 with 1 Axes>"
      ]
     },
     "metadata": {
      "needs_background": "light"
     },
     "output_type": "display_data"
    }
   ],
   "source": [
    "plt.plot(sc)\n",
    "plt.xscale(\"log\")"
   ]
  },
  {
   "cell_type": "code",
   "execution_count": 72,
   "id": "a59a9628-e250-4b9b-9b53-4ac95842b0bb",
   "metadata": {},
   "outputs": [],
   "source": [
    "## alpha = 10 Ridge is a good solution for the problem."
   ]
  },
  {
   "cell_type": "code",
   "execution_count": 73,
   "id": "da365c5f-9012-4d91-bd65-1b0ec4540c26",
   "metadata": {},
   "outputs": [],
   "source": [
    "pipe = Pipeline([(\"scaler\",StandardScaler()),(\"regressor\",Ridge(alpha=10))])\n",
    "crs = cross_val_score(pipe,X_train,y_train,cv=5,n_jobs=-1,scoring = \"neg_mean_squared_error\")\n",
    "crs = crs* -1\n",
    "df_compare_models = pd.DataFrame([],columns=[\"cvMean\",\"cvStd\"])\n",
    "df_compare_models.loc[\"Ridge\"] = (np.mean(crs),np.std(crs))"
   ]
  },
  {
   "cell_type": "code",
   "execution_count": 74,
   "id": "5719f6c7-4aa5-4428-9a23-fc389e0896b8",
   "metadata": {},
   "outputs": [
    {
     "data": {
      "text/html": [
       "<div>\n",
       "<style scoped>\n",
       "    .dataframe tbody tr th:only-of-type {\n",
       "        vertical-align: middle;\n",
       "    }\n",
       "\n",
       "    .dataframe tbody tr th {\n",
       "        vertical-align: top;\n",
       "    }\n",
       "\n",
       "    .dataframe thead th {\n",
       "        text-align: right;\n",
       "    }\n",
       "</style>\n",
       "<table border=\"1\" class=\"dataframe\">\n",
       "  <thead>\n",
       "    <tr style=\"text-align: right;\">\n",
       "      <th></th>\n",
       "      <th>cvMean</th>\n",
       "      <th>cvStd</th>\n",
       "    </tr>\n",
       "  </thead>\n",
       "  <tbody>\n",
       "    <tr>\n",
       "      <th>Ridge</th>\n",
       "      <td>327.384656</td>\n",
       "      <td>11.271437</td>\n",
       "    </tr>\n",
       "  </tbody>\n",
       "</table>\n",
       "</div>"
      ],
      "text/plain": [
       "           cvMean      cvStd\n",
       "Ridge  327.384656  11.271437"
      ]
     },
     "execution_count": 74,
     "metadata": {},
     "output_type": "execute_result"
    }
   ],
   "source": [
    "df_compare_models"
   ]
  },
  {
   "cell_type": "code",
   "execution_count": 75,
   "id": "16800bcc-26cd-4067-bd55-dd7829e8294e",
   "metadata": {},
   "outputs": [],
   "source": [
    "### Comparing different algorithms:    SVM"
   ]
  },
  {
   "cell_type": "code",
   "execution_count": 76,
   "id": "61c78fcf-db80-45ac-8690-e090a90da784",
   "metadata": {},
   "outputs": [
    {
     "data": {
      "text/plain": [
       "dict_keys(['memory', 'steps', 'verbose', 'scaler', 'regressor', 'scaler__copy', 'scaler__with_mean', 'scaler__with_std', 'regressor__alpha', 'regressor__copy_X', 'regressor__fit_intercept', 'regressor__max_iter', 'regressor__normalize', 'regressor__random_state', 'regressor__solver', 'regressor__tol'])"
      ]
     },
     "execution_count": 76,
     "metadata": {},
     "output_type": "execute_result"
    }
   ],
   "source": [
    "pipe.get_params().keys()"
   ]
  },
  {
   "cell_type": "code",
   "execution_count": 78,
   "id": "265d38d3-81d5-4b28-a368-db734dd9a19f",
   "metadata": {},
   "outputs": [],
   "source": [
    "from sklearn.svm import SVR\n",
    "from sklearn.model_selection import GridSearchCV"
   ]
  },
  {
   "cell_type": "code",
   "execution_count": 733,
   "id": "29bf8f9b-6050-48f3-a090-fb0ad5e00f09",
   "metadata": {},
   "outputs": [
    {
     "name": "stdout",
     "output_type": "stream",
     "text": [
      "Fitting 5 folds for each of 60 candidates, totalling 300 fits\n"
     ]
    },
    {
     "data": {
      "text/plain": [
       "SVR(C=100, epsilon=10)"
      ]
     },
     "execution_count": 733,
     "metadata": {},
     "output_type": "execute_result"
    }
   ],
   "source": [
    "from sklearn.svm import SVR\n",
    "from sklearn.model_selection import GridSearchCV\n",
    "\n",
    "pipe = Pipeline([(\"scaler\",StandardScaler()),(\"regressor\",SVR())])\n",
    "\n",
    "search_space = {\"regressor__C\":[0.1, 1, 10, 100, 1000],\n",
    "                 \"regressor__kernel\":[\"linear\", \"rbf\", \"poly\"],\n",
    "                 \"regressor__epsilon\": [0.1, 1, 10, 100]}\n",
    "\n",
    "grid = GridSearchCV(pipe,param_grid=search_space,scoring = \"neg_mean_squared_error\",n_jobs = -1,cv=5,verbose=1)\n",
    "best_model = grid.fit(X_train,y_train)\n",
    "best_model.best_estimator_.get_params()['regressor']"
   ]
  },
  {
   "cell_type": "code",
   "execution_count": 734,
   "id": "32be390c-8f7a-47b1-bbd9-ed400b066d78",
   "metadata": {},
   "outputs": [
    {
     "data": {
      "text/plain": [
       "[328.0846772363441, 289.8726365241893, 300.17028187258745]"
      ]
     },
     "execution_count": 734,
     "metadata": {},
     "output_type": "execute_result"
    }
   ],
   "source": [
    "csError = []\n",
    "for i in [\"linear\", \"rbf\", \"poly\"]:\n",
    "    svr = SVR(C=100,epsilon=10,kernel=i)\n",
    "    pipe = Pipeline([(\"scaler\",StandardScaler()),(\"regressor\",svr)])\n",
    "    cscore = cross_val_score(pipe,X_train,y_train,cv=5,scoring=\"neg_mean_squared_error\",n_jobs=-1)\n",
    "    cscore = cscore* -1\n",
    "    csError.append(np.mean(cscore))\n",
    "csError"
   ]
  },
  {
   "cell_type": "code",
   "execution_count": 79,
   "id": "9e7d8793-fadc-47a1-a4be-919b3bdfe256",
   "metadata": {},
   "outputs": [
    {
     "name": "stdout",
     "output_type": "stream",
     "text": [
      "-289.8726365241893\n"
     ]
    }
   ],
   "source": [
    "svr = SVR(C=100,epsilon=10,kernel=\"rbf\")\n",
    "pipe = Pipeline([(\"scaler\",StandardScaler()),(\"regressor\",svr)])\n",
    "print(np.mean(cross_val_score(pipe,X_train,y_train,cv=5,scoring=\"neg_mean_squared_error\",n_jobs=-1)))\n",
    "prrr = cross_val_predict(pipe,X_test,y_test,cv=5)"
   ]
  },
  {
   "cell_type": "code",
   "execution_count": 81,
   "id": "0fcf93de-6537-4902-b63a-b28c32f64496",
   "metadata": {},
   "outputs": [
    {
     "data": {
      "text/html": [
       "<div>\n",
       "<style scoped>\n",
       "    .dataframe tbody tr th:only-of-type {\n",
       "        vertical-align: middle;\n",
       "    }\n",
       "\n",
       "    .dataframe tbody tr th {\n",
       "        vertical-align: top;\n",
       "    }\n",
       "\n",
       "    .dataframe thead th {\n",
       "        text-align: right;\n",
       "    }\n",
       "</style>\n",
       "<table border=\"1\" class=\"dataframe\">\n",
       "  <thead>\n",
       "    <tr style=\"text-align: right;\">\n",
       "      <th></th>\n",
       "      <th>cvMean</th>\n",
       "      <th>cvStd</th>\n",
       "    </tr>\n",
       "  </thead>\n",
       "  <tbody>\n",
       "    <tr>\n",
       "      <th>Ridge</th>\n",
       "      <td>327.384656</td>\n",
       "      <td>11.271437</td>\n",
       "    </tr>\n",
       "    <tr>\n",
       "      <th>SVR</th>\n",
       "      <td>289.872630</td>\n",
       "      <td>0.000000</td>\n",
       "    </tr>\n",
       "  </tbody>\n",
       "</table>\n",
       "</div>"
      ],
      "text/plain": [
       "           cvMean      cvStd\n",
       "Ridge  327.384656  11.271437\n",
       "SVR    289.872630   0.000000"
      ]
     },
     "execution_count": 81,
     "metadata": {},
     "output_type": "execute_result"
    }
   ],
   "source": [
    "df_compare_models.loc[\"SVR\"] = (289.87263,0)\n",
    "df_compare_models"
   ]
  },
  {
   "cell_type": "code",
   "execution_count": 82,
   "id": "3d243a08-6df4-468d-aed2-54560e78e9e1",
   "metadata": {},
   "outputs": [
    {
     "data": {
      "text/plain": [
       "17.0256462432414"
      ]
     },
     "execution_count": 82,
     "metadata": {},
     "output_type": "execute_result"
    }
   ],
   "source": [
    "np.sqrt(289.87263)"
   ]
  },
  {
   "cell_type": "code",
   "execution_count": 83,
   "id": "7bc1d14e-6a3b-4cfc-8d02-c154e4b9bec8",
   "metadata": {},
   "outputs": [
    {
     "name": "stderr",
     "output_type": "stream",
     "text": [
      "[Parallel(n_jobs=1)]: Using backend SequentialBackend with 1 concurrent workers.\n",
      "[Parallel(n_jobs=1)]: Done   5 out of   5 | elapsed:    4.6s finished\n"
     ]
    }
   ],
   "source": [
    "pr = cross_val_predict(pipe,X_test,y_test,cv=5,verbose=1)"
   ]
  },
  {
   "cell_type": "code",
   "execution_count": 85,
   "id": "88cdd0d3-3f5f-4001-b11e-bfe6ce1405df",
   "metadata": {},
   "outputs": [
    {
     "name": "stderr",
     "output_type": "stream",
     "text": [
      "C:\\Users\\acer\\anaconda3\\lib\\site-packages\\seaborn\\distributions.py:2619: FutureWarning: `distplot` is a deprecated function and will be removed in a future version. Please adapt your code to use either `displot` (a figure-level function with similar flexibility) or `kdeplot` (an axes-level function for kernel density plots).\n",
      "  warnings.warn(msg, FutureWarning)\n",
      "C:\\Users\\acer\\anaconda3\\lib\\site-packages\\seaborn\\distributions.py:2619: FutureWarning: `distplot` is a deprecated function and will be removed in a future version. Please adapt your code to use either `displot` (a figure-level function with similar flexibility) or `kdeplot` (an axes-level function for kernel density plots).\n",
      "  warnings.warn(msg, FutureWarning)\n"
     ]
    },
    {
     "data": {
      "text/plain": [
       "<matplotlib.legend.Legend at 0x21056838be0>"
      ]
     },
     "execution_count": 85,
     "metadata": {},
     "output_type": "execute_result"
    },
    {
     "data": {
      "image/png": "[encoded data removed]",
      "text/plain": [
       "<Figure size 720x360 with 1 Axes>"
      ]
     },
     "metadata": {
      "needs_background": "light"
     },
     "output_type": "display_data"
    }
   ],
   "source": [
    "plt.figure(figsize=(10,5))\n",
    "sns.distplot(y_test,hist=False,color=\"blue\",label=\"real\")\n",
    "sns.distplot(prrr,hist=False,color=\"green\",label=\"SVR\")\n",
    "plt.legend()"
   ]
  },
  {
   "cell_type": "code",
   "execution_count": 86,
   "id": "4b58ba06-b4e9-4985-aacf-7fb4a273245d",
   "metadata": {},
   "outputs": [
    {
     "name": "stderr",
     "output_type": "stream",
     "text": [
      "C:\\Users\\acer\\anaconda3\\lib\\site-packages\\seaborn\\distributions.py:2619: FutureWarning: `distplot` is a deprecated function and will be removed in a future version. Please adapt your code to use either `displot` (a figure-level function with similar flexibility) or `kdeplot` (an axes-level function for kernel density plots).\n",
      "  warnings.warn(msg, FutureWarning)\n"
     ]
    },
    {
     "data": {
      "text/plain": [
       "<AxesSubplot:xlabel='BestBenchKg', ylabel='Density'>"
      ]
     },
     "execution_count": 86,
     "metadata": {},
     "output_type": "execute_result"
    },
    {
     "data": {
      "image/png": "[encoded data removed]",
      "text/plain": [
       "<Figure size 720x360 with 1 Axes>"
      ]
     },
     "metadata": {
      "needs_background": "light"
     },
     "output_type": "display_data"
    }
   ],
   "source": [
    "dif = pr- y_test\n",
    "plt.figure(figsize=(10,5))\n",
    "sns.distplot(dif,hist=False,color=\"red\",label=\"error\")"
   ]
  },
  {
   "cell_type": "code",
   "execution_count": 87,
   "id": "12f3f1b2-4414-4d51-968a-4efa4ffd9e88",
   "metadata": {},
   "outputs": [
    {
     "name": "stderr",
     "output_type": "stream",
     "text": [
      "C:\\Users\\acer\\anaconda3\\lib\\site-packages\\seaborn\\distributions.py:2619: FutureWarning: `distplot` is a deprecated function and will be removed in a future version. Please adapt your code to use either `displot` (a figure-level function with similar flexibility) or `kdeplot` (an axes-level function for kernel density plots).\n",
      "  warnings.warn(msg, FutureWarning)\n"
     ]
    },
    {
     "data": {
      "text/plain": [
       "<AxesSubplot:xlabel='BestBenchKg', ylabel='Density'>"
      ]
     },
     "execution_count": 87,
     "metadata": {},
     "output_type": "execute_result"
    },
    {
     "data": {
      "image/png": "[encoded data removed]",
      "text/plain": [
       "<Figure size 720x360 with 1 Axes>"
      ]
     },
     "metadata": {
      "needs_background": "light"
     },
     "output_type": "display_data"
    }
   ],
   "source": [
    "dif = prrr- y_test\n",
    "plt.figure(figsize=(10,5))\n",
    "sns.distplot(dif,hist=False,color=\"red\",label=\"error\")"
   ]
  },
  {
   "cell_type": "code",
   "execution_count": null,
   "id": "92a3668a-8d36-448d-8d82-eb4aed714530",
   "metadata": {},
   "outputs": [],
   "source": []
  },
  {
   "cell_type": "code",
   "execution_count": 88,
   "id": "2b7ae3a7-52c1-414e-8975-8a48a3459e32",
   "metadata": {},
   "outputs": [
    {
     "data": {
      "text/plain": [
       "Text(0.5, 1.0, 'Ridge Predictions Distribution')"
      ]
     },
     "execution_count": 88,
     "metadata": {},
     "output_type": "execute_result"
    },
    {
     "data": {
      "image/png": "[encoded data removed]",
      "text/plain": [
       "<Figure size 1080x720 with 1 Axes>"
      ]
     },
     "metadata": {
      "needs_background": "light"
     },
     "output_type": "display_data"
    }
   ],
   "source": [
    "plt.figure(figsize=(15,10))\n",
    "plt.scatter(pr[:2000],y_test[:2000])\n",
    "plt.xlabel(\"predictions\",fontsize=20)\n",
    "plt.ylabel(\"real\",fontsize=20)\n",
    "plt.plot(list(range(250)),list(range(250)),color=\"r\",linewidth=3)\n",
    "plt.title(\"Ridge Predictions Distribution\",fontsize=20)"
   ]
  },
  {
   "cell_type": "code",
   "execution_count": 89,
   "id": "d075d0d3-20f7-445a-b5c0-7bc8201fea69",
   "metadata": {},
   "outputs": [
    {
     "data": {
      "text/plain": [
       "Text(0.5, 1.0, 'SVR Predictions Distribution')"
      ]
     },
     "execution_count": 89,
     "metadata": {},
     "output_type": "execute_result"
    },
    {
     "data": {
      "image/png": "[encoded data removed]",
      "text/plain": [
       "<Figure size 1080x720 with 1 Axes>"
      ]
     },
     "metadata": {
      "needs_background": "light"
     },
     "output_type": "display_data"
    }
   ],
   "source": [
    "plt.figure(figsize=(15,10))\n",
    "plt.scatter(prrr[:2000],y_test[:2000])\n",
    "plt.xlabel(\"predictions\",fontsize=20)\n",
    "plt.ylabel(\"real\",fontsize=20)\n",
    "plt.plot(list(range(250)),list(range(250)),color=\"r\",linewidth=3)\n",
    "plt.plot(list(range(250)),list(range(250)),color=\"r\",linewidth=3)\n",
    "\n",
    "plt.title(\"SVR Predictions Distribution\",fontsize=20)"
   ]
  },
  {
   "cell_type": "code",
   "execution_count": 90,
   "id": "b8198969-f892-4952-a635-ff2a44eb33fd",
   "metadata": {},
   "outputs": [
    {
     "data": {
      "text/plain": [
       "0.8887423902871959"
      ]
     },
     "execution_count": 90,
     "metadata": {},
     "output_type": "execute_result"
    }
   ],
   "source": [
    "svr = SVR(C=100,epsilon=10,kernel=\"rbf\")\n",
    "pipe = Pipeline([(\"scaler\",StandardScaler()),(\"regressor\",svr)])\n",
    "pipe.fit(X_train,y_train)\n",
    "prediksiyon = pipe.predict(X_test)\n",
    "pipe.score(X_train,y_train)"
   ]
  },
  {
   "cell_type": "code",
   "execution_count": 91,
   "id": "30f2487f-f9eb-4a5c-a772-d5dc97c102e2",
   "metadata": {},
   "outputs": [],
   "source": [
    "from sklearn.metrics import r2_score"
   ]
  },
  {
   "cell_type": "code",
   "execution_count": 92,
   "id": "730f2b09-ea59-4541-a781-487161865960",
   "metadata": {},
   "outputs": [
    {
     "data": {
      "text/plain": [
       "0.8849601273819597"
      ]
     },
     "execution_count": 92,
     "metadata": {},
     "output_type": "execute_result"
    }
   ],
   "source": [
    "r2_score(y_test,prediksiyon)"
   ]
  },
  {
   "cell_type": "code",
   "execution_count": 93,
   "id": "5565171d-b0ba-4377-925a-5bff9fb803be",
   "metadata": {
    "collapsed": true,
    "jupyter": {
     "outputs_hidden": true
    },
    "tags": []
   },
   "outputs": [
    {
     "data": {
      "text/plain": [
       "[(192.5, 167.70060678747265, 24.79939321252735),\n",
       " (161.03, 173.5831185533403, 12.553118553340312),\n",
       " (250.0, 232.6971417253958, 17.302858274604205),\n",
       " (182.5, 164.71389656923196, 17.786103430768037),\n",
       " (165.0, 152.71716556076032, 12.282834439239679),\n",
       " (152.5, 183.44956962799915, 30.949569627999153),\n",
       " (142.5, 124.01636359606869, 18.483636403931314),\n",
       " (125.0, 95.85085428416059, 29.14914571583941),\n",
       " (160.0, 143.99569810283572, 16.004301897164282),\n",
       " (144.92, 124.87220237788613, 20.047797622113862),\n",
       " (145.0, 155.6188471376917, 10.618847137691688),\n",
       " (155.0, 168.09732759087655, 13.097327590876546),\n",
       " (152.5, 154.98606169850393, 2.4860616985039314),\n",
       " (150.0, 138.22276327364958, 11.777236726350424),\n",
       " (150.0, 156.3795442043696, 6.3795442043696085),\n",
       " (180.0, 174.40007304431816, 5.599926955681838),\n",
       " (77.5, 87.79708224309829, 10.297082243098288),\n",
       " (145.0, 117.68586793462647, 27.314132065373528),\n",
       " (105.0, 128.92966490265877, 23.92966490265877),\n",
       " (165.0, 183.43474100942396, 18.43474100942396),\n",
       " (45.0, 48.77910096628676, 3.7791009662867623),\n",
       " (136.1, 134.65949373487297, 1.440506265127027),\n",
       " (97.5, 100.95165067103815, 3.451650671038152),\n",
       " (40.0, 45.79972771515601, 5.79972771515601),\n",
       " (62.5, 65.31378685965126, 2.813786859651259),\n",
       " (95.0, 78.16833463826292, 16.83166536173708),\n",
       " (117.5, 117.40528505867692, 0.09471494132307612),\n",
       " (50.0, 47.02208271056779, 2.977917289432213),\n",
       " (132.5, 130.28706180112528, 2.212938198874724),\n",
       " (130.0, 131.0356140258367, 1.0356140258367077),\n",
       " (185.0, 189.04024922976402, 4.040249229764015),\n",
       " (100.0, 134.16846709993837, 34.16846709993837),\n",
       " (175.0, 151.22856460320878, 23.77143539679122),\n",
       " (50.0, 51.97113367639804, 1.9711336763980398),\n",
       " (122.5, 120.8284296249638, 1.6715703750361968),\n",
       " (170.0, 176.178783902377, 6.178783902377006),\n",
       " (62.5, 69.7823259064652, 7.2823259064652035),\n",
       " (120.0, 181.44368413465943, 61.443684134659435),\n",
       " (75.0, 77.35285662110155, 2.3528566211015516),\n",
       " (112.5, 96.5668262452, 15.933173754799995),\n",
       " (160.0, 139.98768540272772, 20.01231459727228),\n",
       " (247.5, 197.73741805763822, 49.76258194236178),\n",
       " (80.0, 83.82330585807136, 3.8233058580713646),\n",
       " (110.0, 130.4072357356497, 20.407235735649692),\n",
       " (115.0, 139.61721337802476, 24.617213378024758),\n",
       " (170.0, 161.5560452535548, 8.4439547464452),\n",
       " (75.0, 77.33925927775229, 2.3392592777522907),\n",
       " (140.0, 137.51285633010818, 2.4871436698918217),\n",
       " (67.5, 75.007894573597, 7.5078945735969995),\n",
       " (115.0, 115.18556935851683, 0.18556935851682965),\n",
       " (185.0, 162.57574878196021, 22.424251218039785),\n",
       " (110.0, 131.5502351415581, 21.55023514155809),\n",
       " (187.5, 168.21760132780202, 19.282398672197985),\n",
       " (120.0, 128.3284413800102, 8.32844138001019),\n",
       " (140.0, 142.07273802549915, 2.0727380254991488),\n",
       " (155.0, 151.75073527065175, 3.249264729348255),\n",
       " (57.5, 60.43300133460706, 2.933001334607063),\n",
       " (135.0, 105.36610627401254, 29.633893725987463),\n",
       " (132.5, 152.48247190678418, 19.982471906784184),\n",
       " (57.5, 58.7409102539456, 1.2409102539456),\n",
       " (115.0, 108.8391933065414, 6.160806693458596),\n",
       " (250.0, 240.46588967025383, 9.53411032974617),\n",
       " (62.5, 61.34694496516281, 1.1530550348371875),\n",
       " (147.5, 151.38768471561232, 3.8876847156123233),\n",
       " (55.0, 55.578626104938294, 0.5786261049382944),\n",
       " (135.0, 131.6874988622533, 3.3125011377466933),\n",
       " (52.5, 47.39173339353408, 5.108266606465918),\n",
       " (47.5, 54.94711094940557, 7.44711094940557),\n",
       " (50.0, 53.2196400924274, 3.2196400924273973),\n",
       " (60.0, 66.99240063720245, 6.992400637202451),\n",
       " (37.5, 42.1360638357888, 4.6360638357888035),\n",
       " (150.0, 150.3686333439696, 0.3686333439696057),\n",
       " (177.5, 167.27320012677063, 10.226799873229368),\n",
       " (245.0, 215.66093548870677, 29.33906451129323),\n",
       " (250.0, 202.20514652890785, 47.79485347109215),\n",
       " (62.5, 54.32253197945968, 8.177468020540317),\n",
       " (132.5, 129.76483752811862, 2.735162471881381),\n",
       " (130.0, 137.25185537976233, 7.251855379762333),\n",
       " (155.0, 160.73306859951794, 5.733068599517935),\n",
       " (130.0, 125.18614385202262, 4.813856147977376),\n",
       " (120.0, 145.23287528377904, 25.232875283779038),\n",
       " (65.0, 66.26597356380657, 1.2659735638065683),\n",
       " (137.5, 142.1120095447133, 4.612009544713288),\n",
       " (165.0, 195.67501765982794, 30.675017659827944),\n",
       " (112.5, 123.37380605809066, 10.873806058090665),\n",
       " (155.0, 130.09220493754611, 24.907795062453886),\n",
       " (140.61, 165.57347480748712, 24.963474807487103),\n",
       " (137.5, 121.11589095178708, 16.38410904821292),\n",
       " (120.0, 128.2162315843196, 8.216231584319587),\n",
       " (135.0, 129.83312541035937, 5.166874589640628),\n",
       " (50.0, 60.99419626710178, 10.994196267101778),\n",
       " (115.0, 111.05504391642188, 3.94495608357812),\n",
       " (112.5, 88.29393175490235, 24.206068245097654),\n",
       " (40.0, 49.71569513884255, 9.715695138842548),\n",
       " (70.0, 70.81796154929478, 0.8179615492947789),\n",
       " (137.5, 113.62935621532596, 23.870643784674044),\n",
       " (42.5, 42.87974871629663, 0.379748716296632),\n",
       " (80.0, 76.61104664180414, 3.388953358195863),\n",
       " (170.0, 166.44230788060347, 3.5576921193965347),\n",
       " (37.5, 43.50708713565085, 6.007087135650849),\n",
       " (145.0, 156.87089996937203, 11.870899969372033),\n",
       " (92.5, 106.93760540743797, 14.437605407437971),\n",
       " (25.0, 37.35628168791828, 12.356281687918283),\n",
       " (45.0, 54.16228093701926, 9.162280937019261),\n",
       " (107.5, 104.86885561142302, 2.6311443885769847),\n",
       " (182.5, 175.59636632468937, 6.90363367531063),\n",
       " (80.0, 84.4228650751217, 4.422865075121706),\n",
       " (65.0, 66.49622424235575, 1.4962242423557512),\n",
       " (102.5, 111.63668594608595, 9.136685946085947),\n",
       " (54.43, 54.01012132996601, 0.41987867003398804),\n",
       " (99.79, 109.65195742010759, 9.861957420107586),\n",
       " (140.0, 120.36624205054272, 19.633757949457276),\n",
       " (147.42, 129.67559435237257, 17.744405647627417),\n",
       " (142.5, 117.14792767021251, 25.35207232978749),\n",
       " (60.0, 57.21917752850442, 2.7808224714955827),\n",
       " (80.0, 74.2392562259015, 5.760743774098501),\n",
       " (65.0, 55.65662982542361, 9.343370174576393),\n",
       " (52.5, 56.721474542417425, 4.221474542417425),\n",
       " (112.5, 114.6284244678051, 2.128424467805104),\n",
       " (140.0, 134.1977410530826, 5.802258946917391),\n",
       " (52.5, 59.94096129312854, 7.440961293128538),\n",
       " (65.0, 64.0510096617163, 0.948990338283707),\n",
       " (167.5, 155.483179099871, 12.016820900129005),\n",
       " (125.0, 118.30988556018117, 6.690114439818828),\n",
       " (182.5, 160.87366965217956, 21.626330347820442),\n",
       " (182.5, 168.6612202499124, 13.83877975008761),\n",
       " (140.0, 161.9352687219584, 21.93526872195841),\n",
       " (142.5, 146.92363302200107, 4.42363302200107),\n",
       " (210.0, 203.54422528769192, 6.455774712308084),\n",
       " (112.5, 132.2758674528074, 19.775867452807404),\n",
       " (65.0, 56.06798570876286, 8.932014291237138),\n",
       " (95.0, 85.29252117284241, 9.707478827157587),\n",
       " (155.0, 144.31805203843794, 10.68194796156206),\n",
       " (220.0, 236.58732992825537, 16.58732992825537),\n",
       " (60.0, 57.919767066443995, 2.0802329335560046),\n",
       " (160.0, 162.84496956755387, 2.844969567553875),\n",
       " (70.0, 59.38248577819796, 10.61751422180204),\n",
       " (120.0, 115.08481090431772, 4.91518909568228),\n",
       " (120.0, 111.51548348518797, 8.484516514812029),\n",
       " (85.0, 108.92686063736473, 23.926860637364726),\n",
       " (60.0, 54.01522668099476, 5.984773319005242),\n",
       " (87.5, 117.62460068738233, 30.124600687382326),\n",
       " (142.5, 145.95921315931014, 3.4592131593101385),\n",
       " (37.5, 42.22605263336597, 4.726052633365967),\n",
       " (155.0, 133.30515315779897, 21.69484684220103),\n",
       " (50.0, 48.81304580904033, 1.1869541909596677),\n",
       " (157.5, 167.60638747232537, 10.106387472325366),\n",
       " (140.0, 158.15168312943177, 18.151683129431774),\n",
       " (145.0, 166.29242546914134, 21.292425469141335),\n",
       " (52.5, 50.89657269509716, 1.6034273049028371),\n",
       " (90.72, 85.61843977249927, 5.101560227500727),\n",
       " (160.0, 222.81066952961498, 62.810669529614984),\n",
       " (177.5, 162.17234718510088, 15.327652814899125),\n",
       " (52.5, 46.584783892414634, 5.9152161075853655),\n",
       " (60.0, 61.824261968268814, 1.8242619682688144),\n",
       " (120.0, 136.79180647167783, 16.79180647167783),\n",
       " (105.0, 109.91763257304208, 4.917632573042084),\n",
       " (200.0, 128.75589255939883, 71.24410744060117),\n",
       " (130.0, 126.78022211511889, 3.219777884881111),\n",
       " (65.0, 66.4254275323834, 1.4254275323833951),\n",
       " (150.0, 124.57021453611016, 25.429785463889843),\n",
       " (52.5, 49.6544344673476, 2.845565532652401),\n",
       " (54.43, 57.62196714225169, 3.1919671422516913),\n",
       " (137.5, 133.43478754455535, 4.065212455444652),\n",
       " (115.0, 108.49547086028294, 6.504529139717064),\n",
       " (230.0, 143.19737086252374, 86.80262913747626),\n",
       " (77.5, 107.06339872846402, 29.563398728464023),\n",
       " (120.0, 133.0567006594739, 13.056700659473904),\n",
       " (52.5, 55.35778098251863, 2.8577809825186336),\n",
       " (125.0, 125.90000868751471, 0.9000086875147133),\n",
       " (55.0, 62.03727031086419, 7.037270310864187),\n",
       " (82.5, 77.5171024826665, 4.982897517333498),\n",
       " (210.0, 197.92709305389204, 12.072906946107963),\n",
       " (150.0, 152.2772659683906, 2.2772659683905943),\n",
       " (160.0, 145.16305120496878, 14.836948795031219),\n",
       " (52.5, 61.68236939802805, 9.182369398028051),\n",
       " (250.0, 238.32251304689657, 11.677486953103426),\n",
       " (130.0, 133.65227095775379, 3.6522709577537853),\n",
       " (100.0, 98.92013160711568, 1.0798683928843218),\n",
       " (135.0, 134.15208322892306, 0.8479167710769389),\n",
       " (115.5, 82.47371602084581, 33.02628397915419),\n",
       " (97.5, 88.06654762757937, 9.433452372420632),\n",
       " (150.0, 131.94356653952687, 18.05643346047313),\n",
       " (185.0, 187.97864421244202, 2.9786442124420205),\n",
       " (30.0, 39.402262903980244, 9.402262903980244),\n",
       " (217.5, 174.47850532236822, 43.02149467763178),\n",
       " (65.77, 73.8024552669294, 8.032455266929404),\n",
       " (122.5, 130.48989252740174, 7.989892527401736),\n",
       " (80.5, 91.77285191913657, 11.27285191913657),\n",
       " (140.0, 127.85935673272168, 12.140643267278321),\n",
       " (112.5, 110.7420255121614, 1.7579744878385952),\n",
       " (125.0, 123.54018088877324, 1.4598191112267642),\n",
       " (205.0, 232.51505066241498, 27.51505066241498),\n",
       " (132.5, 145.90386593672116, 13.40386593672116),\n",
       " (210.0, 236.87325227798382, 26.873252277983823),\n",
       " (142.5, 114.51541781712466, 27.984582182875343),\n",
       " (60.0, 60.42278625528682, 0.4227862552868231),\n",
       " (150.5, 150.50073086493475, 0.0007308649347521623),\n",
       " (175.0, 169.12736662117317, 5.8726333788268335),\n",
       " (52.5, 64.2100461477758, 11.710046147775799),\n",
       " (157.5, 171.44931131998806, 13.949311319988055),\n",
       " (185.0, 217.2956601468145, 32.2956601468145),\n",
       " (117.5, 128.59650644155587, 11.096506441555874),\n",
       " (115.0, 126.61072088523562, 11.610720885235622),\n",
       " (167.5, 152.96065943587323, 14.539340564126775),\n",
       " (155.0, 166.05182766402203, 11.051827664022028),\n",
       " (180.0, 150.0571226459489, 29.94287735405109),\n",
       " (105.0, 112.8025583445928, 7.802558344592796),\n",
       " (83.9, 76.01046558757983, 7.889534412420176),\n",
       " (250.0, 241.594903190325, 8.405096809675001),\n",
       " (137.5, 138.8900070787833, 1.3900070787832988),\n",
       " (190.0, 186.34239736292247, 3.657602637077531),\n",
       " (72.5, 75.61192520261491, 3.1119252026149127),\n",
       " (142.5, 151.26991692461309, 8.769916924613085),\n",
       " (177.5, 196.093408391717, 18.59340839171699),\n",
       " (50.0, 51.01239832902914, 1.0123983290291392),\n",
       " (160.0, 168.52763588775866, 8.527635887758663),\n",
       " (137.5, 148.94673769675194, 11.446737696751939),\n",
       " (107.5, 120.430007297355, 12.930007297355004),\n",
       " (72.5, 55.16211272187098, 17.337887278129017),\n",
       " (45.0, 56.96053265140348, 11.960532651403483),\n",
       " (160.0, 150.97055424402404, 9.029445755975956),\n",
       " (112.5, 158.80847578215764, 46.30847578215764),\n",
       " (75.0, 78.27677644547657, 3.276776445476571),\n",
       " (62.5, 53.00421100647472, 9.49578899352528),\n",
       " (120.0, 112.44584168336404, 7.554158316635963),\n",
       " (175.0, 168.89965337482394, 6.1003466251760585),\n",
       " (140.0, 137.88432899415952, 2.1156710058404826),\n",
       " (217.5, 203.90090320690265, 13.599096793097345),\n",
       " (54.43, 64.52557256541661, 10.09557256541661),\n",
       " (135.0, 140.6121637023935, 5.612163702393502),\n",
       " (82.5, 89.49872199297468, 6.99872199297468),\n",
       " (142.5, 148.13685892172066, 5.636858921720659),\n",
       " (92.5, 107.87808069508169, 15.378080695081692),\n",
       " (120.0, 72.39109656193912, 47.60890343806088),\n",
       " (42.5, 41.441514446464964, 1.0584855535350357),\n",
       " (232.5, 201.44383638771683, 31.05616361228317),\n",
       " (152.5, 147.83272591981108, 4.667274080188918),\n",
       " (220.0, 204.43802122422107, 15.561978775778925),\n",
       " (85.5, 73.9592209648819, 11.540779035118106),\n",
       " (145.0, 155.20996422243527, 10.209964222435275),\n",
       " (107.5, 118.23699351702425, 10.736993517024246),\n",
       " (175.0, 195.3957988700638, 20.3957988700638),\n",
       " (40.0, 45.22068944163351, 5.22068944163351),\n",
       " (155.0, 196.7968234052101, 41.79682340521009),\n",
       " (135.0, 127.67679435826233, 7.3232056417376725),\n",
       " (65.0, 66.10090886914783, 1.1009088691478297),\n",
       " (97.5, 111.74665059642196, 14.246650596421958),\n",
       " (120.2, 110.90832238089263, 9.291677619107375),\n",
       " (219.99, 196.32399526310525, 23.666004736894763),\n",
       " (52.2, 51.86846678453786, 0.3315332154621444),\n",
       " (182.5, 197.69843080739514, 15.198430807395141),\n",
       " (190.0, 164.98206489961802, 25.017935100381976),\n",
       " (90.0, 123.72956042670405, 33.729560426704055),\n",
       " (125.0, 114.22030837717445, 10.779691622825553),\n",
       " (208.65, 160.7321908584585, 47.91780914154151),\n",
       " (220.0, 200.69616240488625, 19.303837595113748),\n",
       " (147.5, 134.58462167675742, 12.915378323242578),\n",
       " (50.0, 48.63160411628138, 1.3683958837186196),\n",
       " (90.0, 78.77683238904929, 11.22316761095071),\n",
       " (207.5, 183.12844281693518, 24.371557183064823),\n",
       " (135.0, 133.3537211461543, 1.6462788538457005),\n",
       " (230.0, 199.53229756225522, 30.467702437744776),\n",
       " (107.5, 101.07561186905998, 6.424388130940017),\n",
       " (117.5, 132.43473254361413, 14.934732543614132),\n",
       " (92.5, 88.17914731766058, 4.320852682339421),\n",
       " (150.0, 152.82717453148166, 2.82717453148166),\n",
       " (38.56, 44.73979431039112, 6.179794310391117),\n",
       " (87.5, 84.73478878968858, 2.7652112103114206),\n",
       " (181.44, 166.3699002415516, 15.070099758448407),\n",
       " (145.0, 121.85576384695895, 23.14423615304105),\n",
       " (160.0, 143.82491866474737, 16.175081335252628),\n",
       " (160.0, 148.31287454345292, 11.68712545654708),\n",
       " (107.5, 108.1201953900426, 0.6201953900425963),\n",
       " (176.9, 137.4971575965539, 39.4028424034461),\n",
       " (197.5, 159.9598102765953, 37.540189723404694),\n",
       " (72.5, 74.46407633950425, 1.9640763395042455),\n",
       " (170.0, 171.81469516296715, 1.8146951629671548),\n",
       " (250.0, 239.54745131907413, 10.452548680925872),\n",
       " (155.0, 165.65124900613483, 10.651249006134833),\n",
       " (137.5, 127.28667484173386, 10.213325158266144),\n",
       " (107.5, 121.08632360833812, 13.58632360833812),\n",
       " (62.5, 67.68138671772823, 5.1813867177282305),\n",
       " (70.0, 72.35013223776006, 2.3501322377600644),\n",
       " (95.0, 117.57767898602653, 22.577678986026527),\n",
       " (57.5, 51.43987372245101, 6.060126277548989),\n",
       " (142.5, 141.22124602806514, 1.2787539719348615),\n",
       " (132.5, 142.9885554277248, 10.488555427724805),\n",
       " (75.0, 64.04416114899833, 10.955838851001673),\n",
       " (120.0, 133.44906568517473, 13.44906568517473),\n",
       " (130.0, 133.48666306289903, 3.4866630628990265),\n",
       " (202.5, 181.88788458845175, 20.612115411548245),\n",
       " (230.0, 235.733051265771, 5.733051265770996),\n",
       " (75.0, 68.21475130052667, 6.785248699473328),\n",
       " (82.5, 62.134167866871124, 20.365832133128876),\n",
       " (165.0, 151.95220264547604, 13.047797354523965),\n",
       " (55.0, 60.67480136634743, 5.674801366347431),\n",
       " (172.5, 168.41896576925856, 4.081034230741437),\n",
       " (115.0, 122.67496825833949, 7.67496825833949),\n",
       " (200.0, 172.44497601859217, 27.555023981407828),\n",
       " (120.0, 119.81188198780438, 0.1881180121956163),\n",
       " (95.0, 117.75478240814242, 22.754782408142418),\n",
       " (95.0, 90.23512977472407, 4.764870225275928),\n",
       " (92.5, 92.56302187385128, 0.06302187385128377),\n",
       " (137.5, 127.67365270311603, 9.826347296883966),\n",
       " (70.0, 75.6262974694057, 5.626297469405699),\n",
       " (95.0, 67.9645954843491, 27.035404515650896),\n",
       " (107.5, 109.66772924006214, 2.167729240062144),\n",
       " (125.0, 104.54578936656506, 20.45421063343494),\n",
       " (85.0, 86.43112635305957, 1.4311263530595681),\n",
       " (157.5, 159.04383949030483, 1.5438394903048334),\n",
       " (63.5, 74.32976814445722, 10.82976814445722),\n",
       " (62.5, 62.18382061379927, 0.31617938620073005),\n",
       " (82.5, 71.82148735016943, 10.678512649830566),\n",
       " (140.0, 133.76607986115184, 6.233920138848163),\n",
       " (142.5, 138.25706834099367, 4.242931659006331),\n",
       " (57.5, 69.85889445630592, 12.358894456305919),\n",
       " (65.0, 73.5092771749452, 8.509277174945197),\n",
       " (130.0, 130.84886126427514, 0.8488612642751434),\n",
       " (95.0, 81.28624955130037, 13.713750448699628),\n",
       " (215.0, 215.16669651673982, 0.1666965167398189),\n",
       " (75.0, 83.03956234147529, 8.039562341475289),\n",
       " (70.0, 68.38210154711297, 1.617898452887033),\n",
       " (200.0, 166.69801752687198, 33.30198247312802),\n",
       " (95.0, 92.24249629988324, 2.7575037001167573),\n",
       " (177.5, 204.5380342801318, 27.038034280131797),\n",
       " (72.5, 78.0079745558194, 5.507974555819402),\n",
       " (97.5, 85.69863103310465, 11.801368966895353),\n",
       " (92.5, 115.39089914867316, 22.890899148673157),\n",
       " (167.5, 153.96167092966462, 13.53832907033538),\n",
       " (155.0, 150.6000271625586, 4.399972837441396),\n",
       " (137.5, 156.4308714117791, 18.930871411779094),\n",
       " (105.0, 139.17285430024117, 34.17285430024117),\n",
       " (90.0, 86.08407814770902, 3.9159218522909782),\n",
       " (92.5, 103.1993964648236, 10.699396464823593),\n",
       " (82.5, 69.08092040615645, 13.419079593843549),\n",
       " (147.5, 136.32548641449657, 11.174513585503433),\n",
       " (55.0, 58.761991915738335, 3.761991915738335),\n",
       " (135.0, 145.90386593672116, 10.90386593672116),\n",
       " (227.5, 190.1288401205352, 37.37115987946481),\n",
       " (42.5, 51.83555750732505, 9.33555750732505),\n",
       " (127.5, 118.34797938641327, 9.152020613586728),\n",
       " (160.0, 217.60496733478772, 57.604967334787716),\n",
       " (117.5, 106.03566103947469, 11.46433896052531),\n",
       " (104.33, 121.69555833712252, 17.365558337122522),\n",
       " (250.0, 135.13050141562476, 114.86949858437524),\n",
       " (67.5, 67.2178727885314, 0.2821272114686053),\n",
       " (50.0, 41.705196963655396, 8.294803036344604),\n",
       " (140.0, 140.0460976533466, 0.04609765334660665),\n",
       " (102.5, 166.62430051803761, 64.12430051803761),\n",
       " (125.0, 132.52291852253506, 7.522918522535065),\n",
       " (200.0, 239.79829783039665, 39.79829783039665),\n",
       " (90.0, 109.3455011565693, 19.3455011565693),\n",
       " (150.0, 168.70333674591058, 18.703336745910576),\n",
       " (147.5, 138.1409348606797, 9.359065139320307),\n",
       " (152.5, 154.63232983074727, 2.132329830747267),\n",
       " (195.0, 165.16166836476907, 29.83833163523093),\n",
       " (107.5, 116.05956589161407, 8.55956589161407),\n",
       " (160.0, 140.5889005030603, 19.4110994969397),\n",
       " (145.0, 146.07644034199427, 1.076440341994271),\n",
       " (52.5, 59.028358564085394, 6.528358564085394),\n",
       " (117.5, 136.7677016341192, 19.26770163411919),\n",
       " (80.0, 121.25980264198262, 41.25980264198262),\n",
       " (42.5, 50.35440792655311, 7.854407926553108),\n",
       " (75.0, 64.95064635081317, 10.049353649186827),\n",
       " (177.5, 176.18757160927345, 1.3124283907265522),\n",
       " (55.0, 56.841001042612376, 1.8410010426123762),\n",
       " (100.0, 108.50487457218723, 8.504874572187234),\n",
       " (232.5, 234.66335658952147, 2.16335658952147),\n",
       " (155.0, 134.11765243570363, 20.882347564296367),\n",
       " (170.0, 141.33297815068545, 28.66702184931455),\n",
       " (120.0, 117.49252257501092, 2.5074774249890766),\n",
       " (55.0, 53.59449483397101, 1.4055051660289877),\n",
       " (110.0, 129.73546678865893, 19.735466788658925),\n",
       " (151.95, 154.46221991422564, 2.5122199142256534),\n",
       " (130.0, 135.66734992177024, 5.6673499217702386),\n",
       " (115.0, 112.22146149564917, 2.778538504350834),\n",
       " (170.0, 148.88148082517108, 21.11851917482892),\n",
       " (197.5, 166.77927449540982, 30.720725504590177),\n",
       " (87.5, 92.1311691881688, 4.631169188168798),\n",
       " (130.0, 144.1359846201795, 14.1359846201795),\n",
       " (160.0, 145.23025497167603, 14.769745028323968),\n",
       " (207.5, 208.78800057499134, 1.2880005749913437),\n",
       " (75.0, 81.36017557886684, 6.360175578866844),\n",
       " (170.0, 183.77466093866354, 13.774660938663544),\n",
       " (110.0, 138.97891305909397, 28.97891305909397),\n",
       " (85.0, 90.97109656492495, 5.971096564924949),\n",
       " (50.0, 49.70840728052249, 0.29159271947750653),\n",
       " (97.5, 109.0539456059026, 11.553945605902598),\n",
       " (65.0, 72.3599579369308, 7.3599579369307975),\n",
       " (165.0, 146.6237710080976, 18.376228991902394),\n",
       " (222.26, 203.89271247393611, 18.367287526063876),\n",
       " (105.0, 78.70043593788627, 26.29956406211373),\n",
       " (132.5, 121.83234453419304, 10.66765546580696),\n",
       " (110.0, 122.47773997667703, 12.477739976677029),\n",
       " (47.5, 53.772491035104196, 6.272491035104196),\n",
       " (120.0, 132.59378067665693, 12.593780676656934),\n",
       " (90.0, 98.32140797592714, 8.321407975927144),\n",
       " (110.0, 105.21725947138111, 4.782740528618888),\n",
       " (140.0, 135.24480095682287, 4.755199043177129),\n",
       " (62.5, 64.11138418049529, 1.6113841804952926),\n",
       " (175.0, 183.4971172124427, 8.497117212442703),\n",
       " (120.0, 118.64099060917769, 1.3590093908223082),\n",
       " (200.0, 197.81851169370202, 2.181488306297979),\n",
       " (154.22, 173.79094728093742, 19.570947280937418),\n",
       " (140.0, 156.35927751568684, 16.35927751568684),\n",
       " (65.0, 74.50256056776031, 9.502560567760312),\n",
       " (40.0, 57.13250367234261, 17.132503672342608),\n",
       " (152.5, 173.69709144466333, 21.19709144466333),\n",
       " (47.5, 60.083300262676545, 12.583300262676545),\n",
       " (52.5, 60.326110045040394, 7.826110045040394),\n",
       " (70.0, 71.96462531508365, 1.9646253150836515),\n",
       " (135.0, 135.85798931056814, 0.8579893105681435),\n",
       " (125.0, 130.1105272568759, 5.110527256875912),\n",
       " (70.0, 66.8719466282713, 3.128053371728697),\n",
       " (62.5, 65.99337603360001, 3.493376033600015),\n",
       " (152.5, 129.8256606565023, 22.674339343497707),\n",
       " (172.5, 141.95045562694304, 30.54954437305696),\n",
       " (120.0, 113.78957151151228, 6.210428488487722),\n",
       " (110.0, 106.36642230850333, 3.6335776914966686),\n",
       " (160.0, 150.73181869885582, 9.268181301144182),\n",
       " (90.0, 103.50387076072055, 13.503870760720545),\n",
       " (132.5, 126.75847488681934, 5.741525113180657),\n",
       " (67.5, 57.23133773446071, 10.268662265539291),\n",
       " (160.0, 144.8520914699385, 15.1479085300615),\n",
       " (82.5, 89.33517016498253, 6.835170164982529),\n",
       " (55.0, 51.695749195989464, 3.304250804010536),\n",
       " (162.5, 154.03293484863912, 8.467065151360885),\n",
       " (82.5, 95.50452767421757, 13.00452767421757),\n",
       " (60.0, 76.46441722170238, 16.464417221702377),\n",
       " (47.5, 49.190246947397114, 1.6902469473971138),\n",
       " (195.0, 190.40397601087886, 4.596023989121136),\n",
       " (107.5, 112.56506341296244, 5.065063412962445),\n",
       " (125.0, 133.3510927248817, 8.35109272488171),\n",
       " (77.11, 101.77382307937128, 24.663823079371284),\n",
       " (240.0, 222.74382553066027, 17.256174469339726),\n",
       " (42.5, 60.129176470567955, 17.629176470567955),\n",
       " (100.0, 105.14604465826439, 5.146044658264387),\n",
       " (55.0, 58.92974812940779, 3.929748129407791),\n",
       " (80.0, 82.43536096852245, 2.4353609685224455),\n",
       " (158.76, 154.02903842988948, 4.730961570110509),\n",
       " (182.5, 181.5051199168902, 0.9948800831097913),\n",
       " (92.5, 109.22906135317236, 16.729061353172355),\n",
       " (52.5, 55.69157087856384, 3.1915708785638373),\n",
       " (82.5, 71.81790762605584, 10.682092373944158),\n",
       " (47.5, 49.87254168864533, 2.3725416886453274),\n",
       " (47.5, 57.95661051187288, 10.456610511872881),\n",
       " (40.0, 48.300308305306416, 8.300308305306416),\n",
       " (115.0, 118.31962737859662, 3.3196273785966213),\n",
       " (145.0, 144.0214209350382, 0.9785790649617923),\n",
       " (55.0, 60.36810536280954, 5.368105362809537),\n",
       " (102.5, 133.41940069463442, 30.91940069463442),\n",
       " (137.5, 146.18489755343015, 8.684897553430147),\n",
       " (57.5, 71.38050317311902, 13.880503173119024),\n",
       " (72.5, 67.03997363005176, 5.460026369948238),\n",
       " (115.0, 109.87510729126282, 5.124892708737178),\n",
       " (122.5, 131.79623169485325, 9.296231694853248),\n",
       " (75.0, 79.12930946242105, 4.129309462421048),\n",
       " (125.0, 124.49382143478772, 0.5061785652122808),\n",
       " (62.5, 55.394885822807396, 7.105114177192604),\n",
       " (90.0, 109.57485201098943, 19.57485201098943),\n",
       " (175.0, 181.98803421184493, 6.9880342118449335),\n",
       " (135.0, 119.39667869842917, 15.60332130157083),\n",
       " (110.0, 110.88632312945518, 0.8863231294551781),\n",
       " (132.5, 127.22814222993782, 5.271857770062184),\n",
       " (137.5, 153.96509303475352, 16.465093034753522),\n",
       " (127.5, 179.99740977392798, 52.497409773927984),\n",
       " (250.0, 239.11786746721577, 10.882132532784226),\n",
       " (142.5, 109.09637044199678, 33.40362955800322),\n",
       " (132.5, 144.43270212466507, 11.93270212466507),\n",
       " (130.0, 122.04428891463672, 7.955711085363276),\n",
       " (138.35, 134.0123344143363, 4.3376655856637),\n",
       " (110.0, 115.86930738245621, 5.869307382456213),\n",
       " (137.5, 147.98001945735538, 10.480019457355382),\n",
       " (47.5, 52.26210777630341, 4.762107776303409),\n",
       " (70.0, 65.34309209277858, 4.656907907221424),\n",
       " (35.0, 45.30820822414029, 10.308208224140287),\n",
       " (154.22, 146.80803446902448, 7.411965530975522),\n",
       " (120.0, 121.8076017867689, 1.807601786768899),\n",
       " (90.0, 85.57267577662122, 4.4273242233787755),\n",
       " (50.0, 58.12842407883055, 8.128424078830548),\n",
       " (82.5, 75.57096986114122, 6.929030138858778),\n",
       " (150.0, 138.60804283636, 11.39195716364),\n",
       " (110.0, 114.36808679940745, 4.36808679940745),\n",
       " (115.0, 122.67630284734058, 7.67630284734058),\n",
       " (57.5, 56.76553814591291, 0.7344618540870869),\n",
       " (115.0, 124.21391317104354, 9.213913171043544),\n",
       " (250.0, 242.77318518409018, 7.226814815909819),\n",
       " (125.0, 114.30230152723927, 10.697698472760734),\n",
       " (102.5, 152.28998556848632, 49.789985568486316),\n",
       " (180.0, 182.95705936840926, 2.9570593684092614),\n",
       " (200.0, 206.14173624962095, 6.141736249620948),\n",
       " (60.0, 57.60083739558098, 2.3991626044190184),\n",
       " (130.0, 126.89829997156089, 3.1017000284391116),\n",
       " (167.5, 203.28059965760016, 35.78059965760016),\n",
       " (122.5, 140.46605828209795, 17.966058282097947),\n",
       " (167.5, 189.159172365097, 21.659172365096993),\n",
       " (55.0, 60.86659358248973, 5.8665935824897275),\n",
       " (250.0, 236.75035996363357, 13.24964003636643),\n",
       " (137.5, 127.56276993008983, 9.937230069910171),\n",
       " (42.5, 39.24535220897499, 3.2546477910250076),\n",
       " (72.5, 81.72462880031458, 9.224628800314576),\n",
       " (155.0, 166.5781207903653, 11.57812079036529),\n",
       " (85.0, 70.281462519137, 14.718537480863006),\n",
       " (165.0, 139.39488721532632, 25.60511278467368),\n",
       " (135.0, 114.16315231568777, 20.836847684312232),\n",
       " (70.0, 62.98843683096201, 7.011563169037991),\n",
       " (192.5, 171.34510056421982, 21.15489943578018),\n",
       " (232.5, 211.29233884103826, 21.20766115896174),\n",
       " (77.5, 69.95719712853138, 7.5428028714686235),\n",
       " (182.5, 175.59328874329765, 6.906711256702351),\n",
       " (157.5, 151.7501025603444, 5.749897439655598),\n",
       " (42.5, 56.72239736973451, 14.222397369734509),\n",
       " (72.5, 93.2239303934459, 20.723930393445897),\n",
       " (142.88, 172.3147080202079, 29.434708020207893),\n",
       " (117.5, 125.47857989188878, 7.978579891888785),\n",
       " (115.0, 111.68820329928985, 3.311796700710147),\n",
       " (130.0, 133.44114732336527, 3.4411473233652714),\n",
       " (117.5, 124.15745521692294, 6.657455216922941),\n",
       " (170.0, 176.770289718023, 6.770289718023008),\n",
       " (172.5, 157.49441644401386, 15.005583555986135),\n",
       " (87.5, 103.48716109983042, 15.987161099830416),\n",
       " (180.0, 185.09053723295858, 5.090537232958582),\n",
       " (52.5, 49.2283463090554, 3.2716536909446035),\n",
       " (164.43, 178.61794548528744, 14.187945485287429),\n",
       " (125.0, 149.0380287200183, 24.038028720018303),\n",
       " (70.0, 57.151561202981554, 12.848438797018446),\n",
       " (57.5, 61.47755300277166, 3.977553002771657),\n",
       " (55.0, 54.01027322906968, 0.9897267709303179),\n",
       " (50.0, 56.919636982203826, 6.919636982203826),\n",
       " (50.0, 54.066237282763765, 4.066237282763765),\n",
       " (70.0, 65.15233152582371, 4.847668474176288),\n",
       " (219.99, 241.35669246841775, 21.36669246841774),\n",
       " (125.0, 121.13223838575753, 3.8677616142424682),\n",
       " (152.5, 147.02788950624642, 5.472110493753576),\n",
       " (117.5, 120.55910100048703, 3.0591010004870327),\n",
       " (90.0, 80.50119243099368, 9.498807569006317),\n",
       " (172.37, 164.56246782392412, 7.807532176075881),\n",
       " (100.0, 103.32108653853142, 3.321086538531418),\n",
       " (67.5, 70.6390175784976, 3.139017578497601),\n",
       " (138.0, 120.43847911407937, 17.56152088592063),\n",
       " (125.0, 119.65437862739446, 5.345621372605535),\n",
       " (57.5, 68.61827397561916, 11.11827397561916),\n",
       " (165.0, 157.14785997080935, 7.85214002919065),\n",
       " (70.0, 82.887542538617, 12.887542538616998),\n",
       " (137.5, 133.02605883178364, 4.473941168216356),\n",
       " (90.0, 111.11965931949406, 21.119659319494062),\n",
       " (110.0, 122.36460920303894, 12.364609203038938),\n",
       " (47.5, 50.470247964624036, 2.9702479646240363),\n",
       " (167.5, 141.57189232267922, 25.92810767732078),\n",
       " (182.5, 152.43799885036438, 30.06200114963562),\n",
       " (182.5, 165.17037289914617, 17.329627100853827),\n",
       " (105.0, 122.50563591566298, 17.505635915662978),\n",
       " (50.0, 53.74184688020787, 3.7418468802078735),\n",
       " (120.0, 118.11734281104528, 1.882657188954724),\n",
       " (165.0, 134.0482496762657, 30.951750323734302),\n",
       " (160.0, 169.52648794530595, 9.526487945305945),\n",
       " (52.5, 54.68981335047212, 2.1898133504721216),\n",
       " (82.5, 75.92762626335917, 6.572373736640827),\n",
       " (85.0, 91.8043339969837, 6.804333996983701),\n",
       " (222.5, 216.83012667354666, 5.669873326453342),\n",
       " (72.5, 75.86322758988621, 3.3632275898862076),\n",
       " (197.5, 206.58384093784198, 9.083840937841984),\n",
       " (112.5, 87.629080177482, 24.870919822518005),\n",
       " (122.5, 141.01631624090564, 18.51631624090564),\n",
       " (102.5, 115.22442630024388, 12.724426300243877),\n",
       " (65.0, 66.3431002499681, 1.3431002499681028),\n",
       " (82.5, 69.71651326369754, 12.783486736302464),\n",
       " (37.5, 38.72235846614889, 1.22235846614889),\n",
       " (65.0, 75.11114201474221, 10.111142014742214),\n",
       " (132.5, 139.74449599564565, 7.24449599564565),\n",
       " (132.5, 100.91547771523005, 31.584522284769946),\n",
       " (182.5, 151.44132425536569, 31.058675744634314),\n",
       " (155.0, 205.28369496190263, 50.283694961902626),\n",
       " (250.0, 246.94733904458477, 3.0526609554152344),\n",
       " (60.0, 56.25199959564126, 3.7480004043587414),\n",
       " (80.0, 74.01921106216165, 5.980788937838355),\n",
       " (92.5, 66.53055339872336, 25.969446601276644),\n",
       " (72.5, 69.17168614946547, 3.3283138505345278),\n",
       " (65.0, 62.89942452834237, 2.1005754716576277),\n",
       " (65.0, 66.34730563420122, 1.34730563420122),\n",
       " (82.5, 63.161075764049684, 19.338924235950316),\n",
       " (47.5, 53.379182506289084, 5.879182506289084),\n",
       " (77.5, 79.60911998564315, 2.1091199856431473),\n",
       " (112.5, 102.4905549231497, 10.009445076850298),\n",
       " (45.36, 54.817803838737575, 9.457803838737576),\n",
       " (107.5, 88.29433761714562, 19.205662382854385),\n",
       " (65.0, 79.66701043550779, 14.667010435507791),\n",
       " (52.5, 49.84894017414712, 2.651059825852883),\n",
       " (142.5, 128.33361640024958, 14.166383599750418),\n",
       " (72.5, 66.11951602298264, 6.380483977017363),\n",
       " (105.0, 105.63168778362086, 0.6316877836208619),\n",
       " (197.5, 211.87573091796747, 14.375730917967473),\n",
       " (100.0, 91.46266331547216, 8.537336684527844),\n",
       " (122.5, 133.7106295075443, 11.210629507544297),\n",
       " (167.5, 106.92125106948785, 60.57874893051215),\n",
       " (205.0, 187.442577288969, 17.557422711030995),\n",
       " (162.5, 156.23790159814297, 6.262098401857031),\n",
       " (110.0, 108.38285213828152, 1.617147861718479),\n",
       " (142.5, 139.32944316577723, 3.170556834222765),\n",
       " (162.5, 156.7593091402531, 5.7406908597469055),\n",
       " (95.0, 108.1035763120791, 13.103576312079099),\n",
       " (82.5, 85.55941118675577, 3.059411186755767),\n",
       " (165.0, 167.24550464864936, 2.2455046486493586),\n",
       " (175.0, 151.2737634328313, 23.726236567168712),\n",
       " (235.0, 236.46847761834863, 1.4684776183486292),\n",
       " (160.0, 149.9986952771393, 10.00130472286071),\n",
       " (210.0, 224.5288881769165, 14.528888176916496),\n",
       " (100.0, 124.85462685629344, 24.854626856293436),\n",
       " (172.5, 163.9250151088409, 8.57498489115909),\n",
       " (62.5, 64.81745108250865, 2.3174510825086543),\n",
       " (65.0, 61.585405298578394, 3.4145947014216063),\n",
       " (142.5, 141.701907790268, 0.7980922097320047),\n",
       " (140.0, 142.29874067239626, 2.2987406723962636),\n",
       " (62.5, 60.06455434621856, 2.435445653781443),\n",
       " (82.5, 80.096819920646, 2.4031800793540015),\n",
       " (124.74, 127.13946241627096, 2.399462416270964),\n",
       " (165.0, 167.26857063283927, 2.268570632839271),\n",
       " (42.5, 54.44951047647423, 11.94951047647423),\n",
       " (105.0, 89.98507321015211, 15.014926789847891),\n",
       " (152.5, 147.7138653869178, 4.786134613082197),\n",
       " (87.5, 102.36302856645857, 14.863028566458567),\n",
       " (72.5, 66.74367523137418, 5.7563247686258165),\n",
       " (155.0, 138.15016618330648, 16.84983381669352),\n",
       " (115.0, 122.40107382304377, 7.401073823043774),\n",
       " (180.0, 196.89590102344042, 16.895901023440416),\n",
       " (62.5, 60.582202746388965, 1.9177972536110346),\n",
       " (110.0, 129.63617517713018, 19.636175177130184),\n",
       " (52.5, 62.15470584527279, 9.654705845272787),\n",
       " (42.5, 57.61844850356253, 15.118448503562533),\n",
       " (50.0, 49.783474702269515, 0.21652529773048457),\n",
       " (200.0, 217.15707806709935, 17.15707806709935),\n",
       " (250.0, 116.0359191790858, 133.9640808209142),\n",
       " (125.0, 118.96196977555209, 6.038030224447908),\n",
       " (100.0, 117.5726132749875, 17.572613274987503),\n",
       " (60.0, 66.32381169600265, 6.32381169600265),\n",
       " (145.0, 132.37362818642058, 12.626371813579425),\n",
       " (85.0, 63.659861408849615, 21.340138591150385),\n",
       " (75.0, 78.43978437918989, 3.439784379189888),\n",
       " (160.0, 154.54877701351404, 5.451222986485959),\n",
       " (70.0, 92.07350740612321, 22.073507406123213),\n",
       " (226.8, 204.92172362112126, 21.878276378878752),\n",
       " (180.0, 155.71938064003808, 24.280619359961918),\n",
       " (105.0, 109.40278914383212, 4.402789143832123),\n",
       " (230.0, 179.36897757807338, 50.631022421926616),\n",
       " (32.5, 45.71214845251099, 13.212148452510988),\n",
       " (140.0, 126.63829415057037, 13.361705849429626),\n",
       " (142.5, 164.71508999563628, 22.215089995636276),\n",
       " (135.0, 139.1790696798799, 4.179069679879888),\n",
       " (90.0, 75.11001316549229, 14.88998683450771),\n",
       " (62.5, 68.40409511062772, 5.904095110627722),\n",
       " (100.0, 118.64928565992892, 18.64928565992892),\n",
       " (102.5, 109.37261691302464, 6.872616913024643),\n",
       " (105.0, 96.12720810376598, 8.87279189623402),\n",
       " (47.5, 48.54276283344295, 1.04276283344295),\n",
       " (112.5, 119.07016534895234, 6.570165348952344),\n",
       " (147.5, 163.67307284013933, 16.173072840139326),\n",
       " (62.5, 67.93458348620294, 5.434583486202939),\n",
       " (187.5, 213.04871151105434, 25.548711511054336),\n",
       " (102.5, 119.79529340445329, 17.29529340445329),\n",
       " (142.5, 148.7857830562212, 6.285783056221192),\n",
       " (175.0, 157.12896579656245, 17.871034203437546),\n",
       " (140.0, 161.81913721666402, 21.819137216664018),\n",
       " (102.5, 117.15679784180303, 14.656797841803026),\n",
       " (67.5, 63.631722131934836, 3.8682778680651637),\n",
       " (100.0, 112.72543875522224, 12.725438755222243),\n",
       " (61.23, 50.9432243908345, 10.286775609165495),\n",
       " (180.0, 164.0811350402525, 15.91886495974751),\n",
       " (250.0, 241.30629512507363, 8.693704874926368),\n",
       " (175.0, 206.65606890830782, 31.656068908307816),\n",
       " (67.5, 59.50954821033269, 7.990451789667311),\n",
       " (125.0, 121.64659956606627, 3.3534004339337287),\n",
       " (90.0, 109.70502413610271, 19.705024136102708),\n",
       " (135.0, 160.67137138134757, 25.67137138134757),\n",
       " (205.0, 189.97903468539045, 15.020965314609555),\n",
       " (220.0, 236.51907667834772, 16.519076678347716),\n",
       " (137.5, 137.89997840105508, 0.39997840105507976),\n",
       " (131.54, 144.23607033677186, 12.696070336771868),\n",
       " (157.5, 182.60926292662236, 25.109262926622364),\n",
       " (87.5, 90.46634019173509, 2.9663401917350853),\n",
       " (80.0, 74.24948280451522, 5.750517195484775),\n",
       " (122.5, 141.7536558041368, 19.2536558041368),\n",
       " (182.5, 154.93255373716147, 27.56744626283853),\n",
       " (117.5, 106.16092605801299, 11.33907394198701),\n",
       " (152.5, 180.35891700812468, 27.858917008124678),\n",
       " (137.5, 119.02544628187992, 18.474553718120077),\n",
       " (177.5, 133.43408935124947, 44.06591064875053),\n",
       " (95.0, 79.07969272299324, 15.920307277006756),\n",
       " (156.49, 174.3495140239288, 17.859514023928796),\n",
       " (182.5, 170.1002340199966, 12.399765980003394),\n",
       " (47.5, 45.996772331208035, 1.5032276687919648),\n",
       " (160.0, 162.36783114880086, 2.3678311488008603),\n",
       " (155.0, 127.72266058670417, 27.277339413295834),\n",
       " (106.6, 128.69555271973675, 22.09555271973676),\n",
       " (25.0, 32.15951914491335, 7.159519144913347),\n",
       " (210.0, 205.56910226278882, 4.430897737211183),\n",
       " (80.0, 77.22899872132353, 2.771001278676465),\n",
       " (45.0, 44.58126830013987, 0.4187316998601318),\n",
       " (132.5, 125.05514467591443, 7.444855324085566),\n",
       " (120.0, 119.74041593313326, 0.2595840668667364),\n",
       " (45.0, 54.77395230872581, 9.77395230872581),\n",
       " (110.0, 108.74346859265415, 1.2565314073458467),\n",
       " (182.5, 141.46528236687462, 41.03471763312538),\n",
       " (130.0, 155.75349762431932, 25.753497624319323),\n",
       " (172.5, 165.41281616897527, 7.087183831024731),\n",
       " (115.0, 120.29164265648464, 5.29164265648464),\n",
       " (130.0, 116.91699238240896, 13.083007617591036),\n",
       " (42.5, 44.687449811914206, 2.187449811914206),\n",
       " (115.0, 103.62815263025819, 11.371847369741815),\n",
       " (120.0, 135.62287049105987, 15.62287049105987),\n",
       " (132.5, 130.28686527567046, 2.213134724329535),\n",
       " (87.5, 72.9081665394876, 14.591833460512404),\n",
       " (107.5, 107.5346776341803, 0.0346776341802979),\n",
       " (67.5, 82.60092968751775, 15.100929687517748),\n",
       " (125.0, 110.99537627696326, 14.004623723036744),\n",
       " (155.0, 122.75508215479579, 32.24491784520421),\n",
       " (60.0, 56.98162184774364, 3.0183781522563606),\n",
       " (32.5, 42.578946905868364, 10.078946905868364),\n",
       " (130.0, 126.97698633984464, 3.0230136601553568),\n",
       " (190.0, 186.33826418133964, 3.661735818660361),\n",
       " (67.5, 62.58746693960968, 4.912533060390317),\n",
       " (67.5, 46.554287761750246, 20.945712238249754),\n",
       " (77.5, 76.6910921254746, 0.8089078745254028),\n",
       " (160.0, 168.03874589282088, 8.038745892820884),\n",
       " (192.5, 164.20333083193526, 28.29666916806474),\n",
       " (140.0, 143.01786035130291, 3.0178603513029145),\n",
       " (35.0, 48.24212913964644, 13.242129139646437),\n",
       " (107.5, 117.93528831518458, 10.435288315184579),\n",
       " (95.0, 122.6593267968973, 27.659326796897304),\n",
       " (142.5, 128.22541243056418, 14.274587569435823),\n",
       " (130.0, 112.70508407444406, 17.29491592555594),\n",
       " (72.5, 64.09988004786223, 8.400119952137771),\n",
       " (137.0, 117.76722816904764, 19.23277183095236),\n",
       " (155.0, 146.84402827461537, 8.155971725384632),\n",
       " (52.5, 48.93866128825634, 3.561338711743659),\n",
       " (60.0, 59.4362391622017, 0.5637608377982986),\n",
       " (127.5, 104.36568537066705, 23.13431462933295),\n",
       " (62.5, 68.14653329972822, 5.646533299728219),\n",
       " (165.0, 162.9705096336799, 2.02949036632009),\n",
       " (35.0, 41.74183272116865, 6.741832721168649),\n",
       " (162.5, 119.11552564501136, 43.38447435498864),\n",
       " (75.0, 64.70216313490526, 10.297836865094737),\n",
       " (112.5, 98.24563485509962, 14.254365144900376),\n",
       " (87.5, 77.51571703249036, 9.984282967509643),\n",
       " (50.0, 46.22290916764963, 3.7770908323503676),\n",
       " (107.37, 121.42326332522475, 14.053263325224748),\n",
       " (120.0, 117.88812929758906, 2.1118707024109398),\n",
       " (137.5, 142.82008626188957, 5.320086261889571),\n",
       " (45.0, 51.53357212171427, 6.533572121714272),\n",
       " (165.0, 145.31423018632628, 19.685769813673716),\n",
       " (52.5, 51.938081878772394, 0.5619181212276061),\n",
       " (217.5, 193.0033299622626, 24.496670037737402),\n",
       " (110.0, 123.49069291284165, 13.490692912841652),\n",
       " (165.0, 169.4815459025246, 4.481545902524601),\n",
       " (175.0, 156.7862197206348, 18.21378027936521),\n",
       " (92.5, 99.9486138746547, 7.448613874654697),\n",
       " (92.5, 100.87795786270289, 8.377957862702885),\n",
       " (162.5, 165.73398986530216, 3.2339898653021635),\n",
       " (52.5, 57.75545345313544, 5.255453453135438),\n",
       " (112.5, 129.55462982438908, 17.05462982438908),\n",
       " (177.5, 161.3658865837904, 16.1341134162096),\n",
       " (155.0, 140.20649303398747, 14.79350696601253),\n",
       " (115.0, 133.56029073851357, 18.560290738513572),\n",
       " (92.5, 98.6488166502222, 6.1488166502222015),\n",
       " (150.0, 152.08422676474868, 2.084226764748678),\n",
       " (45.0, 53.262594479352614, 8.262594479352614),\n",
       " (170.0, 150.15626166317412, 19.84373833682588),\n",
       " (154.22, 166.81464108733286, 12.59464108733286),\n",
       " (102.06, 112.81365941252079, 10.75365941252079),\n",
       " (42.5, 48.444332339009264, 5.944332339009264),\n",
       " (102.5, 106.29448496639627, 3.7944849663962685),\n",
       " (65.0, 67.61629751849702, 2.6162975184970207),\n",
       " (130.0, 132.82510781743196, 2.825107817431956),\n",
       " (92.5, 109.79108446930903, 17.291084469309027),\n",
       " (112.5, 121.7118021133129, 9.211802113312899),\n",
       " (165.0, 134.60870030028127, 30.39129969971873),\n",
       " (125.0, 157.76870031222973, 32.768700312229726),\n",
       " (62.5, 68.13308761694682, 5.633087616946824),\n",
       " (165.0, 143.13647264365528, 21.86352735634472),\n",
       " (142.5, 123.10299539717118, 19.397004602828815),\n",
       " (145.0, 153.49333094910344, 8.493330949103438),\n",
       " (127.5, 127.87271425245501, 0.3727142524550118),\n",
       " (110.0, 110.72709338795748, 0.7270933879574812),\n",
       " (72.5, 66.4464053202743, 6.053594679725705),\n",
       " (102.5, 90.82504933075373, 11.674950669246272),\n",
       " (102.5, 103.15815217172407, 0.658152171724069),\n",
       " (55.0, 67.78274697514988, 12.782746975149877),\n",
       " (75.0, 62.918444123921816, 12.081555876078184),\n",
       " (42.5, 46.49747931846848, 3.9974793184684785),\n",
       " (167.5, 157.89055850875292, 9.609441491247082),\n",
       " (72.5, 80.39842436309453, 7.898424363094534),\n",
       " (60.0, 59.32384164072464, 0.6761583592753624),\n",
       " (77.5, 83.97774930133191, 6.477749301331912),\n",
       " (197.5, 176.97186783109356, 20.52813216890644),\n",
       " (185.0, 156.6988411884197, 28.301158811580308),\n",
       " (137.5, 155.87198785920748, 18.37198785920748),\n",
       " (52.5, 58.5812122738776, 6.081212273877597),\n",
       " (172.5, 148.94462848371842, 23.555371516281582),\n",
       " (57.5, 47.09708584346066, 10.402914156539339),\n",
       " (62.5, 113.03445792410024, 50.53445792410024),\n",
       " (75.0, 54.52446258849159, 20.475537411508412),\n",
       " (215.0, 171.60072481622439, 43.399275183775615),\n",
       " (50.0, 44.327057661170386, 5.672942338829614),\n",
       " (155.0, 139.34466976973516, 15.655330230264838),\n",
       " (150.0, 129.51905982556255, 20.48094017443745),\n",
       " (140.0, 147.91791978585616, 7.9179197858561565),\n",
       " (142.5, 141.85623804796836, 0.6437619520316389),\n",
       " (67.5, 68.85830959756436, 1.3583095975643573),\n",
       " (80.0, 104.60008584360149, 24.60008584360149),\n",
       " (42.5, 51.60101207005795, 9.101012070057948),\n",
       " (150.0, 148.06927992636852, 1.930720073631477),\n",
       " (190.0, 181.33294798252552, 8.667052017474475),\n",
       " (62.5, 79.6395148024539, 17.139514802453903),\n",
       " (157.5, 150.72220095510664, 6.7777990448933565),\n",
       " (47.5, 50.75884750911199, 3.2588475091119875),\n",
       " (157.5, 135.2175937479451, 22.282406252054898),\n",
       " (205.0, 202.01967849511965, 2.980321504880351),\n",
       " (80.0, 71.65030979575943, 8.349690204240574),\n",
       " (40.0, 45.80774022774477, 5.807740227744773),\n",
       " (47.5, 52.363238934829525, 4.863238934829525),\n",
       " (145.0, 162.53950994006695, 17.53950994006695),\n",
       " (140.0, 127.10863507426514, 12.891364925734862),\n",
       " (162.5, 163.77106306164328, 1.2710630616432752),\n",
       " (129.3, 124.33331056336735, 4.966689436632663),\n",
       " (65.0, 79.11849695437098, 14.118496954370983),\n",
       " (122.5, 133.96805684561315, 11.468056845613148),\n",
       " (122.5, 132.36014252731076, 9.860142527310757),\n",
       " (122.5, 95.15751319909438, 27.34248680090562),\n",
       " (155.0, 138.22514935129362, 16.774850648706376),\n",
       " (152.5, 153.9381979662866, 1.4381979662865945),\n",
       " (157.5, 138.2470445858916, 19.252955414108413),\n",
       " (132.5, 148.0723858537421, 15.572385853742105),\n",
       " (75.0, 69.91345677541595, 5.086543224584048),\n",
       " (47.5, 51.39656658650512, 3.8965665865051164),\n",
       " (135.0, 122.91809509027843, 12.081904909721572),\n",
       " (115.0, 132.41243480411202, 17.412434804112024),\n",
       " (145.0, 141.34975493650944, 3.6502450634905586),\n",
       " (77.5, 91.11725335044554, 13.617253350445537),\n",
       " (152.5, 156.75805702539955, 4.258057025399552),\n",
       " (147.5, 148.61278103385925, 1.1127810338592496),\n",
       " (125.0, 129.21775287101894, 4.217752871018945),\n",
       " (160.0, 176.6361874799781, 16.636187479978105),\n",
       " (142.5, 133.05695254686105, 9.443047453138945),\n",
       " (152.5, 146.0210268263184, 6.478973173681595),\n",
       " (40.0, 50.563881685693076, 10.563881685693076),\n",
       " (50.0, 42.81721047186154, 7.182789528138457),\n",
       " (54.43, 58.90946099742963, 4.4794609974296336),\n",
       " (207.5, 176.99223977215703, 30.507760227842965),\n",
       " (165.0, 127.12223938821711, 37.87776061178289),\n",
       " (230.0, 166.50145298559676, 63.49854701440324),\n",
       " (80.0, 114.44833974157822, 34.44833974157822),\n",
       " (162.5, 189.13244610249325, 26.632446102493248),\n",
       " (97.5, 87.27768749711866, 10.222312502881337),\n",
       " (50.0, 63.841554125159156, 13.841554125159156),\n",
       " (82.5, 87.60545005533152, 5.1054500553315165),\n",
       " (197.5, 176.7736441664586, 20.72635583354139),\n",
       " (100.0, 103.23155687414652, 3.23155687414652),\n",
       " (42.5, 46.0889989329892, 3.588998932989199),\n",
       " (55.0, 65.10152759816395, 10.101527598163955),\n",
       " (182.5, 207.81449262462667, 25.314492624626666),\n",
       " (125.0, 130.05503097934422, 5.055030979344224),\n",
       " (135.0, 160.6273853998169, 25.627385399816887),\n",
       " (52.5, 70.91388387053723, 18.413883870537234),\n",
       " (172.5, 171.36781019643473, 1.132189803565268),\n",
       " (137.5, 125.21094475940721, 12.289055240592788),\n",
       " (129.27, 127.61759913914821, 1.6524008608517988),\n",
       " (122.5, 114.44566121131473, 8.054338788685271),\n",
       " (55.0, 50.24089019811234, 4.759109801887661),\n",
       " (90.0, 105.4246253512156, 15.424625351215596),\n",
       " (135.0, 96.52730503420136, 38.47269496579864),\n",
       " (100.0, 122.33191229608362, 22.331912296083615),\n",
       " (210.5, 146.13482822263347, 64.36517177736653),\n",
       " (125.0, 124.38427153459618, 0.6157284654038193),\n",
       " (117.5, 114.42302371012741, 3.07697628987259),\n",
       " (82.5, 63.850763737105254, 18.649236262894746),\n",
       " (147.5, 144.56017180474797, 2.9398281952520335),\n",
       " (72.5, 80.16883150096774, 7.668831500967741),\n",
       " (250.0, 240.41247007449465, 9.58752992550535),\n",
       " (82.5, 83.8468708706731, 1.3468708706731007),\n",
       " (147.5, 137.41709147733644, 10.082908522663558),\n",
       " (124.7, 143.57834320990656, 18.87834320990656),\n",
       " (75.0, 76.17878571963197, 1.1787857196319749),\n",
       " (122.5, 125.01800563983144, 2.5180056398314434),\n",
       " (42.5, 52.62894001305072, 10.128940013050723),\n",
       " (37.5, 42.61211859867771, 5.112118598677711),\n",
       " (75.0, 68.5217402924216, 6.4782597075784025),\n",
       " (185.0, 179.02856463714926, 5.971435362850741),\n",
       " (122.5, 118.76116881915135, 3.738831180848649),\n",
       " (130.0, 127.95723706477511, 2.0427629352248857),\n",
       " (135.0, 176.16160936637098, 41.16160936637098),\n",
       " (35.0, 40.55040100194081, 5.550401001940813),\n",
       " (157.5, 150.34271419137684, 7.157285808623158),\n",
       " (130.0, 137.70720999589815, 7.707209995898154),\n",
       " (37.5, 38.91104204316282, 1.4110420431628228),\n",
       " (163.29, 186.75291392721778, 23.462913927217784),\n",
       " (145.0, 147.5889325948631, 2.5889325948631097),\n",
       " (67.5, 68.99442178762091, 1.494421787620908),\n",
       " (190.0, 187.35133398346622, 2.648666016533781),\n",
       " (52.5, 56.49082699890858, 3.990826998908581),\n",
       " (115.0, 80.06161469631044, 34.93838530368956),\n",
       " (142.5, 154.97614166282094, 12.476141662820936),\n",
       " (160.0, 157.32305733300325, 2.6769426669967515),\n",
       " (230.5, 189.0521513778938, 41.44784862210619),\n",
       " (90.0, 103.33377625964586, 13.333776259645859),\n",
       " (250.0, 238.6127303795418, 11.387269620458198),\n",
       " (160.0, 158.1876981062655, 1.8123018937345137),\n",
       " (87.5, 85.6094569889791, 1.8905430110208954),\n",
       " (137.5, 141.2064139523623, 3.706413952362311),\n",
       " (142.5, 104.7331698343605, 37.766830165639504),\n",
       " (42.5, 49.25159882050461, 6.751598820504611),\n",
       " (65.0, 51.167594333974364, 13.832405666025636),\n",
       " (77.5, 69.25092074616487, 8.249079253835134),\n",
       " (87.5, 102.20770836525594, 14.70770836525594),\n",
       " (147.5, 157.52741187815792, 10.02741187815792),\n",
       " (170.0, 142.5430886596999, 27.45691134030011),\n",
       " (60.0, 47.26939238303308, 12.730607616966921),\n",
       " (32.5, 40.24239385233972, 7.742393852339717),\n",
       " (72.5, 65.87966842158846, 6.6203315784115375),\n",
       " (147.5, 141.86610497805756, 5.633895021942436),\n",
       " (157.5, 131.2338318869003, 26.266168113099695),\n",
       " (112.5, 121.77503620071576, 9.27503620071576),\n",
       " (47.5, 47.48906980136617, 0.010930198633829491),\n",
       " (122.5, 129.00228811848896, 6.502288118488963),\n",
       " (70.0, 83.86271580870888, 13.862715808708884),\n",
       " (55.0, 57.75357558435195, 2.7535755843519496),\n",
       " (129.27, 134.88433478775988, 5.614334787759873),\n",
       " (65.0, 61.77339042634472, 3.2266095736552813),\n",
       " (90.0, 89.82848989218279, 0.17151010781721254),\n",
       " (115.0, 128.1488587564271, 13.148858756427103),\n",
       " (82.5, 80.61235962609912, 1.8876403739008794),\n",
       " (77.5, 75.51980770077816, 1.9801922992218408),\n",
       " (110.0, 112.87897917536215, 2.878979175362147),\n",
       " (42.5, 53.023979613300924, 10.523979613300924),\n",
       " (72.5, 82.49044825418368, 9.990448254183676),\n",
       " (50.0, 55.61459397812908, 5.614593978129079),\n",
       " (35.0, 37.665641526057826, 2.6656415260578257),\n",
       " (120.0, 112.60797503874323, 7.392024961256766),\n",
       " (122.5, 125.3989732382738, 2.898973238273797),\n",
       " (192.5, 235.20863465425992, 42.708634654259924),\n",
       " (250.0, 240.23309496566213, 9.766905034337867),\n",
       " (105.0, 101.10201617556852, 3.8979838244314777),\n",
       " (170.0, 157.75923828216662, 12.24076171783338),\n",
       " (37.5, 40.14251412105388, 2.6425141210538783),\n",
       " (60.0, 48.524346712639314, 11.475653287360686),\n",
       " (122.5, 118.19541956463301, 4.3045804353669865),\n",
       " (145.0, 148.66584139357957, 3.6658413935795693),\n",
       " (190.0, 152.4541590117465, 37.5458409882535),\n",
       " (57.5, 56.734730904192006, 0.7652690958079944),\n",
       " (85.0, 90.37410438346853, 5.374104383468534),\n",
       " (125.0, 110.17332708505543, 14.826672914944567),\n",
       " (125.0, 116.11821539421285, 8.881784605787146),\n",
       " (112.5, 109.91880360968518, 2.5811963903148154),\n",
       " (75.0, 105.10391654736637, 30.103916547366367),\n",
       " (90.0, 91.27308352754613, 1.2730835275461345),\n",
       " (157.5, 154.5883529770448, 2.911647022955208),\n",
       " (60.0, 61.732681407106426, 1.7326814071064263),\n",
       " (97.5, 88.69156059287053, 8.80843940712947),\n",
       " (65.0, 61.51748291106948, 3.4825170889305213),\n",
       " (122.5, 157.2375327946308, 34.737532794630795),\n",
       " (205.0, 155.42985721709772, 49.57014278290228),\n",
       " (140.0, 149.69923455556622, 9.699234555566221),\n",
       " (110.0, 117.05281625669322, 7.0528162566932195),\n",
       " (130.0, 137.05340126204575, 7.053401262045753),\n",
       " (90.0, 92.26368020195089, 2.2636802019508906),\n",
       " (52.5, 71.20920052299796, 18.70920052299796),\n",
       " (62.5, 53.35889496944725, 9.141105030552751),\n",
       " (182.5, 171.33079429139005, 11.169205708609951),\n",
       " (155.0, 151.93828448096806, 3.061715519031935),\n",
       " (105.0, 111.9037134040386, 6.903713404038598),\n",
       " (115.0, 118.4302283902822, 3.4302283902821955),\n",
       " (195.0, 179.8633135006371, 15.136686499362895),\n",
       " (155.0, 145.7407938856403, 9.2592061143597),\n",
       " (125.0, 121.44225065780722, 3.5577493421927784),\n",
       " (42.5, 45.29506033881583, 2.79506033881583),\n",
       " (60.0, 54.06883139811718, 5.931168601882817),\n",
       " (145.0, 128.57401633048826, 16.425983669511737),\n",
       " (105.0, 97.69872221112675, 7.30127778887325),\n",
       " (160.0, 219.89688665914622, 59.89688665914622),\n",
       " (177.5, 188.9108148737975, 11.410814873797506),\n",
       " (137.5, 115.74901755946074, 21.75098244053926),\n",
       " (55.0, 57.834888515241204, 2.8348885152412038),\n",
       " (142.5, 130.38935354548425, 12.110646454515745),\n",
       " (147.5, 141.77826387791646, 5.721736122083541),\n",
       " (250.0, 217.12588733609493, 32.874112663905066),\n",
       " (120.0, 112.78615821046286, 7.213841789537142),\n",
       " (170.1, 161.42033149623146, 8.67966850376854),\n",
       " (124.74, 137.36209356845723, 12.622093568457231),\n",
       " (200.0, 196.43206217425325, 3.5679378257467533),\n",
       " (140.0, 119.59898984037424, 20.401010159625756),\n",
       " (62.5, 62.202388772454334, 0.2976112275456657),\n",
       " (250.0, 240.3053124992428, 9.694687500757198),\n",
       " (70.0, 72.72759562075538, 2.7275956207553804),\n",
       " (42.5, 38.236809760428656, 4.263190239571344),\n",
       " (135.0, 139.65979734045862, 4.659797340458624),\n",
       " (185.0, 183.60266646849738, 1.3973335315026247),\n",
       " (42.5, 65.73621179999148, 23.23621179999148),\n",
       " (110.0, 125.17604517144709, 15.176045171447086),\n",
       " (155.0, 169.6420930893662, 14.642093089366199),\n",
       " (85.0, 103.80513393311008, 18.805133933110085),\n",
       " (110.0, 108.72069276124365, 1.2793072387563456),\n",
       " ...]"
      ]
     },
     "execution_count": 93,
     "metadata": {},
     "output_type": "execute_result"
    }
   ],
   "source": [
    "list(zip(y_test,prediksiyon,np.abs(prediksiyon-y_test)))"
   ]
  },
  {
   "cell_type": "code",
   "execution_count": 94,
   "id": "43667b2b-b517-4aef-9f3f-62ae6d6c5a1f",
   "metadata": {},
   "outputs": [],
   "source": [
    "from sklearn.linear_model import LinearRegression"
   ]
  },
  {
   "cell_type": "code",
   "execution_count": 95,
   "id": "8e981f21-7c15-405c-8d95-b787b6f0dc07",
   "metadata": {},
   "outputs": [
    {
     "data": {
      "text/plain": [
       "0.8684387664084416"
      ]
     },
     "execution_count": 95,
     "metadata": {},
     "output_type": "execute_result"
    }
   ],
   "source": [
    "reg = LinearRegression()\n",
    "pipe = Pipeline([(\"scaler\",StandardScaler()),(\"regressor\",reg)])\n",
    "pipe.fit(X_train,y_train)\n",
    "preeee = pipe.predict(X_test)\n",
    "pipe.score(X_train,y_train)"
   ]
  },
  {
   "cell_type": "code",
   "execution_count": 96,
   "id": "f580665d-ea59-4236-9449-6111eb3ded2c",
   "metadata": {},
   "outputs": [
    {
     "data": {
      "text/plain": [
       "0.8665437180276254"
      ]
     },
     "execution_count": 96,
     "metadata": {},
     "output_type": "execute_result"
    }
   ],
   "source": [
    "r2_score(y_test,preeee)"
   ]
  },
  {
   "cell_type": "code",
   "execution_count": 97,
   "id": "9d278fab-e49d-4933-ae9f-323fd350457f",
   "metadata": {},
   "outputs": [],
   "source": [
    "##### Support Vector Regressor gives %88 R2 score and we believe this is a good model to fit our data.\n",
    "\n",
    "# Now we want to make a Feature Analysis to improve our model."
   ]
  },
  {
   "cell_type": "markdown",
   "id": "41d9df8b-425e-4c80-8836-8581587598e2",
   "metadata": {},
   "source": [
    "## Feature Analysis ##"
   ]
  },
  {
   "cell_type": "code",
   "execution_count": 98,
   "id": "ad55a15f-9b69-49e2-9bb8-ee817c6c5bdd",
   "metadata": {},
   "outputs": [
    {
     "data": {
      "text/html": [
       "<div>\n",
       "<style scoped>\n",
       "    .dataframe tbody tr th:only-of-type {\n",
       "        vertical-align: middle;\n",
       "    }\n",
       "\n",
       "    .dataframe tbody tr th {\n",
       "        vertical-align: top;\n",
       "    }\n",
       "\n",
       "    .dataframe thead th {\n",
       "        text-align: right;\n",
       "    }\n",
       "</style>\n",
       "<table border=\"1\" class=\"dataframe\">\n",
       "  <thead>\n",
       "    <tr style=\"text-align: right;\">\n",
       "      <th></th>\n",
       "      <th>Sex</th>\n",
       "      <th>Equipment</th>\n",
       "      <th>Age</th>\n",
       "      <th>BodyweightKg</th>\n",
       "      <th>BestSquatKg</th>\n",
       "      <th>BestDeadliftKg</th>\n",
       "      <th>BestBenchKg</th>\n",
       "    </tr>\n",
       "  </thead>\n",
       "  <tbody>\n",
       "    <tr>\n",
       "      <th>0</th>\n",
       "      <td>M</td>\n",
       "      <td>Wraps</td>\n",
       "      <td>30</td>\n",
       "      <td>89.81</td>\n",
       "      <td>179.0</td>\n",
       "      <td>192.78</td>\n",
       "      <td>97.52</td>\n",
       "    </tr>\n",
       "    <tr>\n",
       "      <th>1</th>\n",
       "      <td>M</td>\n",
       "      <td>Raw</td>\n",
       "      <td>27</td>\n",
       "      <td>74.95</td>\n",
       "      <td>125.0</td>\n",
       "      <td>165.00</td>\n",
       "      <td>75.00</td>\n",
       "    </tr>\n",
       "    <tr>\n",
       "      <th>2</th>\n",
       "      <td>M</td>\n",
       "      <td>Wraps</td>\n",
       "      <td>30</td>\n",
       "      <td>122.61</td>\n",
       "      <td>290.0</td>\n",
       "      <td>317.50</td>\n",
       "      <td>190.00</td>\n",
       "    </tr>\n",
       "    <tr>\n",
       "      <th>3</th>\n",
       "      <td>M</td>\n",
       "      <td>Raw</td>\n",
       "      <td>20</td>\n",
       "      <td>88.00</td>\n",
       "      <td>187.0</td>\n",
       "      <td>240.00</td>\n",
       "      <td>117.50</td>\n",
       "    </tr>\n",
       "    <tr>\n",
       "      <th>4</th>\n",
       "      <td>M</td>\n",
       "      <td>Wraps</td>\n",
       "      <td>30</td>\n",
       "      <td>122.00</td>\n",
       "      <td>235.0</td>\n",
       "      <td>275.01</td>\n",
       "      <td>145.01</td>\n",
       "    </tr>\n",
       "    <tr>\n",
       "      <th>...</th>\n",
       "      <td>...</td>\n",
       "      <td>...</td>\n",
       "      <td>...</td>\n",
       "      <td>...</td>\n",
       "      <td>...</td>\n",
       "      <td>...</td>\n",
       "      <td>...</td>\n",
       "    </tr>\n",
       "    <tr>\n",
       "      <th>29995</th>\n",
       "      <td>F</td>\n",
       "      <td>Raw</td>\n",
       "      <td>20</td>\n",
       "      <td>65.70</td>\n",
       "      <td>92.0</td>\n",
       "      <td>135.00</td>\n",
       "      <td>55.00</td>\n",
       "    </tr>\n",
       "    <tr>\n",
       "      <th>29996</th>\n",
       "      <td>M</td>\n",
       "      <td>Raw</td>\n",
       "      <td>23</td>\n",
       "      <td>88.85</td>\n",
       "      <td>190.0</td>\n",
       "      <td>230.00</td>\n",
       "      <td>125.00</td>\n",
       "    </tr>\n",
       "    <tr>\n",
       "      <th>29997</th>\n",
       "      <td>M</td>\n",
       "      <td>Ply</td>\n",
       "      <td>43</td>\n",
       "      <td>106.78</td>\n",
       "      <td>206.0</td>\n",
       "      <td>229.06</td>\n",
       "      <td>151.95</td>\n",
       "    </tr>\n",
       "    <tr>\n",
       "      <th>29998</th>\n",
       "      <td>M</td>\n",
       "      <td>Raw</td>\n",
       "      <td>22</td>\n",
       "      <td>82.00</td>\n",
       "      <td>235.0</td>\n",
       "      <td>272.50</td>\n",
       "      <td>135.00</td>\n",
       "    </tr>\n",
       "    <tr>\n",
       "      <th>29999</th>\n",
       "      <td>M</td>\n",
       "      <td>Ply</td>\n",
       "      <td>15</td>\n",
       "      <td>59.42</td>\n",
       "      <td>130.0</td>\n",
       "      <td>140.00</td>\n",
       "      <td>80.00</td>\n",
       "    </tr>\n",
       "  </tbody>\n",
       "</table>\n",
       "<p>30000 rows × 7 columns</p>\n",
       "</div>"
      ],
      "text/plain": [
       "      Sex Equipment  Age  BodyweightKg  BestSquatKg  BestDeadliftKg  \\\n",
       "0       M     Wraps   30         89.81        179.0          192.78   \n",
       "1       M       Raw   27         74.95        125.0          165.00   \n",
       "2       M     Wraps   30        122.61        290.0          317.50   \n",
       "3       M       Raw   20         88.00        187.0          240.00   \n",
       "4       M     Wraps   30        122.00        235.0          275.01   \n",
       "...    ..       ...  ...           ...          ...             ...   \n",
       "29995   F       Raw   20         65.70         92.0          135.00   \n",
       "29996   M       Raw   23         88.85        190.0          230.00   \n",
       "29997   M       Ply   43        106.78        206.0          229.06   \n",
       "29998   M       Raw   22         82.00        235.0          272.50   \n",
       "29999   M       Ply   15         59.42        130.0          140.00   \n",
       "\n",
       "       BestBenchKg  \n",
       "0            97.52  \n",
       "1            75.00  \n",
       "2           190.00  \n",
       "3           117.50  \n",
       "4           145.01  \n",
       "...            ...  \n",
       "29995        55.00  \n",
       "29996       125.00  \n",
       "29997       151.95  \n",
       "29998       135.00  \n",
       "29999        80.00  \n",
       "\n",
       "[30000 rows x 7 columns]"
      ]
     },
     "execution_count": 98,
     "metadata": {},
     "output_type": "execute_result"
    }
   ],
   "source": [
    "df"
   ]
  },
  {
   "cell_type": "code",
   "execution_count": 99,
   "id": "2ee27833-a095-41ff-af01-d1730cd80d74",
   "metadata": {},
   "outputs": [],
   "source": [
    "from sklearn.feature_selection import VarianceThreshold\n",
    "selec = VarianceThreshold(0.2)\n",
    "selec.fit(X_train)\n",
    "X_new_train = selec.transform(X_train)"
   ]
  },
  {
   "cell_type": "code",
   "execution_count": 100,
   "id": "eb3d505f-9ed3-4651-9caa-9b54c4fb2868",
   "metadata": {},
   "outputs": [
    {
     "data": {
      "text/plain": [
       "array([ True,  True,  True,  True,  True,  True, False])"
      ]
     },
     "execution_count": 100,
     "metadata": {},
     "output_type": "execute_result"
    }
   ],
   "source": [
    "selec.get_support()"
   ]
  },
  {
   "cell_type": "code",
   "execution_count": 101,
   "id": "71a7fef9-97d4-41b3-b33a-a5b5e7bbdc06",
   "metadata": {},
   "outputs": [
    {
     "data": {
      "text/html": [
       "<div>\n",
       "<style scoped>\n",
       "    .dataframe tbody tr th:only-of-type {\n",
       "        vertical-align: middle;\n",
       "    }\n",
       "\n",
       "    .dataframe tbody tr th {\n",
       "        vertical-align: top;\n",
       "    }\n",
       "\n",
       "    .dataframe thead th {\n",
       "        text-align: right;\n",
       "    }\n",
       "</style>\n",
       "<table border=\"1\" class=\"dataframe\">\n",
       "  <thead>\n",
       "    <tr style=\"text-align: right;\">\n",
       "      <th></th>\n",
       "      <th>Age</th>\n",
       "      <th>BodyweightKg</th>\n",
       "      <th>BestSquatKg</th>\n",
       "      <th>BestDeadliftKg</th>\n",
       "      <th>Sex_M</th>\n",
       "      <th>Equipment_Raw</th>\n",
       "      <th>Equipment_Wraps</th>\n",
       "    </tr>\n",
       "  </thead>\n",
       "  <tbody>\n",
       "    <tr>\n",
       "      <th>21753</th>\n",
       "      <td>48</td>\n",
       "      <td>106.80</td>\n",
       "      <td>270.0</td>\n",
       "      <td>255.00</td>\n",
       "      <td>1</td>\n",
       "      <td>0</td>\n",
       "      <td>1</td>\n",
       "    </tr>\n",
       "    <tr>\n",
       "      <th>251</th>\n",
       "      <td>39</td>\n",
       "      <td>107.23</td>\n",
       "      <td>225.0</td>\n",
       "      <td>272.00</td>\n",
       "      <td>1</td>\n",
       "      <td>1</td>\n",
       "      <td>0</td>\n",
       "    </tr>\n",
       "    <tr>\n",
       "      <th>22941</th>\n",
       "      <td>20</td>\n",
       "      <td>82.50</td>\n",
       "      <td>158.0</td>\n",
       "      <td>206.38</td>\n",
       "      <td>1</td>\n",
       "      <td>0</td>\n",
       "      <td>1</td>\n",
       "    </tr>\n",
       "    <tr>\n",
       "      <th>618</th>\n",
       "      <td>29</td>\n",
       "      <td>68.00</td>\n",
       "      <td>132.0</td>\n",
       "      <td>130.00</td>\n",
       "      <td>0</td>\n",
       "      <td>1</td>\n",
       "      <td>0</td>\n",
       "    </tr>\n",
       "    <tr>\n",
       "      <th>17090</th>\n",
       "      <td>19</td>\n",
       "      <td>61.98</td>\n",
       "      <td>107.0</td>\n",
       "      <td>120.00</td>\n",
       "      <td>0</td>\n",
       "      <td>1</td>\n",
       "      <td>0</td>\n",
       "    </tr>\n",
       "    <tr>\n",
       "      <th>...</th>\n",
       "      <td>...</td>\n",
       "      <td>...</td>\n",
       "      <td>...</td>\n",
       "      <td>...</td>\n",
       "      <td>...</td>\n",
       "      <td>...</td>\n",
       "      <td>...</td>\n",
       "    </tr>\n",
       "    <tr>\n",
       "      <th>29802</th>\n",
       "      <td>15</td>\n",
       "      <td>67.10</td>\n",
       "      <td>146.0</td>\n",
       "      <td>160.00</td>\n",
       "      <td>1</td>\n",
       "      <td>0</td>\n",
       "      <td>1</td>\n",
       "    </tr>\n",
       "    <tr>\n",
       "      <th>5390</th>\n",
       "      <td>15</td>\n",
       "      <td>66.63</td>\n",
       "      <td>127.0</td>\n",
       "      <td>127.00</td>\n",
       "      <td>0</td>\n",
       "      <td>0</td>\n",
       "      <td>0</td>\n",
       "    </tr>\n",
       "    <tr>\n",
       "      <th>860</th>\n",
       "      <td>30</td>\n",
       "      <td>73.30</td>\n",
       "      <td>150.0</td>\n",
       "      <td>180.00</td>\n",
       "      <td>1</td>\n",
       "      <td>1</td>\n",
       "      <td>0</td>\n",
       "    </tr>\n",
       "    <tr>\n",
       "      <th>15795</th>\n",
       "      <td>25</td>\n",
       "      <td>99.70</td>\n",
       "      <td>202.0</td>\n",
       "      <td>227.50</td>\n",
       "      <td>1</td>\n",
       "      <td>1</td>\n",
       "      <td>0</td>\n",
       "    </tr>\n",
       "    <tr>\n",
       "      <th>23654</th>\n",
       "      <td>17</td>\n",
       "      <td>97.90</td>\n",
       "      <td>195.0</td>\n",
       "      <td>227.50</td>\n",
       "      <td>1</td>\n",
       "      <td>1</td>\n",
       "      <td>0</td>\n",
       "    </tr>\n",
       "  </tbody>\n",
       "</table>\n",
       "<p>24000 rows × 7 columns</p>\n",
       "</div>"
      ],
      "text/plain": [
       "       Age  BodyweightKg  BestSquatKg  BestDeadliftKg  Sex_M  Equipment_Raw  \\\n",
       "21753   48        106.80        270.0          255.00      1              0   \n",
       "251     39        107.23        225.0          272.00      1              1   \n",
       "22941   20         82.50        158.0          206.38      1              0   \n",
       "618     29         68.00        132.0          130.00      0              1   \n",
       "17090   19         61.98        107.0          120.00      0              1   \n",
       "...    ...           ...          ...             ...    ...            ...   \n",
       "29802   15         67.10        146.0          160.00      1              0   \n",
       "5390    15         66.63        127.0          127.00      0              0   \n",
       "860     30         73.30        150.0          180.00      1              1   \n",
       "15795   25         99.70        202.0          227.50      1              1   \n",
       "23654   17         97.90        195.0          227.50      1              1   \n",
       "\n",
       "       Equipment_Wraps  \n",
       "21753                1  \n",
       "251                  0  \n",
       "22941                1  \n",
       "618                  0  \n",
       "17090                0  \n",
       "...                ...  \n",
       "29802                1  \n",
       "5390                 0  \n",
       "860                  0  \n",
       "15795                0  \n",
       "23654                0  \n",
       "\n",
       "[24000 rows x 7 columns]"
      ]
     },
     "execution_count": 101,
     "metadata": {},
     "output_type": "execute_result"
    }
   ],
   "source": [
    "X_train"
   ]
  },
  {
   "cell_type": "code",
   "execution_count": 102,
   "id": "7031f1ed-63ce-457a-a0f9-b9bb5566694a",
   "metadata": {},
   "outputs": [
    {
     "data": {
      "text/plain": [
       "303.08826979604953"
      ]
     },
     "execution_count": 102,
     "metadata": {},
     "output_type": "execute_result"
    }
   ],
   "source": [
    "svr = SVR(C=100,epsilon=10,kernel=\"rbf\")\n",
    "pipe = Pipeline([(\"scaler\",StandardScaler()),(\"regressor\",svr)])\n",
    "csv = cross_val_score(pipe,X_new_train,y_train,cv=5,scoring= \"neg_mean_squared_error\")\n",
    "np.mean(csv*-1)"
   ]
  },
  {
   "cell_type": "code",
   "execution_count": 103,
   "id": "8216679c-3150-400b-83d2-d41dbbaabc47",
   "metadata": {},
   "outputs": [
    {
     "data": {
      "text/html": [
       "<div>\n",
       "<style scoped>\n",
       "    .dataframe tbody tr th:only-of-type {\n",
       "        vertical-align: middle;\n",
       "    }\n",
       "\n",
       "    .dataframe tbody tr th {\n",
       "        vertical-align: top;\n",
       "    }\n",
       "\n",
       "    .dataframe thead th {\n",
       "        text-align: right;\n",
       "    }\n",
       "</style>\n",
       "<table border=\"1\" class=\"dataframe\">\n",
       "  <thead>\n",
       "    <tr style=\"text-align: right;\">\n",
       "      <th></th>\n",
       "      <th>cvMean</th>\n",
       "      <th>cvStd</th>\n",
       "    </tr>\n",
       "  </thead>\n",
       "  <tbody>\n",
       "    <tr>\n",
       "      <th>Ridge</th>\n",
       "      <td>327.384656</td>\n",
       "      <td>11.271437</td>\n",
       "    </tr>\n",
       "    <tr>\n",
       "      <th>SVR</th>\n",
       "      <td>289.872630</td>\n",
       "      <td>0.000000</td>\n",
       "    </tr>\n",
       "    <tr>\n",
       "      <th>VarianceThreshold</th>\n",
       "      <td>303.088270</td>\n",
       "      <td>10.167785</td>\n",
       "    </tr>\n",
       "  </tbody>\n",
       "</table>\n",
       "</div>"
      ],
      "text/plain": [
       "                       cvMean      cvStd\n",
       "Ridge              327.384656  11.271437\n",
       "SVR                289.872630   0.000000\n",
       "VarianceThreshold  303.088270  10.167785"
      ]
     },
     "execution_count": 103,
     "metadata": {},
     "output_type": "execute_result"
    }
   ],
   "source": [
    "df_compare_models.loc[\"VarianceThreshold\"] = (np.mean(csv*-1),np.std(csv*-1))\n",
    "df_compare_models"
   ]
  },
  {
   "cell_type": "code",
   "execution_count": 104,
   "id": "36baa32a-6837-4114-84b8-64b74ded4f00",
   "metadata": {},
   "outputs": [
    {
     "data": {
      "text/plain": [
       "SelectKBest(k='all', score_func=<function f_regression at 0x00000210559EAA60>)"
      ]
     },
     "execution_count": 104,
     "metadata": {},
     "output_type": "execute_result"
    }
   ],
   "source": [
    "from sklearn.feature_selection import SelectKBest,f_regression\n",
    "selec = SelectKBest(f_regression,k=\"all\")\n",
    "selec.fit(X_train,y_train)"
   ]
  },
  {
   "cell_type": "code",
   "execution_count": 105,
   "id": "d25d62f8-11ab-4a1e-af65-40ec65942477",
   "metadata": {},
   "outputs": [
    {
     "data": {
      "text/plain": [
       "BestSquatKg        116439.870717\n",
       "BestDeadliftKg      87879.809955\n",
       "Sex_M               23329.860870\n",
       "BodyweightKg        18654.049073\n",
       "Equipment_Raw        1632.777820\n",
       "Equipment_Wraps       303.029507\n",
       "Age                    34.911916\n",
       "dtype: float64"
      ]
     },
     "execution_count": 105,
     "metadata": {},
     "output_type": "execute_result"
    }
   ],
   "source": [
    "f_values = pd.Series(selec.scores_, index = X.columns)\n",
    "f_values = f_values.sort_values(ascending=False)\n",
    "f_values"
   ]
  },
  {
   "cell_type": "code",
   "execution_count": 804,
   "id": "2d57cc33-8819-4a29-87d9-8303adf94e8b",
   "metadata": {},
   "outputs": [
    {
     "name": "stdout",
     "output_type": "stream",
     "text": [
      "6\n"
     ]
    }
   ],
   "source": [
    "best_r2 = -np.inf\n",
    "for i in range(X_train.shape[1]):\n",
    "    best_cols = list(f_values[:i].index)\n",
    "    X_new_train = X_train[best_cols]\n",
    "    scores = cross_val_score(pipe,X_new_train,y_train,cv=5,scoring = \"neg_mean_squared_error\",n_jobs=-1)\n",
    "    if scores.mean() > best_r2:\n",
    "        best_r2 = scores.mean()\n",
    "        best_i = i\n",
    "print(best_i)"
   ]
  },
  {
   "cell_type": "code",
   "execution_count": 106,
   "id": "a61f0e43-97d1-40f8-a6a3-179167477548",
   "metadata": {},
   "outputs": [
    {
     "data": {
      "text/plain": [
       "['BestSquatKg',\n",
       " 'BestDeadliftKg',\n",
       " 'Sex_M',\n",
       " 'BodyweightKg',\n",
       " 'Equipment_Raw',\n",
       " 'Equipment_Wraps']"
      ]
     },
     "execution_count": 106,
     "metadata": {},
     "output_type": "execute_result"
    }
   ],
   "source": [
    "best_cols = list(f_values[:6].index)\n",
    "best_cols"
   ]
  },
  {
   "cell_type": "code",
   "execution_count": 107,
   "id": "d01a2894-3139-4d98-98d9-f3440921670f",
   "metadata": {},
   "outputs": [],
   "source": [
    "X_new_train = X_train[best_cols]\n",
    "scores = cross_val_score(pipe,X_new_train,y_train,cv=5,scoring = \"neg_mean_squared_error\",n_jobs=-1)\n",
    "df_compare_models.loc[\"Select6Best\"] = (np.mean(scores*-1),np.std(scores*-1))"
   ]
  },
  {
   "cell_type": "code",
   "execution_count": 108,
   "id": "5ebee787-7fea-4470-9e2e-84f7c79e72ea",
   "metadata": {},
   "outputs": [
    {
     "data": {
      "text/html": [
       "<div>\n",
       "<style scoped>\n",
       "    .dataframe tbody tr th:only-of-type {\n",
       "        vertical-align: middle;\n",
       "    }\n",
       "\n",
       "    .dataframe tbody tr th {\n",
       "        vertical-align: top;\n",
       "    }\n",
       "\n",
       "    .dataframe thead th {\n",
       "        text-align: right;\n",
       "    }\n",
       "</style>\n",
       "<table border=\"1\" class=\"dataframe\">\n",
       "  <thead>\n",
       "    <tr style=\"text-align: right;\">\n",
       "      <th></th>\n",
       "      <th>cvMean</th>\n",
       "      <th>cvStd</th>\n",
       "    </tr>\n",
       "  </thead>\n",
       "  <tbody>\n",
       "    <tr>\n",
       "      <th>Ridge</th>\n",
       "      <td>327.384656</td>\n",
       "      <td>11.271437</td>\n",
       "    </tr>\n",
       "    <tr>\n",
       "      <th>SVR</th>\n",
       "      <td>289.872630</td>\n",
       "      <td>0.000000</td>\n",
       "    </tr>\n",
       "    <tr>\n",
       "      <th>VarianceThreshold</th>\n",
       "      <td>303.088270</td>\n",
       "      <td>10.167785</td>\n",
       "    </tr>\n",
       "    <tr>\n",
       "      <th>Select6Best</th>\n",
       "      <td>311.170820</td>\n",
       "      <td>9.236314</td>\n",
       "    </tr>\n",
       "  </tbody>\n",
       "</table>\n",
       "</div>"
      ],
      "text/plain": [
       "                       cvMean      cvStd\n",
       "Ridge              327.384656  11.271437\n",
       "SVR                289.872630   0.000000\n",
       "VarianceThreshold  303.088270  10.167785\n",
       "Select6Best        311.170820   9.236314"
      ]
     },
     "execution_count": 108,
     "metadata": {},
     "output_type": "execute_result"
    }
   ],
   "source": [
    "df_compare_models"
   ]
  },
  {
   "cell_type": "code",
   "execution_count": 111,
   "id": "dc87b757-0df2-4446-a5f5-dc4d53fa5a84",
   "metadata": {},
   "outputs": [],
   "source": [
    "from sklearn.feature_selection import SelectFromModel\n"
   ]
  },
  {
   "cell_type": "code",
   "execution_count": 815,
   "id": "eb8749c5-b28d-46c8-87d6-3093567b8685",
   "metadata": {},
   "outputs": [
    {
     "name": "stdout",
     "output_type": "stream",
     "text": [
      "6\n"
     ]
    }
   ],
   "source": [
    "from sklearn.feature_selection import SelectFromModelc\n",
    "best_r2 = -np.inf\n",
    "\n",
    "for k in range(2, X_train.shape[1]):\n",
    "    selector = SelectFromModel(Ridge(alpha=10), threshold = -np.inf, max_features = k)\n",
    "    selector.fit(X_train,y_train)\n",
    "    X_new_train = selector.transform(X_train)\n",
    "    scores = cross_val_score(svr, X_new_train, y_train, cv = 5, scoring=\"neg_mean_squared_error\")\n",
    "    if scores.mean() > best_r2:\n",
    "        best_r2 = scores.mean()\n",
    "        best_k = k\n",
    "\n",
    "print(best_k)"
   ]
  },
  {
   "cell_type": "code",
   "execution_count": 822,
   "id": "dd9d7438-c6bd-48d4-9aee-25be6b7bea43",
   "metadata": {},
   "outputs": [
    {
     "data": {
      "text/plain": [
       "array([ True,  True,  True, False,  True,  True,  True])"
      ]
     },
     "execution_count": 822,
     "metadata": {},
     "output_type": "execute_result"
    }
   ],
   "source": [
    "selector.get_support()"
   ]
  },
  {
   "cell_type": "code",
   "execution_count": 823,
   "id": "369c8e4f-f1c9-4e37-a9d7-4b6450105fa3",
   "metadata": {},
   "outputs": [
    {
     "data": {
      "text/plain": [
       "Index(['Age', 'BodyweightKg', 'BestSquatKg', 'BestDeadliftKg', 'Sex_M',\n",
       "       'Equipment_Raw', 'Equipment_Wraps'],\n",
       "      dtype='object')"
      ]
     },
     "execution_count": 823,
     "metadata": {},
     "output_type": "execute_result"
    }
   ],
   "source": [
    "X_train.columns"
   ]
  },
  {
   "cell_type": "code",
   "execution_count": 112,
   "id": "0778f012-0d54-4436-9a4a-9f8c421d0689",
   "metadata": {},
   "outputs": [],
   "source": [
    "selector = SelectFromModel(Ridge(alpha=10), threshold = -np.inf, max_features = 6)\n",
    "selector.fit(X_train,y_train)\n",
    "X_new_train = selector.transform(X_train)\n",
    "scores = cross_val_score(svr, X_new_train, y_train, cv = 5, scoring=\"neg_mean_squared_error\")\n",
    "ort,std = scores.mean(),scores.std()"
   ]
  },
  {
   "cell_type": "code",
   "execution_count": 113,
   "id": "8969eb03-39b6-4b39-b084-34f971f3e3d1",
   "metadata": {},
   "outputs": [
    {
     "name": "stdout",
     "output_type": "stream",
     "text": [
      "-355.1113649200089 12.612793665388027\n"
     ]
    }
   ],
   "source": [
    "print(ort,std)"
   ]
  },
  {
   "cell_type": "code",
   "execution_count": 114,
   "id": "50088fa1-9228-419d-a281-29cf9fda5bda",
   "metadata": {},
   "outputs": [
    {
     "data": {
      "text/html": [
       "<div>\n",
       "<style scoped>\n",
       "    .dataframe tbody tr th:only-of-type {\n",
       "        vertical-align: middle;\n",
       "    }\n",
       "\n",
       "    .dataframe tbody tr th {\n",
       "        vertical-align: top;\n",
       "    }\n",
       "\n",
       "    .dataframe thead th {\n",
       "        text-align: right;\n",
       "    }\n",
       "</style>\n",
       "<table border=\"1\" class=\"dataframe\">\n",
       "  <thead>\n",
       "    <tr style=\"text-align: right;\">\n",
       "      <th></th>\n",
       "      <th>cvMean</th>\n",
       "      <th>cvStd</th>\n",
       "    </tr>\n",
       "  </thead>\n",
       "  <tbody>\n",
       "    <tr>\n",
       "      <th>Ridge</th>\n",
       "      <td>327.384656</td>\n",
       "      <td>11.271437</td>\n",
       "    </tr>\n",
       "    <tr>\n",
       "      <th>SVR</th>\n",
       "      <td>289.872630</td>\n",
       "      <td>0.000000</td>\n",
       "    </tr>\n",
       "    <tr>\n",
       "      <th>VarianceThreshold</th>\n",
       "      <td>303.088270</td>\n",
       "      <td>10.167785</td>\n",
       "    </tr>\n",
       "    <tr>\n",
       "      <th>Select6Best</th>\n",
       "      <td>311.170820</td>\n",
       "      <td>9.236314</td>\n",
       "    </tr>\n",
       "    <tr>\n",
       "      <th>SelectFromModel</th>\n",
       "      <td>355.111365</td>\n",
       "      <td>12.612794</td>\n",
       "    </tr>\n",
       "  </tbody>\n",
       "</table>\n",
       "</div>"
      ],
      "text/plain": [
       "                       cvMean      cvStd\n",
       "Ridge              327.384656  11.271437\n",
       "SVR                289.872630   0.000000\n",
       "VarianceThreshold  303.088270  10.167785\n",
       "Select6Best        311.170820   9.236314\n",
       "SelectFromModel    355.111365  12.612794"
      ]
     },
     "execution_count": 114,
     "metadata": {},
     "output_type": "execute_result"
    }
   ],
   "source": [
    "df_compare_models.loc[\"SelectFromModel\"] = (ort*-1,std)\n",
    "df_compare_models"
   ]
  },
  {
   "cell_type": "code",
   "execution_count": 115,
   "id": "197da30f-a0a8-466e-ba1c-b2fbf88f8c64",
   "metadata": {},
   "outputs": [
    {
     "data": {
      "text/plain": [
       "Sex_M              1\n",
       "Equipment_Raw      2\n",
       "Equipment_Wraps    3\n",
       "BestSquatKg        4\n",
       "Age                5\n",
       "BodyweightKg       6\n",
       "BestDeadliftKg     7\n",
       "dtype: int32"
      ]
     },
     "execution_count": 115,
     "metadata": {},
     "output_type": "execute_result"
    }
   ],
   "source": [
    "from sklearn.feature_selection import RFE\n",
    "\n",
    "selector = RFE(Ridge(alpha=10), n_features_to_select=1, step = 1)\n",
    "selector.fit(X_train,y_train)\n",
    "\n",
    "ranks = pd.Series(selector.ranking_, index = X_train.columns)\n",
    "ranks = ranks.sort_values()\n",
    "ranks"
   ]
  },
  {
   "cell_type": "code",
   "execution_count": 833,
   "id": "538fbfc4-590a-4b7d-81c0-eb5d54d25f62",
   "metadata": {},
   "outputs": [
    {
     "name": "stdout",
     "output_type": "stream",
     "text": [
      "6\n"
     ]
    }
   ],
   "source": [
    "best_r2 = -np.inf\n",
    "\n",
    "for k in range(2, X_train.shape[1]):\n",
    "    best_cols = list(ranks[:k].index)\n",
    "    X_new_train = X_train[best_cols]\n",
    "    scores = cross_val_score(svr, X_new_train, y_train, cv = 5)\n",
    "    if scores.mean() > best_r2:\n",
    "        best_r2 = scores.mean()\n",
    "        best_k = k\n",
    "\n",
    "print(best_k)"
   ]
  },
  {
   "cell_type": "code",
   "execution_count": 116,
   "id": "4cf685c0-5403-4b3d-ae5f-83ce2ce3d1f8",
   "metadata": {},
   "outputs": [],
   "source": [
    "## Principal Component Analysis"
   ]
  },
  {
   "cell_type": "code",
   "execution_count": 117,
   "id": "dfc6d473-b8b0-4d82-a2c9-a1bec9ccc8ba",
   "metadata": {},
   "outputs": [],
   "source": [
    "from sklearn.decomposition import PCA"
   ]
  },
  {
   "cell_type": "code",
   "execution_count": 135,
   "id": "c51db295-30be-4f4f-8387-1e41f321b952",
   "metadata": {},
   "outputs": [
    {
     "name": "stdout",
     "output_type": "stream",
     "text": [
      "6\n"
     ]
    }
   ],
   "source": [
    "best_r2 = -np.inf\n",
    "for i in range(2,X_train.shape[1]):\n",
    "    selector = PCA(n_components=i)\n",
    "    selector.fit(X_train)\n",
    "    X_new_train = selector.transform(X_train)\n",
    "    scores = cross_val_score(svr, X_new_train, y_train, cv = 5,scoring=\"neg_mean_squared_error\")\n",
    "    scores = scores.mean()\n",
    "    if scores> best_r2:\n",
    "        best_r2 = scores\n",
    "        best_i=i\n",
    "print(best_i)"
   ]
  },
  {
   "cell_type": "code",
   "execution_count": 136,
   "id": "d811b684-964c-48fc-9bcd-114cbf54e2c9",
   "metadata": {},
   "outputs": [],
   "source": [
    "selector = PCA(n_components=6)\n",
    "selector.fit(X_train)\n",
    "X_new_train = selector.transform(X_train)"
   ]
  },
  {
   "cell_type": "code",
   "execution_count": 137,
   "id": "843b09cb-34b1-4c27-89c0-86ec541761ed",
   "metadata": {},
   "outputs": [],
   "source": [
    "scr = cross_val_score(svr,X_new_train,y_train,cv=5,scoring=\"neg_mean_squared_error\")"
   ]
  },
  {
   "cell_type": "code",
   "execution_count": 138,
   "id": "b52ae0d3-7d5a-4459-9b39-f33922da8268",
   "metadata": {},
   "outputs": [
    {
     "data": {
      "text/plain": [
       "array([-335.61062951, -309.9735742 , -326.71317551, -300.22195951,\n",
       "       -316.76525459])"
      ]
     },
     "execution_count": 138,
     "metadata": {},
     "output_type": "execute_result"
    }
   ],
   "source": [
    "scr"
   ]
  },
  {
   "cell_type": "code",
   "execution_count": 140,
   "id": "11b080e6-2cda-4bee-aca5-0a84921a568d",
   "metadata": {},
   "outputs": [
    {
     "data": {
      "text/plain": [
       "(317.8569186628002, 12.3932091806002)"
      ]
     },
     "execution_count": 140,
     "metadata": {},
     "output_type": "execute_result"
    }
   ],
   "source": [
    "(((scr.mean())*-1),scr.std())"
   ]
  },
  {
   "cell_type": "code",
   "execution_count": 128,
   "id": "ea810c47-fb8c-4208-9162-edccab71cd47",
   "metadata": {},
   "outputs": [
    {
     "data": {
      "text/plain": [
       "7"
      ]
     },
     "execution_count": 128,
     "metadata": {},
     "output_type": "execute_result"
    }
   ],
   "source": [
    "X_train.shape[1]"
   ]
  },
  {
   "cell_type": "code",
   "execution_count": 143,
   "id": "5e070045-5780-43f9-bd89-c7344bf6dec7",
   "metadata": {},
   "outputs": [],
   "source": [
    "df_compare_models.loc[\"PCA\"] =(((scr.mean())*-1),scr.std())\n",
    "df_compare_models.loc[\"SVR\",\"cvStd\"] = np.nan"
   ]
  },
  {
   "cell_type": "code",
   "execution_count": 144,
   "id": "9aec9640-e3f0-48b8-b793-9bc9a2d91c1a",
   "metadata": {},
   "outputs": [
    {
     "data": {
      "text/html": [
       "<div>\n",
       "<style scoped>\n",
       "    .dataframe tbody tr th:only-of-type {\n",
       "        vertical-align: middle;\n",
       "    }\n",
       "\n",
       "    .dataframe tbody tr th {\n",
       "        vertical-align: top;\n",
       "    }\n",
       "\n",
       "    .dataframe thead th {\n",
       "        text-align: right;\n",
       "    }\n",
       "</style>\n",
       "<table border=\"1\" class=\"dataframe\">\n",
       "  <thead>\n",
       "    <tr style=\"text-align: right;\">\n",
       "      <th></th>\n",
       "      <th>cvMean</th>\n",
       "      <th>cvStd</th>\n",
       "    </tr>\n",
       "  </thead>\n",
       "  <tbody>\n",
       "    <tr>\n",
       "      <th>Ridge</th>\n",
       "      <td>327.384656</td>\n",
       "      <td>11.271437</td>\n",
       "    </tr>\n",
       "    <tr>\n",
       "      <th>SVR</th>\n",
       "      <td>289.872630</td>\n",
       "      <td>NaN</td>\n",
       "    </tr>\n",
       "    <tr>\n",
       "      <th>VarianceThreshold</th>\n",
       "      <td>303.088270</td>\n",
       "      <td>10.167785</td>\n",
       "    </tr>\n",
       "    <tr>\n",
       "      <th>Select6Best</th>\n",
       "      <td>311.170820</td>\n",
       "      <td>9.236314</td>\n",
       "    </tr>\n",
       "    <tr>\n",
       "      <th>SelectFromModel</th>\n",
       "      <td>355.111365</td>\n",
       "      <td>12.612794</td>\n",
       "    </tr>\n",
       "    <tr>\n",
       "      <th>PCA</th>\n",
       "      <td>317.856919</td>\n",
       "      <td>12.393209</td>\n",
       "    </tr>\n",
       "  </tbody>\n",
       "</table>\n",
       "</div>"
      ],
      "text/plain": [
       "                       cvMean      cvStd\n",
       "Ridge              327.384656  11.271437\n",
       "SVR                289.872630        NaN\n",
       "VarianceThreshold  303.088270  10.167785\n",
       "Select6Best        311.170820   9.236314\n",
       "SelectFromModel    355.111365  12.612794\n",
       "PCA                317.856919  12.393209"
      ]
     },
     "execution_count": 144,
     "metadata": {},
     "output_type": "execute_result"
    }
   ],
   "source": [
    "df_compare_models"
   ]
  },
  {
   "cell_type": "code",
   "execution_count": 142,
   "id": "16645885-6aea-4608-a47a-18798b42d593",
   "metadata": {},
   "outputs": [
    {
     "data": {
      "text/html": [
       "<div>\n",
       "<style scoped>\n",
       "    .dataframe tbody tr th:only-of-type {\n",
       "        vertical-align: middle;\n",
       "    }\n",
       "\n",
       "    .dataframe tbody tr th {\n",
       "        vertical-align: top;\n",
       "    }\n",
       "\n",
       "    .dataframe thead th {\n",
       "        text-align: right;\n",
       "    }\n",
       "</style>\n",
       "<table border=\"1\" class=\"dataframe\">\n",
       "  <thead>\n",
       "    <tr style=\"text-align: right;\">\n",
       "      <th></th>\n",
       "      <th>Age</th>\n",
       "      <th>BodyweightKg</th>\n",
       "      <th>BestSquatKg</th>\n",
       "      <th>BestDeadliftKg</th>\n",
       "      <th>Sex_M</th>\n",
       "      <th>Equipment_Raw</th>\n",
       "      <th>Equipment_Wraps</th>\n",
       "    </tr>\n",
       "  </thead>\n",
       "  <tbody>\n",
       "    <tr>\n",
       "      <th>21753</th>\n",
       "      <td>48</td>\n",
       "      <td>106.80</td>\n",
       "      <td>270.0</td>\n",
       "      <td>255.00</td>\n",
       "      <td>1</td>\n",
       "      <td>0</td>\n",
       "      <td>1</td>\n",
       "    </tr>\n",
       "    <tr>\n",
       "      <th>251</th>\n",
       "      <td>39</td>\n",
       "      <td>107.23</td>\n",
       "      <td>225.0</td>\n",
       "      <td>272.00</td>\n",
       "      <td>1</td>\n",
       "      <td>1</td>\n",
       "      <td>0</td>\n",
       "    </tr>\n",
       "    <tr>\n",
       "      <th>22941</th>\n",
       "      <td>20</td>\n",
       "      <td>82.50</td>\n",
       "      <td>158.0</td>\n",
       "      <td>206.38</td>\n",
       "      <td>1</td>\n",
       "      <td>0</td>\n",
       "      <td>1</td>\n",
       "    </tr>\n",
       "    <tr>\n",
       "      <th>618</th>\n",
       "      <td>29</td>\n",
       "      <td>68.00</td>\n",
       "      <td>132.0</td>\n",
       "      <td>130.00</td>\n",
       "      <td>0</td>\n",
       "      <td>1</td>\n",
       "      <td>0</td>\n",
       "    </tr>\n",
       "    <tr>\n",
       "      <th>17090</th>\n",
       "      <td>19</td>\n",
       "      <td>61.98</td>\n",
       "      <td>107.0</td>\n",
       "      <td>120.00</td>\n",
       "      <td>0</td>\n",
       "      <td>1</td>\n",
       "      <td>0</td>\n",
       "    </tr>\n",
       "    <tr>\n",
       "      <th>...</th>\n",
       "      <td>...</td>\n",
       "      <td>...</td>\n",
       "      <td>...</td>\n",
       "      <td>...</td>\n",
       "      <td>...</td>\n",
       "      <td>...</td>\n",
       "      <td>...</td>\n",
       "    </tr>\n",
       "    <tr>\n",
       "      <th>29802</th>\n",
       "      <td>15</td>\n",
       "      <td>67.10</td>\n",
       "      <td>146.0</td>\n",
       "      <td>160.00</td>\n",
       "      <td>1</td>\n",
       "      <td>0</td>\n",
       "      <td>1</td>\n",
       "    </tr>\n",
       "    <tr>\n",
       "      <th>5390</th>\n",
       "      <td>15</td>\n",
       "      <td>66.63</td>\n",
       "      <td>127.0</td>\n",
       "      <td>127.00</td>\n",
       "      <td>0</td>\n",
       "      <td>0</td>\n",
       "      <td>0</td>\n",
       "    </tr>\n",
       "    <tr>\n",
       "      <th>860</th>\n",
       "      <td>30</td>\n",
       "      <td>73.30</td>\n",
       "      <td>150.0</td>\n",
       "      <td>180.00</td>\n",
       "      <td>1</td>\n",
       "      <td>1</td>\n",
       "      <td>0</td>\n",
       "    </tr>\n",
       "    <tr>\n",
       "      <th>15795</th>\n",
       "      <td>25</td>\n",
       "      <td>99.70</td>\n",
       "      <td>202.0</td>\n",
       "      <td>227.50</td>\n",
       "      <td>1</td>\n",
       "      <td>1</td>\n",
       "      <td>0</td>\n",
       "    </tr>\n",
       "    <tr>\n",
       "      <th>23654</th>\n",
       "      <td>17</td>\n",
       "      <td>97.90</td>\n",
       "      <td>195.0</td>\n",
       "      <td>227.50</td>\n",
       "      <td>1</td>\n",
       "      <td>1</td>\n",
       "      <td>0</td>\n",
       "    </tr>\n",
       "  </tbody>\n",
       "</table>\n",
       "<p>24000 rows × 7 columns</p>\n",
       "</div>"
      ],
      "text/plain": [
       "       Age  BodyweightKg  BestSquatKg  BestDeadliftKg  Sex_M  Equipment_Raw  \\\n",
       "21753   48        106.80        270.0          255.00      1              0   \n",
       "251     39        107.23        225.0          272.00      1              1   \n",
       "22941   20         82.50        158.0          206.38      1              0   \n",
       "618     29         68.00        132.0          130.00      0              1   \n",
       "17090   19         61.98        107.0          120.00      0              1   \n",
       "...    ...           ...          ...             ...    ...            ...   \n",
       "29802   15         67.10        146.0          160.00      1              0   \n",
       "5390    15         66.63        127.0          127.00      0              0   \n",
       "860     30         73.30        150.0          180.00      1              1   \n",
       "15795   25         99.70        202.0          227.50      1              1   \n",
       "23654   17         97.90        195.0          227.50      1              1   \n",
       "\n",
       "       Equipment_Wraps  \n",
       "21753                1  \n",
       "251                  0  \n",
       "22941                1  \n",
       "618                  0  \n",
       "17090                0  \n",
       "...                ...  \n",
       "29802                1  \n",
       "5390                 0  \n",
       "860                  0  \n",
       "15795                0  \n",
       "23654                0  \n",
       "\n",
       "[24000 rows x 7 columns]"
      ]
     },
     "execution_count": 142,
     "metadata": {},
     "output_type": "execute_result"
    }
   ],
   "source": [
    "#### When we compare different feature analysis, we see that it's best not to touch X_train data and use all the features in our model. \n",
    "# So our train data is :\n",
    "X_train"
   ]
  },
  {
   "cell_type": "code",
   "execution_count": 145,
   "id": "5af5098c-c8b4-4381-8e08-d05f26202561",
   "metadata": {},
   "outputs": [],
   "source": [
    "### Support Vector Regression is very useful and gives %88 r2 score that means our data can explain %88 of the variance."
   ]
  },
  {
   "cell_type": "code",
   "execution_count": null,
   "id": "0df041ce-29d1-4b38-8d53-7703d6fcac94",
   "metadata": {},
   "outputs": [],
   "source": [
    "s"
   ]
  }
 ],
 "metadata": {
  "kernelspec": {
   "display_name": "Python 3 (ipykernel)",
   "language": "python",
   "name": "python3"
  },
  "language_info": {
   "codemirror_mode": {
    "name": "ipython",
    "version": 3
   },
   "file_extension": ".py",
   "mimetype": "text/x-python",
   "name": "python",
   "nbconvert_exporter": "python",
   "pygments_lexer": "ipython3",
   "version": "3.9.7"
  }
 },
 "nbformat": 4,
 "nbformat_minor": 5
}
